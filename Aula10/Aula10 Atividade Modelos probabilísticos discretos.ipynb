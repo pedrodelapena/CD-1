{
 "cells": [
  {
   "cell_type": "markdown",
   "metadata": {},
   "source": [
    "___\n",
    "# Atividade: Modelos probabilísticos discretos e Dados\n",
    "___\n",
    "\n",
    "## Aula 10\n",
    "\n",
    "**Referência de Leitura:**\n",
    "1. Magalhães e Lima (7ª. Edição): Seções 3.2 e 3.3\n",
    "\n",
    "**Hoje:**\n",
    "1.\tDescrever modelos discretos quanto aos resultados teóricos.\n",
    "2.\tExplicar a utilização de modelos probabilísticos no contexto da literatura estatística.\n",
    "3.\tContrastar resultados teóricos e empíricos.\n",
    "4.\tFechamento do conteúdo.\n",
    "\n",
    "**Próxima aula:**\n",
    "1. Leitura prévia necessária: Magalhães e Lima (7ª. Edição): Seção 5.1 (pág. 137) e Seção 5.2 (pág. 146).\n",
    "___"
   ]
  },
  {
   "cell_type": "code",
   "execution_count": 1,
   "metadata": {
    "collapsed": true
   },
   "outputs": [],
   "source": [
    "%matplotlib inline\n",
    "import pandas as pd\n",
    "import matplotlib.pyplot as plt\n",
    "\n",
    "from scipy import stats #importa apenas as funções de estatísticas da biblioteca SciPy.\n",
    "import itertools #importante para gerar todos os resultados possíveis!!\n"
   ]
  },
  {
   "cell_type": "markdown",
   "metadata": {},
   "source": [
    "___\n",
    "## <font color='blue'>Exercício 1</font>\n",
    "\n",
    "Um resistor de 100K Ohms comprado na Santa Ifigênia tem probabilidade de falha de 5%, segundo um fabricante ruim.\n",
    "\n",
    "Ainda, assuma os resistores falham de forma independente entre si.\n",
    "\n",
    "Um aluno de engenharia compra um pacote contendo $n$ resistores.\n",
    "\n",
    "1. Assuma $n=3$ e faça os itens a seguir.\n",
    "  1. Monte o espaço amostral que combine todos os resultados possíveis de Falha e não Falha desses $n$ resistores. Ainda, calcule a probabilidade de cada resultado do espaço amostral acontecer.\n",
    "  2. Se $Y$ representa o número de resistores que falham em um pacotinho com $n$ resistores, então construa a distribuição de probabilidades de $Y$.\n",
    "  3. Calcule a média e o desvio padrão de $Y$. Interprete os resultados.\n",
    "    \n",
    "2. Assuma $n=7$ e repita os itens A) a C) anteriores. No caso de $n=7$ ou maiores quantidades de resistores em um pacotinho, qual a viabilidade de construir a distribuição de probabilidades do número de resistores com defeitos quando $n$ não é pequeno?\n",
    "    \n",
    "3. Encontre a distribuição de probabilidades de cada possível valor de $Y$ utilizando a distribuição Binomial para $n=3$ e $n=7$. Calcule também $E(X)$ e $Var(X)$. Compare com as distribuições de probabilidades obtidas nos itens anteriores e discuta porque esses valores são iguais ou diferentes!\n",
    "    \n",
    "> **DISTRIBUIÇÃO BINOMIAL - TEORIA:**\n",
    "\n",
    "> É responsável por modelar uma variável $Y$ definida pelo Número de sucessos em $n$ tentativas, cuja probabilidade de sucesso é dada por $p$. Assim, dizemos que $Y$~$Bin(n,p)$ e lê-se: $Y$ segue uma distribuição binomial com $n$ tentativas e $p$ como probabilidade de sucesso. \n",
    "\n",
    "> A função de probabilidade nesse caso é dada por:\n",
    "$P(Y=y)=\\left(\n",
    "\\begin{array}{c}\n",
    "    n \\\\\n",
    "    y\n",
    "\\end{array}\\right) p^y (1-p)^{(n-y)}$\n",
    "\n",
    "> Para um experimento ter as probabilidade dos números de sucessos modeladas por uma distribuição Binomial, o mesmo precisa ter as seguintes propriedades:\n",
    "* é uma contagem de $n$ repetições (ou tentativas ou ensaios) idênticas;\n",
    "* cada repetição tem apenas 2 resultados possíveis: um é denominado sucesso e o outro, fracasso;\n",
    "* a probabilidade de sucesso para cada ensaio é denominada $p$ e será constante em cada repetição. Então, a probabilidade de fracasso $(1-p)$ também não varia de tentativa para tentativa;\n",
    "* As tentativas são independentes.\n",
    "\n",
    "\n",
    "> **DISTRIBUIÇÃO BINOMIAL - PYTHON:** <sup> [https://en.wikipedia.org/wiki/SciPy]\n",
    "\n",
    "> Algumas funções úteis para desenvolver seu código: <sup> [http://docs.scipy.org/doc/scipy-0.16.1/reference/generated/scipy.stats.binom.html]\n",
    "* $P(Y=y)$: `stats.binom.pmf(y, n, p)`\n",
    "* $P(Y\\leq y)$: `stats.binom.cdf(y, n, p)`\n",
    "* $E(X)$ e $Var(X)$: `stats.binom.stats(n, p, moments='mv')`\n"
   ]
  },
  {
   "cell_type": "code",
   "execution_count": 2,
   "metadata": {
    "collapsed": false
   },
   "outputs": [
    {
     "data": {
      "text/plain": [
       "[('Funfa', 'Funfa', 'Funfa'),\n",
       " ('Funfa', 'Funfa', 'NaumFunfa'),\n",
       " ('Funfa', 'NaumFunfa', 'Funfa'),\n",
       " ('Funfa', 'NaumFunfa', 'NaumFunfa'),\n",
       " ('NaumFunfa', 'Funfa', 'Funfa'),\n",
       " ('NaumFunfa', 'Funfa', 'NaumFunfa'),\n",
       " ('NaumFunfa', 'NaumFunfa', 'Funfa'),\n",
       " ('NaumFunfa', 'NaumFunfa', 'NaumFunfa')]"
      ]
     },
     "execution_count": 2,
     "metadata": {},
     "output_type": "execute_result"
    }
   ],
   "source": [
    "#item 1\n",
    "n=3\n",
    "possible = [\"Funfa\",\"NaumFunfa\"]\n",
    "prob = {\"Funfa\":0.95,\"NaumFunfa\":0.05}\n",
    "arranjos = itertools.product(possible,repeat = n)\n",
    "espaco_amostral = list(arranjos)\n",
    "espaco_amostral\n"
   ]
  },
  {
   "cell_type": "code",
   "execution_count": 3,
   "metadata": {
    "collapsed": false
   },
   "outputs": [
    {
     "data": {
      "text/plain": [
       "[0.8573749999999999,\n",
       " 0.045125,\n",
       " 0.045125,\n",
       " 0.0023750000000000004,\n",
       " 0.045125,\n",
       " 0.0023750000000000004,\n",
       " 0.0023750000000000004,\n",
       " 0.00012500000000000003]"
      ]
     },
     "execution_count": 3,
     "metadata": {},
     "output_type": "execute_result"
    }
   ],
   "source": [
    "probability = []\n",
    "\n",
    "for res in espaco_amostral:\n",
    "    p = 1\n",
    "    for e in res:\n",
    "        p*=prob[e]\n",
    "    probability.append(p)\n",
    "\n",
    "probability"
   ]
  },
  {
   "cell_type": "code",
   "execution_count": 4,
   "metadata": {
    "collapsed": false
   },
   "outputs": [
    {
     "name": "stdout",
     "output_type": "stream",
     "text": [
      "Resistores: 0  Probabilidade 0.00013 \n",
      "Resistores: 1  Probabilidade 0.00713 \n",
      "Resistores: 2  Probabilidade 0.13537 \n",
      "Resistores: 3  Probabilidade 0.85737 \n"
     ]
    }
   ],
   "source": [
    "Valores = {}\n",
    "\n",
    "for resultados in range(len(espaco_amostral)):\n",
    "    quantidade = espaco_amostral[resultados].count(\"Funfa\")\n",
    "    if(quantidade in Valores):\n",
    "        Valores[quantidade] += probability[resultados]\n",
    "    else:\n",
    "        Valores[quantidade] = probability[resultados]\n",
    "\n",
    "for k in Valores:\n",
    "    print(\"Resistores:\", k, \" Probabilidade\", \"%6.5f \"%Valores[k])"
   ]
  },
  {
   "cell_type": "code",
   "execution_count": 5,
   "metadata": {
    "collapsed": false
   },
   "outputs": [
    {
     "name": "stdout",
     "output_type": "stream",
     "text": [
      "Media de 0.15000000000000002  Resistores queimados.\n",
      "O desvio padrão é de: 2.85\n"
     ]
    }
   ],
   "source": [
    "\n",
    "Media = n * (0.05)\n",
    "print(\"Media de\",Media,\" Resistores queimados.\")\n",
    "\n",
    "Desvio_padrão = ((n - (0.05 * n)))\n",
    "print(\"O desvio padrão é de:\",Desvio_padrão)"
   ]
  },
  {
   "cell_type": "code",
   "execution_count": 6,
   "metadata": {
    "collapsed": false
   },
   "outputs": [],
   "source": [
    "#item 2\n",
    "n=7"
   ]
  },
  {
   "cell_type": "markdown",
   "metadata": {
    "collapsed": true
   },
   "source": [
    "___\n",
    "## <font color='blue'>Exercício 2</font>\n",
    "\n",
    "Uma fábrica produz determinado veículo. O gerente de vendas fechou um negócio que implica na produção de pelo menos 110 unidades nos próximos dois meses. Para isso, será construída uma nova linha de montagem com capacidade para produzir em média 50 veículos por mês (considere meses de 30 dias). A linha funcionará ininterruptamente. Além disso, apenas um veículo é produzido por vez. Considere que um modelo Poisson seja adequado para a quantidade de veículos produzidos.\n",
    "   1. Qual a probabilidade  da produção ser igual a 100 veículos nos próximos dois meses?\n",
    "   2. Qual a probabilidade  da produção ser de pelo menos 100 veículos nos próximos dois meses?\n",
    "   3. Qual a probabilidade da produção ser entre 100 e 110 veículos nos próximos dois meses?\n",
    "   4. Se forem produzidos de pelo menos 100 veículos no próximo mês, qual a probabilidade do gerente cumprir a meta negociada?\n",
    "   5. Caso o prazo seja cumprido, o lucro será da ordem de $250$ mil, caso não seja, o lucro cai para $200$ mil. Qual é o lucro esperado e seu desvio-padrão?\n",
    "\n",
    "**Observação:** Explore os comandos de `stats.poisson`. <sup>[http://docs.scipy.org/doc/scipy/reference/generated/scipy.stats.poisson.html]\n"
   ]
  },
  {
   "cell_type": "code",
   "execution_count": null,
   "metadata": {
    "collapsed": true
   },
   "outputs": [],
   "source": []
  },
  {
   "cell_type": "markdown",
   "metadata": {},
   "source": [
    "___\n",
    "## <font color='blue'>Exercício 3</font> \n",
    "### <font color='red'>**Check para dia 13/09 em DUPLA **</font>\n",
    "\n",
    "Esse exercício irá explorar uma modelagem de dados reais.\n",
    "\n",
    "> **Confira alguns itens obrigatórios verificados durante a vistoria do Detran**\n",
    "\n",
    "> *Todos os veículos, novos ou velhos, precisam passar por uma vistoria todos os anos. (...) O motorista precisa estar atento a alguns itens obrigatórios. Tudo deve funcionar perfeitamente, apresentar bom estado de conservação e estar dentro do prazo de validade.*\n",
    "\n",
    "> <sup>Fonte: http://extra.globo.com/noticias/brasil/transito-seguro/confira-alguns-itens-obrigatorios-verificados-durante-vistoria-do-detran-10190355.html</sup>\n",
    "\n",
    "Essa matéria lista 14 itens que são inspecionados pelo Detran, dentre os quais têm-se: extintor de incêndio deve estar dentro do prazo de validade; pneus devem estar em bom estado de conservação; buzina deve funcionar perfeitamente; e cintos de segurança para todos os ocupantes do carro. Se, no final das contas, todos os 14 itens estiverem funcionando perfeitamente, o motorista irá feliz para casa assegurado de que seu carro está sem problemas com a vistoria.\n",
    "\n",
    "1. A base de dados `Carros.txt` apresenta, para cada um dos três mil carros de passeio vistoriados, duas informações: tipo de carro (1: Popular e 2: Não Popular) e quantidade de itens vistoriados em não conformidade (que pode variar de 0 a 14). \n",
    "    1. Considerando todos os carros, analise a quantidade de itens vistoriados em não conformidade. Pela tabela de frequências relativas, calcule a média e variância dessa quantidade. Interprete-os.\n",
    "    2. Assuma que a variável *Quantidade de itens em não conformidade* possa ser ajustada pelo modelo Binomial com parâmetros $n=14$ e $p=0,10$. Interprete esses parâmetros para o problema em questão e, ainda, discuta se as propriedades da distribuição Binomial estão satisfeitas para o problema aqui me questão.\n",
    "    \n",
    "    **Independente da sua resposta anterior, considere que a distribuição binomial seja adequada para modelar a variável de interesse nos próximos itens!**\n",
    "    3. Utilizando o método `stats.binom.pmf`, obtenha a probabilidade de cada uma das quantidades de itens em não conformidade quando $n=14$ e $p=0,10$. Calcule o valor esperado e a variância da quantidade de itens em não conformidade utilizando o método `stats.binom.stats` e via resultado da Tabela 4.4 do Magalhães e Lima (pág. 125).\n",
    "    4. Compare as probabilidades teóricas com as frequências relativas observadas nos dados. Para isso, tem-se, por exemplo, as duas opções abaixo para comparar se os resultados empíricos se encaixam com o modelo teórico proposto. \n",
    "        - A primeira opção gráfica contrasta a frequência relativa e a probabilidade teórica para uma determinada quantidade de itens em não conformidade! Vide Figura 3.4 do livro Magalhães e Lima (pág. 87). Ou seja, essa opção contrasta a frequência relativa em um valor de $y$ e a probabilidade pontual $P(Y=y)$.\n",
    "        - A segunda contrasta a frequência relativa acumulada com a probabilidade acumulada até determinada quantidade de itens em não conformidade. Ou seja, compara a frequência relativa acumulada até $y$ com a probabilidade acumulada $P(Y\\leq y)$.\n",
    "    Construa os gráficos de acordo com as duas opções e refine sua conclusão quanto ao uso do modelo teórico para ajustar a variável em questão!\n",
    "    5. Na prática, qual a necessidade de um modelo probabilístico já que se têm os dados observados?\n",
    "    6. Considerando apenas os carros populares, o modelo Binomial com parâmetros $n=14$ e $p=0,10$ é adequado para ajustar a variável Quantidade de itens em não conformidade? Se sim, justifique; caso não, sugira novos valores para os parâmetros da distribuição ajuste aos dados."
   ]
  },
  {
   "cell_type": "code",
   "execution_count": 7,
   "metadata": {
    "collapsed": false
   },
   "outputs": [
    {
     "name": "stdout",
     "output_type": "stream",
     "text": [
      "Esperamos trabalhar no diretório\n",
      "C:\\Users\\Jean Luca\\Desktop\\Aula10\n"
     ]
    }
   ],
   "source": [
    "import os\n",
    "print('Esperamos trabalhar no diretório')\n",
    "print(os.getcwd())\n",
    "carros = pd.read_table('Carros.txt', sep=' ')"
   ]
  },
  {
   "cell_type": "code",
   "execution_count": 8,
   "metadata": {
    "collapsed": false
   },
   "outputs": [
    {
     "name": "stdout",
     "output_type": "stream",
     "text": [
      "A média é: 1.3713333333333333\n",
      "A variancia é: 1.5799715460709343\n"
     ]
    }
   ],
   "source": [
    "#Item a\n",
    "print(\"A média é:\" , carros[\"Quantidade\"].mean())\n",
    "print(\"A variancia é:\" , carros.Quantidade.var())"
   ]
  },
  {
   "cell_type": "code",
   "execution_count": 9,
   "metadata": {
    "collapsed": false
   },
   "outputs": [],
   "source": [
    "#item b\n",
    "\n",
    "#de acordo com o modelo, a probabilidade de cada um dos 14 itens que podem esyar irregulares estarem, de fato, irregulares\n",
    "#é de 10%.\n",
    "\n",
    "#Se olharmos a tabela, a chance de algum carro aleatorio ter ao menos uma irregularidade é alta, porem a chance de\n",
    "#haver varias irregularidades tambem é baixa, ja que a media tende a um valor especifico."
   ]
  },
  {
   "cell_type": "code",
   "execution_count": 22,
   "metadata": {
    "collapsed": false
   },
   "outputs": [
    {
     "name": "stdout",
     "output_type": "stream",
     "text": [
      "A probabilidade de haver 0 erros é de: 0.22876792455\n",
      "A probabilidade de haver 1 erros é de: 0.355861215966\n",
      "A probabilidade de haver 2 erros é de: 0.257010878198\n",
      "A probabilidade de haver 3 erros é de: 0.114227056977\n",
      "A probabilidade de haver 4 erros é de: 0.034902711854\n",
      "A probabilidade de haver 5 erros é de: 0.00775615818978\n",
      "A probabilidade de haver 6 erros é de: 0.00129269303163\n",
      "A probabilidade de haver 7 erros é de: 0.00016415149608\n",
      "A probabilidade de haver 8 erros é de: 1.595917323e-05\n",
      "A probabilidade de haver 9 erros é de: 1.18216098e-06\n",
      "A probabilidade de haver 10 erros é de: 6.567561e-08\n",
      "A probabilidade de haver 11 erros é de: 2.65356e-09\n",
      "A probabilidade de haver 12 erros é de: 7.371e-11\n",
      "A probabilidade de haver 13 erros é de: 1.26e-12\n",
      "a esperança é de: 1.2600000000000002\n",
      "a variancia é de: 1.4000000000000001\n",
      "o desvio padrão é de: 1.18321595662\n"
     ]
    }
   ],
   "source": [
    "#item c\n",
    "valores = range(0,14)\n",
    "for i in valores:\n",
    "    print(\"A probabilidade de haver\",i,\"erros é de:\",stats.binom.pmf(i,14,0.1))\n",
    "\n",
    "print(\"a esperança é de:\",stats.binom.stats(14,0.1,moments='mv')[1])\n",
    "\n",
    "print(\"a variancia é de:\",stats.binom.stats(14,0.1,moments='mv')[0])\n",
    "\n",
    "print(\"o desvio padrão é de:\",stats.binom.stats(14,0.1,moments='mv')[0]**(0.5))"
   ]
  },
  {
   "cell_type": "code",
   "execution_count": 26,
   "metadata": {
    "collapsed": false
   },
   "outputs": [
    {
     "data": {
      "image/png": "[encoded data removed]",
      "text/plain": [
       "<matplotlib.figure.Figure at 0x1187b5aceb8>"
      ]
     },
     "metadata": {},
     "output_type": "display_data"
    },
    {
     "data": {
      "image/png": "[encoded data removed]",
      "text/plain": [
       "<matplotlib.figure.Figure at 0x1187b693518>"
      ]
     },
     "metadata": {},
     "output_type": "display_data"
    },
    {
     "name": "stdout",
     "output_type": "stream",
     "text": [
      "Comparando os dois graficos, podemos perceber que a distribuição teorica se aproxima\n",
      "da prova empirica, por isso podemos concluir que o modelo teorico é razoavel para o sistema analisado.\n"
     ]
    }
   ],
   "source": [
    "#item d\n",
    "esperada = stats.binom.pmf(valores, 14,0.1)\n",
    "pd.DataFrame(esperada).plot.bar(title = \"Probabilidades\",legend = ((1 == 2) != False)^False)\n",
    "plt.show()\n",
    "((carros.Quantidade.value_counts()).reindex(range(0,15))/3000).plot.bar(title =\"Valores empiricos\" )\n",
    "plt.show()\n",
    "print(\"Comparando os dois graficos, podemos perceber que a distribuição teorica se aproxima\\nda prova empirica, por isso podemos concluir que o modelo teorico é razoavel para o sistema analisado.\")"
   ]
  },
  {
   "cell_type": "code",
   "execution_count": 12,
   "metadata": {
    "collapsed": false
   },
   "outputs": [
    {
     "name": "stdout",
     "output_type": "stream",
     "text": [
      "\n",
      "    quando usamos modelos impiricos,lidamos com imprecisões e aleatoriedades, usando um modelo teorico, podemos\n",
      "compreender o que esta acontecendo e ainda modelar em cima dele, assim prevendo tambem não so o sistema analisado,\n",
      "mas tambem, outros sitemas semelhantes com variaveis diferentes ou condiçoes diversas.\n",
      "\n"
     ]
    }
   ],
   "source": [
    "#item E\n",
    "print(\"\"\"\n",
    "    quando usamos modelos impiricos,lidamos com imprecisões e aleatoriedades, usando um modelo teorico, podemos\n",
    "compreender o que esta acontecendo e ainda modelar em cima dele, assim prevendo tambem não so o sistema analisado,\n",
    "mas tambem, outros sitemas semelhantes com variaveis diferentes ou condiçoes diversas.\n",
    "\"\"\")"
   ]
  },
  {
   "cell_type": "code",
   "execution_count": 30,
   "metadata": {
    "collapsed": false
   },
   "outputs": [
    {
     "data": {
      "image/png": "[encoded data removed]",
      "text/plain": [
       "<matplotlib.figure.Figure at 0x1187a3fe7b8>"
      ]
     },
     "metadata": {},
     "output_type": "display_data"
    },
    {
     "data": {
      "image/png": "[encoded data removed]",
      "text/plain": [
       "<matplotlib.figure.Figure at 0x1187b5ec2e8>"
      ]
     },
     "metadata": {},
     "output_type": "display_data"
    }
   ],
   "source": [
    "#Item F\n",
    "\n",
    "data = carros[carros.Tipo == 1]\n",
    "data\n",
    "((data.Quantidade.value_counts()).reindex(range(0,15))/1800).plot.bar(title =\"Valores empiricos para carros de populares\" ,color='r')\n",
    "pd.DataFrame(esperada).plot.bar(title = \"Probabilidades\",legend = ((1 == 2) != False)^False)\n",
    "plt.show()\n"
   ]
  },
  {
   "cell_type": "code",
   "execution_count": 14,
   "metadata": {
    "collapsed": false
   },
   "outputs": [
    {
     "name": "stdout",
     "output_type": "stream",
     "text": [
      "\n",
      "podemos ver que na verdade, os carros populares seguem mais ainda o lei teorica do que os carros chiques\n",
      "(representados no plot abaixo), isso mostra que os carros populares estão mais sujeitos a pura probabilidade\n",
      "de ter irregularidades, enquantos os carros mais chiques, tem influencias de seus donos para que não tenham essas\n",
      "irregularidades.\n",
      "resumindo: compre carros chiques que vc não tera tantas dores e cabeça :P\n",
      "resumindo o resumo: seja rico ;)\n",
      "\n"
     ]
    },
    {
     "data": {
      "text/plain": [
       "<matplotlib.axes._subplots.AxesSubplot at 0x1187a469eb8>"
      ]
     },
     "execution_count": 14,
     "metadata": {},
     "output_type": "execute_result"
    },
    {
     "data": {
      "image/png": "[encoded data removed]",
      "text/plain": [
       "<matplotlib.figure.Figure at 0x11879a90198>"
      ]
     },
     "metadata": {},
     "output_type": "display_data"
    }
   ],
   "source": [
    "print(\"\"\"\n",
    "podemos ver que na verdade, os carros populares seguem mais ainda o lei teorica do que os carros chiques\n",
    "(representados no plot abaixo), isso mostra que os carros populares estão mais sujeitos a pura probabilidade\n",
    "de ter irregularidades, enquantos os carros mais chiques, tem influencias de seus donos para que não tenham essas\n",
    "irregularidades.\n",
    "resumindo: compre carros chiques que vc não tera tantas dores e cabeça :P\n",
    "resumindo o resumo: seja rico ;)\n",
    "\"\"\")\n",
    "data = carros[carros.Tipo == 2]\n",
    "data\n",
    "((data.Quantidade.value_counts()).reindex(range(0,15))/1200).plot.bar(title =\"Valores empiricos para carros chiques\" )"
   ]
  },
  {
   "cell_type": "code",
   "execution_count": 35,
   "metadata": {
    "collapsed": false
   },
   "outputs": [
    {
     "name": "stdout",
     "output_type": "stream",
     "text": [
      "\n",
      "o ninja falou que quando filtramos o tipo de carro a probabilidade para de valer, e como ele me convenceu sem nunca\n",
      "ameaçar minha nota, vou aceitar esse fato e fazer a estimativa...\n",
      "\n",
      "vendo os dois graficos, o de probabilidade e o teorico, podemos ver que a escala e o formato estão levemente diferentes,\n",
      "essa difere,ça vem do fato de que os dados foram filtrados para um grupo especifico, então o modelo teorico deve\n",
      "tambem sofrer alterações.\n",
      "\n"
     ]
    },
    {
     "data": {
      "image/png": "[encoded data removed]",
      "text/plain": [
       "<matplotlib.figure.Figure at 0x1187b62a8d0>"
      ]
     },
     "metadata": {},
     "output_type": "display_data"
    },
    {
     "data": {
      "image/png": "[encoded data removed]",
      "text/plain": [
       "<matplotlib.figure.Figure at 0x1187bacbbe0>"
      ]
     },
     "metadata": {},
     "output_type": "display_data"
    },
    {
     "name": "stdout",
     "output_type": "stream",
     "text": [
      "Comparação abaixo:\n"
     ]
    },
    {
     "data": {
      "text/plain": [
       "<matplotlib.axes._subplots.AxesSubplot at 0x1187b8ae438>"
      ]
     },
     "execution_count": 35,
     "metadata": {},
     "output_type": "execute_result"
    },
    {
     "data": {
      "image/png": "[encoded data removed]",
      "text/plain": [
       "<matplotlib.figure.Figure at 0x1187bad2828>"
      ]
     },
     "metadata": {},
     "output_type": "display_data"
    }
   ],
   "source": [
    "print(\"\"\"\n",
    "o ninja falou que quando filtramos o tipo de carro a probabilidade para de valer, e como ele me convenceu sem nunca\n",
    "ameaçar minha nota, vou aceitar esse fato e fazer a estimativa...\n",
    "\n",
    "vendo os dois graficos, o de probabilidade e o teorico, podemos ver que a escala e o formato estão levemente diferentes,\n",
    "essa difere,ça vem do fato de que os dados foram filtrados para um grupo especifico, então o modelo teorico deve\n",
    "tambem sofrer alterações.\n",
    "\"\"\")\n",
    "\n",
    "((data.Quantidade.value_counts()).reindex(range(0,15))/1800).plot.bar(title =\"Valores empiricos para carros de populares\" ,color='r')\n",
    "\n",
    "\n",
    "#estimativa de p = 0.14 (pq catorze é o do ro de 7, e a metade de 28)\n",
    "esperada14 = stats.binom.pmf(valores, 14,0.14)\n",
    "pd.DataFrame(esperada14).plot.bar(title = \"Probabilidades\",legend = ((1 == 2) != False)^False)\n",
    "plt.show()\n",
    "\n",
    "print(\"Comparação abaixo:\")\n",
    "\n",
    "pd.DataFrame(esperada14).plot.bar(title = \"Probabilidades\",legend = ((1 == 2) != False)^False,alpha = 0.4)\n",
    "((data.Quantidade.value_counts()).reindex(range(0,15))/1800).plot.bar(title =\"compração de estimativa 14 para\\ncarros populares\" ,color='r',alpha = 0.4)\n"
   ]
  },
  {
   "cell_type": "code",
   "execution_count": null,
   "metadata": {
    "collapsed": true
   },
   "outputs": [],
   "source": []
  }
 ],
 "metadata": {
  "anaconda-cloud": {},
  "kernelspec": {
   "display_name": "Python [Root]",
   "language": "python",
   "name": "Python [Root]"
  },
  "language_info": {
   "codemirror_mode": {
    "name": "ipython",
    "version": 3
   },
   "file_extension": ".py",
   "mimetype": "text/x-python",
   "name": "python",
   "nbconvert_exporter": "python",
   "pygments_lexer": "ipython3",
   "version": "3.5.2"
  }
 },
 "nbformat": 4,
 "nbformat_minor": 0
}
