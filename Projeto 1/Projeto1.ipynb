{
 "cells": [
  {
   "cell_type": "markdown",
   "metadata": {},
   "source": [
    "___\n",
    "# PROJETO 1"
   ]
  },
  {
   "cell_type": "markdown",
   "metadata": {},
   "source": [
    "## <font color='red'>Eduardo Ferrari Magalhães</font>\n",
    "___"
   ]
  },
  {
   "cell_type": "markdown",
   "metadata": {},
   "source": [
    "## <font color='blue'>Fatores que determinam a expectativa de vida dos aposentados</font>"
   ]
  },
  {
   "cell_type": "markdown",
   "metadata": {},
   "source": [
    "## Introdução\n",
    "\n",
    "Diversas pesquisas são feitas com o objetivo de descobrir fatores que ajudam a prolongar a vida das pessoas.\n",
    "Um dos mais conhecidos deles é: se manter ativo após a aposentadoria ajuda a manter a saude mental e fisica e, portanto a pospor o inevitavel, a morte.\n",
    "\n",
    "Dessa forma esse projeto se dedica a verificar que tipo de fatores de fato estão relacionados com a longevidade, visando atividade economica, renda, idade de inicio no trabalho, educação, região do país e familiriadade com a tecnologia.\n",
    "\n",
    "Para isso o projeto foca em especial os aposentados, grupo que supostamente seria o menos ativo da população e verifica se existem relações entre determinadas ações e as idades atingidas por quem pratica e por quem não pratica cada atividade.\n",
    "\n",
    "Com isso a pesquisa \"Work Longer, Live Healthier\" de Gabriel H. Sahlgren publicada em May 2013 para fornecer espectativas dos dados que deveriam ser encontrados, uma vez que o perfil de aposentados não deveria variar muito entre paises, independente de suas diferenças socio economicas.\n",
    "\n",
    "Considerando as limitações do banco, e ao grande numero de pesquisas já firmadas sobre esses dados a maioria dos apectos relacionados diretamente a saude, como, fumar, praticar atividades fisicas e ingerir bebidas alcolicas em exesso, não foram consideradas"
   ]
  },
  {
   "cell_type": "code",
   "execution_count": 1,
   "metadata": {
    "collapsed": true
   },
   "outputs": [],
   "source": [
    "%matplotlib inline\n",
    "import pandas as pd\n",
    "import matplotlib.pyplot as plt\n",
    "import numpy as np\n",
    "import os"
   ]
  },
  {
   "cell_type": "code",
   "execution_count": 2,
   "metadata": {
    "collapsed": false
   },
   "outputs": [
    {
     "name": "stdout",
     "output_type": "stream",
     "text": [
      "Esperamos trabalhar no diretório\n",
      "C:\\Users\\edufe\\OneDrive\\Insper\\2° semestre\\Ciencia dos Dados\\Trabalho 2\n"
     ]
    }
   ],
   "source": [
    "print('Esperamos trabalhar no diretório')\n",
    "print(os.getcwd())"
   ]
  },
  {
   "cell_type": "markdown",
   "metadata": {},
   "source": [
    "___\n",
    "\n",
    "## Carregamento dos dataframes"
   ]
  },
  {
   "cell_type": "code",
   "execution_count": 3,
   "metadata": {
    "collapsed": true
   },
   "outputs": [],
   "source": [
    "#Leitura da base já em formato de DataFrame e extensão .csv\n",
    "pnad2001 = pd.read_csv('PES2001.csv', sep=',')"
   ]
  },
  {
   "cell_type": "code",
   "execution_count": 4,
   "metadata": {
    "collapsed": false
   },
   "outputs": [],
   "source": [
    "#Leitura da base já em formato de DataFrame e extensão .csv\n",
    "pnad2014 = pd.read_csv('PES2014.csv', sep=',')"
   ]
  },
  {
   "cell_type": "markdown",
   "metadata": {},
   "source": [
    "___\n",
    "\n",
    "## Verificação do carregamento dos dataframes\n",
    "Leitura desnecessaria para entedimento do projeto"
   ]
  },
  {
   "cell_type": "code",
   "execution_count": 5,
   "metadata": {
    "collapsed": false
   },
   "outputs": [
    {
     "name": "stderr",
     "output_type": "stream",
     "text": [
      "C:\\Users\\edufe\\Anaconda3\\lib\\site-packages\\numpy\\lib\\function_base.py:3834: RuntimeWarning: Invalid value encountered in percentile\n",
      "  RuntimeWarning)\n"
     ]
    },
    {
     "data": {
      "text/html": [
       "<div>\n",
       "<table border=\"1\" class=\"dataframe\">\n",
       "  <thead>\n",
       "    <tr style=\"text-align: right;\">\n",
       "      <th></th>\n",
       "      <th>v0101</th>\n",
       "      <th>uf</th>\n",
       "      <th>v0102</th>\n",
       "      <th>v0103</th>\n",
       "      <th>v0301</th>\n",
       "      <th>v0302</th>\n",
       "      <th>v3031</th>\n",
       "      <th>v3032</th>\n",
       "      <th>v3033</th>\n",
       "      <th>v8005</th>\n",
       "      <th>...</th>\n",
       "      <th>v2201</th>\n",
       "      <th>v2202</th>\n",
       "      <th>v1623</th>\n",
       "      <th>v1624</th>\n",
       "      <th>v1625</th>\n",
       "      <th>v1626</th>\n",
       "      <th>v1627</th>\n",
       "      <th>v1628</th>\n",
       "      <th>v1629</th>\n",
       "      <th>v1630</th>\n",
       "    </tr>\n",
       "  </thead>\n",
       "  <tbody>\n",
       "    <tr>\n",
       "      <th>count</th>\n",
       "      <td>378843.0</td>\n",
       "      <td>378843.000000</td>\n",
       "      <td>3.788430e+05</td>\n",
       "      <td>378843.000000</td>\n",
       "      <td>378842.000000</td>\n",
       "      <td>378841.000000</td>\n",
       "      <td>378841.000000</td>\n",
       "      <td>378841.000000</td>\n",
       "      <td>378841.000000</td>\n",
       "      <td>378841.000000</td>\n",
       "      <td>...</td>\n",
       "      <td>480.000000</td>\n",
       "      <td>480.000000</td>\n",
       "      <td>868.000000</td>\n",
       "      <td>401.000000</td>\n",
       "      <td>399.000000</td>\n",
       "      <td>393.000000</td>\n",
       "      <td>393.000000</td>\n",
       "      <td>86.000000</td>\n",
       "      <td>13006.000000</td>\n",
       "      <td>97014.000000</td>\n",
       "    </tr>\n",
       "    <tr>\n",
       "      <th>mean</th>\n",
       "      <td>2001.0</td>\n",
       "      <td>31.938742</td>\n",
       "      <td>3.193874e+07</td>\n",
       "      <td>9.588223</td>\n",
       "      <td>2.779383</td>\n",
       "      <td>3.028202</td>\n",
       "      <td>15.199427</td>\n",
       "      <td>6.657455</td>\n",
       "      <td>1952.907133</td>\n",
       "      <td>28.649162</td>\n",
       "      <td>...</td>\n",
       "      <td>9.222917</td>\n",
       "      <td>14.822917</td>\n",
       "      <td>2.475806</td>\n",
       "      <td>14.718204</td>\n",
       "      <td>1.897243</td>\n",
       "      <td>2.933842</td>\n",
       "      <td>3.442748</td>\n",
       "      <td>5.302326</td>\n",
       "      <td>2.923112</td>\n",
       "      <td>3.693271</td>\n",
       "    </tr>\n",
       "    <tr>\n",
       "      <th>std</th>\n",
       "      <td>0.0</td>\n",
       "      <td>10.663785</td>\n",
       "      <td>1.066379e+07</td>\n",
       "      <td>5.955057</td>\n",
       "      <td>1.754605</td>\n",
       "      <td>0.999608</td>\n",
       "      <td>8.879202</td>\n",
       "      <td>3.766509</td>\n",
       "      <td>213.948778</td>\n",
       "      <td>22.121316</td>\n",
       "      <td>...</td>\n",
       "      <td>28.340943</td>\n",
       "      <td>27.156469</td>\n",
       "      <td>1.781130</td>\n",
       "      <td>29.470458</td>\n",
       "      <td>2.495618</td>\n",
       "      <td>2.515401</td>\n",
       "      <td>2.052227</td>\n",
       "      <td>3.844231</td>\n",
       "      <td>0.564019</td>\n",
       "      <td>0.741429</td>\n",
       "    </tr>\n",
       "    <tr>\n",
       "      <th>min</th>\n",
       "      <td>2001.0</td>\n",
       "      <td>11.000000</td>\n",
       "      <td>1.100000e+07</td>\n",
       "      <td>0.000000</td>\n",
       "      <td>0.000000</td>\n",
       "      <td>1.000000</td>\n",
       "      <td>0.000000</td>\n",
       "      <td>1.000000</td>\n",
       "      <td>0.000000</td>\n",
       "      <td>0.000000</td>\n",
       "      <td>...</td>\n",
       "      <td>0.000000</td>\n",
       "      <td>0.000000</td>\n",
       "      <td>0.000000</td>\n",
       "      <td>0.000000</td>\n",
       "      <td>0.000000</td>\n",
       "      <td>0.000000</td>\n",
       "      <td>0.000000</td>\n",
       "      <td>0.000000</td>\n",
       "      <td>0.000000</td>\n",
       "      <td>0.000000</td>\n",
       "    </tr>\n",
       "    <tr>\n",
       "      <th>25%</th>\n",
       "      <td>2001.0</td>\n",
       "      <td>26.000000</td>\n",
       "      <td>2.600000e+07</td>\n",
       "      <td>5.000000</td>\n",
       "      <td>NaN</td>\n",
       "      <td>NaN</td>\n",
       "      <td>NaN</td>\n",
       "      <td>NaN</td>\n",
       "      <td>NaN</td>\n",
       "      <td>NaN</td>\n",
       "      <td>...</td>\n",
       "      <td>NaN</td>\n",
       "      <td>NaN</td>\n",
       "      <td>NaN</td>\n",
       "      <td>NaN</td>\n",
       "      <td>NaN</td>\n",
       "      <td>NaN</td>\n",
       "      <td>NaN</td>\n",
       "      <td>NaN</td>\n",
       "      <td>NaN</td>\n",
       "      <td>NaN</td>\n",
       "    </tr>\n",
       "    <tr>\n",
       "      <th>50%</th>\n",
       "      <td>2001.0</td>\n",
       "      <td>31.000000</td>\n",
       "      <td>3.100000e+07</td>\n",
       "      <td>9.000000</td>\n",
       "      <td>NaN</td>\n",
       "      <td>NaN</td>\n",
       "      <td>NaN</td>\n",
       "      <td>NaN</td>\n",
       "      <td>NaN</td>\n",
       "      <td>NaN</td>\n",
       "      <td>...</td>\n",
       "      <td>NaN</td>\n",
       "      <td>NaN</td>\n",
       "      <td>NaN</td>\n",
       "      <td>NaN</td>\n",
       "      <td>NaN</td>\n",
       "      <td>NaN</td>\n",
       "      <td>NaN</td>\n",
       "      <td>NaN</td>\n",
       "      <td>NaN</td>\n",
       "      <td>NaN</td>\n",
       "    </tr>\n",
       "    <tr>\n",
       "      <th>75%</th>\n",
       "      <td>2001.0</td>\n",
       "      <td>41.000000</td>\n",
       "      <td>4.100000e+07</td>\n",
       "      <td>14.000000</td>\n",
       "      <td>NaN</td>\n",
       "      <td>NaN</td>\n",
       "      <td>NaN</td>\n",
       "      <td>NaN</td>\n",
       "      <td>NaN</td>\n",
       "      <td>NaN</td>\n",
       "      <td>...</td>\n",
       "      <td>NaN</td>\n",
       "      <td>NaN</td>\n",
       "      <td>NaN</td>\n",
       "      <td>NaN</td>\n",
       "      <td>NaN</td>\n",
       "      <td>NaN</td>\n",
       "      <td>NaN</td>\n",
       "      <td>NaN</td>\n",
       "      <td>NaN</td>\n",
       "      <td>NaN</td>\n",
       "    </tr>\n",
       "    <tr>\n",
       "      <th>max</th>\n",
       "      <td>2001.0</td>\n",
       "      <td>53.000000</td>\n",
       "      <td>5.300000e+07</td>\n",
       "      <td>132.000000</td>\n",
       "      <td>21.000000</td>\n",
       "      <td>4.000000</td>\n",
       "      <td>99.000000</td>\n",
       "      <td>99.000000</td>\n",
       "      <td>9999.000000</td>\n",
       "      <td>999.000000</td>\n",
       "      <td>...</td>\n",
       "      <td>99.000000</td>\n",
       "      <td>99.000000</td>\n",
       "      <td>9.000000</td>\n",
       "      <td>99.000000</td>\n",
       "      <td>9.000000</td>\n",
       "      <td>9.000000</td>\n",
       "      <td>9.000000</td>\n",
       "      <td>9.000000</td>\n",
       "      <td>9.000000</td>\n",
       "      <td>9.000000</td>\n",
       "    </tr>\n",
       "  </tbody>\n",
       "</table>\n",
       "<p>8 rows × 364 columns</p>\n",
       "</div>"
      ],
      "text/plain": [
       "          v0101             uf         v0102          v0103          v0301  \\\n",
       "count  378843.0  378843.000000  3.788430e+05  378843.000000  378842.000000   \n",
       "mean     2001.0      31.938742  3.193874e+07       9.588223       2.779383   \n",
       "std         0.0      10.663785  1.066379e+07       5.955057       1.754605   \n",
       "min      2001.0      11.000000  1.100000e+07       0.000000       0.000000   \n",
       "25%      2001.0      26.000000  2.600000e+07       5.000000            NaN   \n",
       "50%      2001.0      31.000000  3.100000e+07       9.000000            NaN   \n",
       "75%      2001.0      41.000000  4.100000e+07      14.000000            NaN   \n",
       "max      2001.0      53.000000  5.300000e+07     132.000000      21.000000   \n",
       "\n",
       "               v0302          v3031          v3032          v3033  \\\n",
       "count  378841.000000  378841.000000  378841.000000  378841.000000   \n",
       "mean        3.028202      15.199427       6.657455    1952.907133   \n",
       "std         0.999608       8.879202       3.766509     213.948778   \n",
       "min         1.000000       0.000000       1.000000       0.000000   \n",
       "25%              NaN            NaN            NaN            NaN   \n",
       "50%              NaN            NaN            NaN            NaN   \n",
       "75%              NaN            NaN            NaN            NaN   \n",
       "max         4.000000      99.000000      99.000000    9999.000000   \n",
       "\n",
       "               v8005      ...            v2201       v2202       v1623  \\\n",
       "count  378841.000000      ...       480.000000  480.000000  868.000000   \n",
       "mean       28.649162      ...         9.222917   14.822917    2.475806   \n",
       "std        22.121316      ...        28.340943   27.156469    1.781130   \n",
       "min         0.000000      ...         0.000000    0.000000    0.000000   \n",
       "25%              NaN      ...              NaN         NaN         NaN   \n",
       "50%              NaN      ...              NaN         NaN         NaN   \n",
       "75%              NaN      ...              NaN         NaN         NaN   \n",
       "max       999.000000      ...        99.000000   99.000000    9.000000   \n",
       "\n",
       "            v1624       v1625       v1626       v1627      v1628  \\\n",
       "count  401.000000  399.000000  393.000000  393.000000  86.000000   \n",
       "mean    14.718204    1.897243    2.933842    3.442748   5.302326   \n",
       "std     29.470458    2.495618    2.515401    2.052227   3.844231   \n",
       "min      0.000000    0.000000    0.000000    0.000000   0.000000   \n",
       "25%           NaN         NaN         NaN         NaN        NaN   \n",
       "50%           NaN         NaN         NaN         NaN        NaN   \n",
       "75%           NaN         NaN         NaN         NaN        NaN   \n",
       "max     99.000000    9.000000    9.000000    9.000000   9.000000   \n",
       "\n",
       "              v1629         v1630  \n",
       "count  13006.000000  97014.000000  \n",
       "mean       2.923112      3.693271  \n",
       "std        0.564019      0.741429  \n",
       "min        0.000000      0.000000  \n",
       "25%             NaN           NaN  \n",
       "50%             NaN           NaN  \n",
       "75%             NaN           NaN  \n",
       "max        9.000000      9.000000  \n",
       "\n",
       "[8 rows x 364 columns]"
      ]
     },
     "execution_count": 5,
     "metadata": {},
     "output_type": "execute_result"
    }
   ],
   "source": [
    "pnad2001.describe()"
   ]
  },
  {
   "cell_type": "code",
   "execution_count": 6,
   "metadata": {
    "collapsed": false,
    "scrolled": true
   },
   "outputs": [
    {
     "name": "stderr",
     "output_type": "stream",
     "text": [
      "C:\\Users\\edufe\\Anaconda3\\lib\\site-packages\\numpy\\lib\\function_base.py:3834: RuntimeWarning: Invalid value encountered in percentile\n",
      "  RuntimeWarning)\n"
     ]
    },
    {
     "data": {
      "text/html": [
       "<div>\n",
       "<table border=\"1\" class=\"dataframe\">\n",
       "  <thead>\n",
       "    <tr style=\"text-align: right;\">\n",
       "      <th></th>\n",
       "      <th>Unnamed: 0</th>\n",
       "      <th>V0101</th>\n",
       "      <th>UF</th>\n",
       "      <th>V0102</th>\n",
       "      <th>V0103</th>\n",
       "      <th>V0301</th>\n",
       "      <th>V0302</th>\n",
       "      <th>V3031</th>\n",
       "      <th>V3032</th>\n",
       "      <th>V3033</th>\n",
       "      <th>...</th>\n",
       "      <th>V4741</th>\n",
       "      <th>V4742</th>\n",
       "      <th>V4743</th>\n",
       "      <th>V4745</th>\n",
       "      <th>V4746</th>\n",
       "      <th>V4747</th>\n",
       "      <th>V4748</th>\n",
       "      <th>V4749</th>\n",
       "      <th>V4750</th>\n",
       "      <th>V9993</th>\n",
       "    </tr>\n",
       "  </thead>\n",
       "  <tbody>\n",
       "    <tr>\n",
       "      <th>count</th>\n",
       "      <td>362626.000000</td>\n",
       "      <td>362626.0</td>\n",
       "      <td>362626.000000</td>\n",
       "      <td>362626.000000</td>\n",
       "      <td>362626.000000</td>\n",
       "      <td>362626.000000</td>\n",
       "      <td>362626.000000</td>\n",
       "      <td>362626.000000</td>\n",
       "      <td>362626.000000</td>\n",
       "      <td>362626.000000</td>\n",
       "      <td>...</td>\n",
       "      <td>361992.000000</td>\n",
       "      <td>3.619920e+05</td>\n",
       "      <td>361992.000000</td>\n",
       "      <td>362626.000000</td>\n",
       "      <td>338278.000000</td>\n",
       "      <td>176609.000000</td>\n",
       "      <td>190173.000000</td>\n",
       "      <td>338278.000000</td>\n",
       "      <td>3.620490e+05</td>\n",
       "      <td>362626.0</td>\n",
       "    </tr>\n",
       "    <tr>\n",
       "      <th>mean</th>\n",
       "      <td>181313.499931</td>\n",
       "      <td>2014.0</td>\n",
       "      <td>31.221209</td>\n",
       "      <td>2733.826678</td>\n",
       "      <td>9.129199</td>\n",
       "      <td>2.407246</td>\n",
       "      <td>3.030698</td>\n",
       "      <td>14.659236</td>\n",
       "      <td>7.035676</td>\n",
       "      <td>1900.243270</td>\n",
       "      <td>...</td>\n",
       "      <td>3.810490</td>\n",
       "      <td>3.600632e+10</td>\n",
       "      <td>6.793294</td>\n",
       "      <td>3.230753</td>\n",
       "      <td>1.477542</td>\n",
       "      <td>1.860687</td>\n",
       "      <td>1.863109</td>\n",
       "      <td>1.437368</td>\n",
       "      <td>3.435170e+10</td>\n",
       "      <td>20160623.0</td>\n",
       "    </tr>\n",
       "    <tr>\n",
       "      <th>std</th>\n",
       "      <td>104681.253814</td>\n",
       "      <td>0.0</td>\n",
       "      <td>11.088344</td>\n",
       "      <td>2549.278734</td>\n",
       "      <td>6.192575</td>\n",
       "      <td>1.455099</td>\n",
       "      <td>0.999530</td>\n",
       "      <td>9.142118</td>\n",
       "      <td>4.279194</td>\n",
       "      <td>386.898883</td>\n",
       "      <td>...</td>\n",
       "      <td>1.719726</td>\n",
       "      <td>1.863061e+11</td>\n",
       "      <td>17.876590</td>\n",
       "      <td>1.920693</td>\n",
       "      <td>0.499496</td>\n",
       "      <td>0.346274</td>\n",
       "      <td>0.343733</td>\n",
       "      <td>0.496062</td>\n",
       "      <td>1.821311e+11</td>\n",
       "      <td>0.0</td>\n",
       "    </tr>\n",
       "    <tr>\n",
       "      <th>min</th>\n",
       "      <td>0.000000</td>\n",
       "      <td>2014.0</td>\n",
       "      <td>11.000000</td>\n",
       "      <td>10.000000</td>\n",
       "      <td>1.000000</td>\n",
       "      <td>1.000000</td>\n",
       "      <td>2.000000</td>\n",
       "      <td>0.000000</td>\n",
       "      <td>1.000000</td>\n",
       "      <td>0.000000</td>\n",
       "      <td>...</td>\n",
       "      <td>1.000000</td>\n",
       "      <td>0.000000e+00</td>\n",
       "      <td>0.000000</td>\n",
       "      <td>1.000000</td>\n",
       "      <td>1.000000</td>\n",
       "      <td>1.000000</td>\n",
       "      <td>1.000000</td>\n",
       "      <td>1.000000</td>\n",
       "      <td>0.000000e+00</td>\n",
       "      <td>20160623.0</td>\n",
       "    </tr>\n",
       "    <tr>\n",
       "      <th>25%</th>\n",
       "      <td>90657.250000</td>\n",
       "      <td>2014.0</td>\n",
       "      <td>23.000000</td>\n",
       "      <td>856.000000</td>\n",
       "      <td>5.000000</td>\n",
       "      <td>1.000000</td>\n",
       "      <td>2.000000</td>\n",
       "      <td>7.000000</td>\n",
       "      <td>4.000000</td>\n",
       "      <td>1962.000000</td>\n",
       "      <td>...</td>\n",
       "      <td>NaN</td>\n",
       "      <td>NaN</td>\n",
       "      <td>NaN</td>\n",
       "      <td>2.000000</td>\n",
       "      <td>NaN</td>\n",
       "      <td>NaN</td>\n",
       "      <td>NaN</td>\n",
       "      <td>NaN</td>\n",
       "      <td>NaN</td>\n",
       "      <td>20160623.0</td>\n",
       "    </tr>\n",
       "    <tr>\n",
       "      <th>50%</th>\n",
       "      <td>181313.500000</td>\n",
       "      <td>2014.0</td>\n",
       "      <td>31.000000</td>\n",
       "      <td>1986.000000</td>\n",
       "      <td>9.000000</td>\n",
       "      <td>2.000000</td>\n",
       "      <td>4.000000</td>\n",
       "      <td>14.000000</td>\n",
       "      <td>7.000000</td>\n",
       "      <td>1981.000000</td>\n",
       "      <td>...</td>\n",
       "      <td>NaN</td>\n",
       "      <td>NaN</td>\n",
       "      <td>NaN</td>\n",
       "      <td>2.000000</td>\n",
       "      <td>NaN</td>\n",
       "      <td>NaN</td>\n",
       "      <td>NaN</td>\n",
       "      <td>NaN</td>\n",
       "      <td>NaN</td>\n",
       "      <td>20160623.0</td>\n",
       "    </tr>\n",
       "    <tr>\n",
       "      <th>75%</th>\n",
       "      <td>271969.750000</td>\n",
       "      <td>2014.0</td>\n",
       "      <td>41.000000</td>\n",
       "      <td>4159.000000</td>\n",
       "      <td>13.000000</td>\n",
       "      <td>3.000000</td>\n",
       "      <td>4.000000</td>\n",
       "      <td>23.000000</td>\n",
       "      <td>10.000000</td>\n",
       "      <td>1997.000000</td>\n",
       "      <td>...</td>\n",
       "      <td>NaN</td>\n",
       "      <td>NaN</td>\n",
       "      <td>NaN</td>\n",
       "      <td>5.000000</td>\n",
       "      <td>NaN</td>\n",
       "      <td>NaN</td>\n",
       "      <td>NaN</td>\n",
       "      <td>NaN</td>\n",
       "      <td>NaN</td>\n",
       "      <td>20160623.0</td>\n",
       "    </tr>\n",
       "    <tr>\n",
       "      <th>max</th>\n",
       "      <td>362626.000000</td>\n",
       "      <td>2014.0</td>\n",
       "      <td>53.000000</td>\n",
       "      <td>73146.000000</td>\n",
       "      <td>191.000000</td>\n",
       "      <td>18.000000</td>\n",
       "      <td>4.000000</td>\n",
       "      <td>31.000000</td>\n",
       "      <td>20.000000</td>\n",
       "      <td>2014.000000</td>\n",
       "      <td>...</td>\n",
       "      <td>18.000000</td>\n",
       "      <td>1.000000e+12</td>\n",
       "      <td>99.000000</td>\n",
       "      <td>8.000000</td>\n",
       "      <td>2.000000</td>\n",
       "      <td>2.000000</td>\n",
       "      <td>2.000000</td>\n",
       "      <td>2.000000</td>\n",
       "      <td>1.000000e+12</td>\n",
       "      <td>20160623.0</td>\n",
       "    </tr>\n",
       "  </tbody>\n",
       "</table>\n",
       "<p>8 rows × 342 columns</p>\n",
       "</div>"
      ],
      "text/plain": [
       "          Unnamed: 0     V0101             UF          V0102          V0103  \\\n",
       "count  362626.000000  362626.0  362626.000000  362626.000000  362626.000000   \n",
       "mean   181313.499931    2014.0      31.221209    2733.826678       9.129199   \n",
       "std    104681.253814       0.0      11.088344    2549.278734       6.192575   \n",
       "min         0.000000    2014.0      11.000000      10.000000       1.000000   \n",
       "25%     90657.250000    2014.0      23.000000     856.000000       5.000000   \n",
       "50%    181313.500000    2014.0      31.000000    1986.000000       9.000000   \n",
       "75%    271969.750000    2014.0      41.000000    4159.000000      13.000000   \n",
       "max    362626.000000    2014.0      53.000000   73146.000000     191.000000   \n",
       "\n",
       "               V0301          V0302          V3031          V3032  \\\n",
       "count  362626.000000  362626.000000  362626.000000  362626.000000   \n",
       "mean        2.407246       3.030698      14.659236       7.035676   \n",
       "std         1.455099       0.999530       9.142118       4.279194   \n",
       "min         1.000000       2.000000       0.000000       1.000000   \n",
       "25%         1.000000       2.000000       7.000000       4.000000   \n",
       "50%         2.000000       4.000000      14.000000       7.000000   \n",
       "75%         3.000000       4.000000      23.000000      10.000000   \n",
       "max        18.000000       4.000000      31.000000      20.000000   \n",
       "\n",
       "               V3033     ...              V4741         V4742          V4743  \\\n",
       "count  362626.000000     ...      361992.000000  3.619920e+05  361992.000000   \n",
       "mean     1900.243270     ...           3.810490  3.600632e+10       6.793294   \n",
       "std       386.898883     ...           1.719726  1.863061e+11      17.876590   \n",
       "min         0.000000     ...           1.000000  0.000000e+00       0.000000   \n",
       "25%      1962.000000     ...                NaN           NaN            NaN   \n",
       "50%      1981.000000     ...                NaN           NaN            NaN   \n",
       "75%      1997.000000     ...                NaN           NaN            NaN   \n",
       "max      2014.000000     ...          18.000000  1.000000e+12      99.000000   \n",
       "\n",
       "               V4745          V4746          V4747          V4748  \\\n",
       "count  362626.000000  338278.000000  176609.000000  190173.000000   \n",
       "mean        3.230753       1.477542       1.860687       1.863109   \n",
       "std         1.920693       0.499496       0.346274       0.343733   \n",
       "min         1.000000       1.000000       1.000000       1.000000   \n",
       "25%         2.000000            NaN            NaN            NaN   \n",
       "50%         2.000000            NaN            NaN            NaN   \n",
       "75%         5.000000            NaN            NaN            NaN   \n",
       "max         8.000000       2.000000       2.000000       2.000000   \n",
       "\n",
       "               V4749         V4750       V9993  \n",
       "count  338278.000000  3.620490e+05    362626.0  \n",
       "mean        1.437368  3.435170e+10  20160623.0  \n",
       "std         0.496062  1.821311e+11         0.0  \n",
       "min         1.000000  0.000000e+00  20160623.0  \n",
       "25%              NaN           NaN  20160623.0  \n",
       "50%              NaN           NaN  20160623.0  \n",
       "75%              NaN           NaN  20160623.0  \n",
       "max         2.000000  1.000000e+12  20160623.0  \n",
       "\n",
       "[8 rows x 342 columns]"
      ]
     },
     "execution_count": 6,
     "metadata": {},
     "output_type": "execute_result"
    }
   ],
   "source": [
    "pnad2014.describe()"
   ]
  },
  {
   "cell_type": "markdown",
   "metadata": {},
   "source": [
    "______________________________________________________________________________________________________________________\n",
    "\n",
    "## Remoção de dados 'inúteis' e verificação do dataframe\n",
    "Leitura desnecessaria para entedimento do projeto"
   ]
  },
  {
   "cell_type": "code",
   "execution_count": 7,
   "metadata": {
    "collapsed": false
   },
   "outputs": [],
   "source": [
    "L = ['V0101', 'UF', 'V0302', 'V0404', 'V8005', 'V1252', 'V1101', 'V4011', 'V0601', 'V9001','V9002', 'V06111', 'V061111', 'V06112', 'V9005', 'V9122', 'V9892', 'V4803', 'V4720']\n",
    "for i in pnad2014:\n",
    "    if not i in L:\n",
    "        pnad2014 = pnad2014.drop(i, 1)\n",
    "        \n",
    "L = ['v0101', 'uf', 'v0302', 'v0404', 'v8005', 'v1252', 'v4703', 'v0601', 'v9005', 'v9001','v9002', 'v9122', 'v9892', 'v9001', 'v9002']\n",
    "for i in pnad2001:\n",
    "    if not i in L:\n",
    "        pnad2001 = pnad2001.drop(i, 1)"
   ]
  },
  {
   "cell_type": "code",
   "execution_count": 8,
   "metadata": {
    "collapsed": false
   },
   "outputs": [
    {
     "name": "stderr",
     "output_type": "stream",
     "text": [
      "C:\\Users\\edufe\\Anaconda3\\lib\\site-packages\\numpy\\lib\\function_base.py:3834: RuntimeWarning: Invalid value encountered in percentile\n",
      "  RuntimeWarning)\n"
     ]
    },
    {
     "data": {
      "text/html": [
       "<div>\n",
       "<table border=\"1\" class=\"dataframe\">\n",
       "  <thead>\n",
       "    <tr style=\"text-align: right;\">\n",
       "      <th></th>\n",
       "      <th>v0101</th>\n",
       "      <th>uf</th>\n",
       "      <th>v0302</th>\n",
       "      <th>v8005</th>\n",
       "      <th>v0404</th>\n",
       "      <th>v0601</th>\n",
       "      <th>v9001</th>\n",
       "      <th>v9002</th>\n",
       "      <th>v9005</th>\n",
       "      <th>v9892</th>\n",
       "      <th>v9122</th>\n",
       "      <th>v1252</th>\n",
       "      <th>v4703</th>\n",
       "    </tr>\n",
       "  </thead>\n",
       "  <tbody>\n",
       "    <tr>\n",
       "      <th>count</th>\n",
       "      <td>378843.0</td>\n",
       "      <td>378843.000000</td>\n",
       "      <td>378841.000000</td>\n",
       "      <td>378841.000000</td>\n",
       "      <td>378841.000000</td>\n",
       "      <td>378840.000000</td>\n",
       "      <td>343282.000000</td>\n",
       "      <td>183147.000000</td>\n",
       "      <td>167203.000000</td>\n",
       "      <td>184896.000000</td>\n",
       "      <td>343226.000000</td>\n",
       "      <td>2.998100e+04</td>\n",
       "      <td>378816.000000</td>\n",
       "    </tr>\n",
       "    <tr>\n",
       "      <th>mean</th>\n",
       "      <td>2001.0</td>\n",
       "      <td>31.938742</td>\n",
       "      <td>3.028202</td>\n",
       "      <td>28.649162</td>\n",
       "      <td>4.788494</td>\n",
       "      <td>1.446033</td>\n",
       "      <td>2.066907</td>\n",
       "      <td>3.974938</td>\n",
       "      <td>1.093336</td>\n",
       "      <td>13.865281</td>\n",
       "      <td>3.825275</td>\n",
       "      <td>7.371436e+09</td>\n",
       "      <td>6.069316</td>\n",
       "    </tr>\n",
       "    <tr>\n",
       "      <th>std</th>\n",
       "      <td>0.0</td>\n",
       "      <td>10.663785</td>\n",
       "      <td>0.999608</td>\n",
       "      <td>22.121316</td>\n",
       "      <td>2.914792</td>\n",
       "      <td>0.832772</td>\n",
       "      <td>0.997945</td>\n",
       "      <td>0.222575</td>\n",
       "      <td>0.450578</td>\n",
       "      <td>5.561376</td>\n",
       "      <td>0.564834</td>\n",
       "      <td>8.544392e+10</td>\n",
       "      <td>4.497571</td>\n",
       "    </tr>\n",
       "    <tr>\n",
       "      <th>min</th>\n",
       "      <td>2001.0</td>\n",
       "      <td>11.000000</td>\n",
       "      <td>1.000000</td>\n",
       "      <td>0.000000</td>\n",
       "      <td>0.000000</td>\n",
       "      <td>0.000000</td>\n",
       "      <td>0.000000</td>\n",
       "      <td>0.000000</td>\n",
       "      <td>1.000000</td>\n",
       "      <td>0.000000</td>\n",
       "      <td>0.000000</td>\n",
       "      <td>0.000000e+00</td>\n",
       "      <td>0.000000</td>\n",
       "    </tr>\n",
       "    <tr>\n",
       "      <th>25%</th>\n",
       "      <td>2001.0</td>\n",
       "      <td>26.000000</td>\n",
       "      <td>NaN</td>\n",
       "      <td>NaN</td>\n",
       "      <td>NaN</td>\n",
       "      <td>NaN</td>\n",
       "      <td>NaN</td>\n",
       "      <td>NaN</td>\n",
       "      <td>NaN</td>\n",
       "      <td>NaN</td>\n",
       "      <td>NaN</td>\n",
       "      <td>NaN</td>\n",
       "      <td>NaN</td>\n",
       "    </tr>\n",
       "    <tr>\n",
       "      <th>50%</th>\n",
       "      <td>2001.0</td>\n",
       "      <td>31.000000</td>\n",
       "      <td>NaN</td>\n",
       "      <td>NaN</td>\n",
       "      <td>NaN</td>\n",
       "      <td>NaN</td>\n",
       "      <td>NaN</td>\n",
       "      <td>NaN</td>\n",
       "      <td>NaN</td>\n",
       "      <td>NaN</td>\n",
       "      <td>NaN</td>\n",
       "      <td>NaN</td>\n",
       "      <td>NaN</td>\n",
       "    </tr>\n",
       "    <tr>\n",
       "      <th>75%</th>\n",
       "      <td>2001.0</td>\n",
       "      <td>41.000000</td>\n",
       "      <td>NaN</td>\n",
       "      <td>NaN</td>\n",
       "      <td>NaN</td>\n",
       "      <td>NaN</td>\n",
       "      <td>NaN</td>\n",
       "      <td>NaN</td>\n",
       "      <td>NaN</td>\n",
       "      <td>NaN</td>\n",
       "      <td>NaN</td>\n",
       "      <td>NaN</td>\n",
       "      <td>NaN</td>\n",
       "    </tr>\n",
       "    <tr>\n",
       "      <th>max</th>\n",
       "      <td>2001.0</td>\n",
       "      <td>53.000000</td>\n",
       "      <td>4.000000</td>\n",
       "      <td>999.000000</td>\n",
       "      <td>9.000000</td>\n",
       "      <td>3.000000</td>\n",
       "      <td>3.000000</td>\n",
       "      <td>4.000000</td>\n",
       "      <td>5.000000</td>\n",
       "      <td>99.000000</td>\n",
       "      <td>4.000000</td>\n",
       "      <td>1.000000e+12</td>\n",
       "      <td>21.000000</td>\n",
       "    </tr>\n",
       "  </tbody>\n",
       "</table>\n",
       "</div>"
      ],
      "text/plain": [
       "          v0101             uf          v0302          v8005          v0404  \\\n",
       "count  378843.0  378843.000000  378841.000000  378841.000000  378841.000000   \n",
       "mean     2001.0      31.938742       3.028202      28.649162       4.788494   \n",
       "std         0.0      10.663785       0.999608      22.121316       2.914792   \n",
       "min      2001.0      11.000000       1.000000       0.000000       0.000000   \n",
       "25%      2001.0      26.000000            NaN            NaN            NaN   \n",
       "50%      2001.0      31.000000            NaN            NaN            NaN   \n",
       "75%      2001.0      41.000000            NaN            NaN            NaN   \n",
       "max      2001.0      53.000000       4.000000     999.000000       9.000000   \n",
       "\n",
       "               v0601          v9001          v9002          v9005  \\\n",
       "count  378840.000000  343282.000000  183147.000000  167203.000000   \n",
       "mean        1.446033       2.066907       3.974938       1.093336   \n",
       "std         0.832772       0.997945       0.222575       0.450578   \n",
       "min         0.000000       0.000000       0.000000       1.000000   \n",
       "25%              NaN            NaN            NaN            NaN   \n",
       "50%              NaN            NaN            NaN            NaN   \n",
       "75%              NaN            NaN            NaN            NaN   \n",
       "max         3.000000       3.000000       4.000000       5.000000   \n",
       "\n",
       "               v9892          v9122         v1252          v4703  \n",
       "count  184896.000000  343226.000000  2.998100e+04  378816.000000  \n",
       "mean       13.865281       3.825275  7.371436e+09       6.069316  \n",
       "std         5.561376       0.564834  8.544392e+10       4.497571  \n",
       "min         0.000000       0.000000  0.000000e+00       0.000000  \n",
       "25%              NaN            NaN           NaN            NaN  \n",
       "50%              NaN            NaN           NaN            NaN  \n",
       "75%              NaN            NaN           NaN            NaN  \n",
       "max        99.000000       4.000000  1.000000e+12      21.000000  "
      ]
     },
     "execution_count": 8,
     "metadata": {},
     "output_type": "execute_result"
    }
   ],
   "source": [
    "pnad2001.describe()"
   ]
  },
  {
   "cell_type": "code",
   "execution_count": 9,
   "metadata": {
    "collapsed": false
   },
   "outputs": [
    {
     "name": "stderr",
     "output_type": "stream",
     "text": [
      "C:\\Users\\edufe\\Anaconda3\\lib\\site-packages\\numpy\\lib\\function_base.py:3834: RuntimeWarning: Invalid value encountered in percentile\n",
      "  RuntimeWarning)\n"
     ]
    },
    {
     "data": {
      "text/html": [
       "<div>\n",
       "<table border=\"1\" class=\"dataframe\">\n",
       "  <thead>\n",
       "    <tr style=\"text-align: right;\">\n",
       "      <th></th>\n",
       "      <th>V0101</th>\n",
       "      <th>UF</th>\n",
       "      <th>V0302</th>\n",
       "      <th>V8005</th>\n",
       "      <th>V0404</th>\n",
       "      <th>V4011</th>\n",
       "      <th>V0601</th>\n",
       "      <th>V06111</th>\n",
       "      <th>V061111</th>\n",
       "      <th>V06112</th>\n",
       "      <th>V9001</th>\n",
       "      <th>V9002</th>\n",
       "      <th>V9005</th>\n",
       "      <th>V9892</th>\n",
       "      <th>V9122</th>\n",
       "      <th>V1252</th>\n",
       "      <th>V1101</th>\n",
       "      <th>V4803</th>\n",
       "      <th>V4720</th>\n",
       "    </tr>\n",
       "  </thead>\n",
       "  <tbody>\n",
       "    <tr>\n",
       "      <th>count</th>\n",
       "      <td>362626.0</td>\n",
       "      <td>362626.000000</td>\n",
       "      <td>362626.000000</td>\n",
       "      <td>362626.000000</td>\n",
       "      <td>362626.000000</td>\n",
       "      <td>218693.000000</td>\n",
       "      <td>362626.000000</td>\n",
       "      <td>311760.000000</td>\n",
       "      <td>141669.000000</td>\n",
       "      <td>311760.000000</td>\n",
       "      <td>311760.000000</td>\n",
       "      <td>143201.000000</td>\n",
       "      <td>176609.000000</td>\n",
       "      <td>190173.000000</td>\n",
       "      <td>311760.000000</td>\n",
       "      <td>3.864200e+04</td>\n",
       "      <td>161880.000000</td>\n",
       "      <td>362626.000000</td>\n",
       "      <td>3.117600e+05</td>\n",
       "    </tr>\n",
       "    <tr>\n",
       "      <th>mean</th>\n",
       "      <td>2014.0</td>\n",
       "      <td>31.221209</td>\n",
       "      <td>3.030698</td>\n",
       "      <td>33.553965</td>\n",
       "      <td>5.060255</td>\n",
       "      <td>0.950062</td>\n",
       "      <td>1.309013</td>\n",
       "      <td>1.908834</td>\n",
       "      <td>2.931982</td>\n",
       "      <td>1.427457</td>\n",
       "      <td>1.918662</td>\n",
       "      <td>3.957137</td>\n",
       "      <td>1.074073</td>\n",
       "      <td>15.004428</td>\n",
       "      <td>3.752104</td>\n",
       "      <td>1.612236e+10</td>\n",
       "      <td>1.709402</td>\n",
       "      <td>7.723470</td>\n",
       "      <td>1.605402e+10</td>\n",
       "    </tr>\n",
       "    <tr>\n",
       "      <th>std</th>\n",
       "      <td>0.0</td>\n",
       "      <td>11.088344</td>\n",
       "      <td>0.999530</td>\n",
       "      <td>21.017288</td>\n",
       "      <td>2.886457</td>\n",
       "      <td>2.148074</td>\n",
       "      <td>0.722868</td>\n",
       "      <td>0.995837</td>\n",
       "      <td>0.362505</td>\n",
       "      <td>0.819876</td>\n",
       "      <td>0.996688</td>\n",
       "      <td>0.289636</td>\n",
       "      <td>0.404124</td>\n",
       "      <td>4.447785</td>\n",
       "      <td>0.659045</td>\n",
       "      <td>1.259477e+11</td>\n",
       "      <td>0.956848</td>\n",
       "      <td>4.881604</td>\n",
       "      <td>1.256835e+11</td>\n",
       "    </tr>\n",
       "    <tr>\n",
       "      <th>min</th>\n",
       "      <td>2014.0</td>\n",
       "      <td>11.000000</td>\n",
       "      <td>2.000000</td>\n",
       "      <td>0.000000</td>\n",
       "      <td>0.000000</td>\n",
       "      <td>0.000000</td>\n",
       "      <td>1.000000</td>\n",
       "      <td>1.000000</td>\n",
       "      <td>1.000000</td>\n",
       "      <td>1.000000</td>\n",
       "      <td>1.000000</td>\n",
       "      <td>2.000000</td>\n",
       "      <td>1.000000</td>\n",
       "      <td>4.000000</td>\n",
       "      <td>2.000000</td>\n",
       "      <td>6.100000e+02</td>\n",
       "      <td>1.000000</td>\n",
       "      <td>1.000000</td>\n",
       "      <td>0.000000e+00</td>\n",
       "    </tr>\n",
       "    <tr>\n",
       "      <th>25%</th>\n",
       "      <td>2014.0</td>\n",
       "      <td>23.000000</td>\n",
       "      <td>2.000000</td>\n",
       "      <td>16.000000</td>\n",
       "      <td>2.000000</td>\n",
       "      <td>NaN</td>\n",
       "      <td>1.000000</td>\n",
       "      <td>NaN</td>\n",
       "      <td>NaN</td>\n",
       "      <td>NaN</td>\n",
       "      <td>NaN</td>\n",
       "      <td>NaN</td>\n",
       "      <td>NaN</td>\n",
       "      <td>NaN</td>\n",
       "      <td>NaN</td>\n",
       "      <td>NaN</td>\n",
       "      <td>NaN</td>\n",
       "      <td>3.000000</td>\n",
       "      <td>NaN</td>\n",
       "    </tr>\n",
       "    <tr>\n",
       "      <th>50%</th>\n",
       "      <td>2014.0</td>\n",
       "      <td>31.000000</td>\n",
       "      <td>4.000000</td>\n",
       "      <td>32.000000</td>\n",
       "      <td>4.000000</td>\n",
       "      <td>NaN</td>\n",
       "      <td>1.000000</td>\n",
       "      <td>NaN</td>\n",
       "      <td>NaN</td>\n",
       "      <td>NaN</td>\n",
       "      <td>NaN</td>\n",
       "      <td>NaN</td>\n",
       "      <td>NaN</td>\n",
       "      <td>NaN</td>\n",
       "      <td>NaN</td>\n",
       "      <td>NaN</td>\n",
       "      <td>NaN</td>\n",
       "      <td>8.000000</td>\n",
       "      <td>NaN</td>\n",
       "    </tr>\n",
       "    <tr>\n",
       "      <th>75%</th>\n",
       "      <td>2014.0</td>\n",
       "      <td>41.000000</td>\n",
       "      <td>4.000000</td>\n",
       "      <td>49.000000</td>\n",
       "      <td>8.000000</td>\n",
       "      <td>NaN</td>\n",
       "      <td>1.000000</td>\n",
       "      <td>NaN</td>\n",
       "      <td>NaN</td>\n",
       "      <td>NaN</td>\n",
       "      <td>NaN</td>\n",
       "      <td>NaN</td>\n",
       "      <td>NaN</td>\n",
       "      <td>NaN</td>\n",
       "      <td>NaN</td>\n",
       "      <td>NaN</td>\n",
       "      <td>NaN</td>\n",
       "      <td>12.000000</td>\n",
       "      <td>NaN</td>\n",
       "    </tr>\n",
       "    <tr>\n",
       "      <th>max</th>\n",
       "      <td>2014.0</td>\n",
       "      <td>53.000000</td>\n",
       "      <td>4.000000</td>\n",
       "      <td>120.000000</td>\n",
       "      <td>9.000000</td>\n",
       "      <td>7.000000</td>\n",
       "      <td>3.000000</td>\n",
       "      <td>3.000000</td>\n",
       "      <td>3.000000</td>\n",
       "      <td>3.000000</td>\n",
       "      <td>3.000000</td>\n",
       "      <td>4.000000</td>\n",
       "      <td>9.000000</td>\n",
       "      <td>72.000000</td>\n",
       "      <td>4.000000</td>\n",
       "      <td>1.000000e+12</td>\n",
       "      <td>3.000000</td>\n",
       "      <td>17.000000</td>\n",
       "      <td>1.000000e+12</td>\n",
       "    </tr>\n",
       "  </tbody>\n",
       "</table>\n",
       "</div>"
      ],
      "text/plain": [
       "          V0101             UF          V0302          V8005          V0404  \\\n",
       "count  362626.0  362626.000000  362626.000000  362626.000000  362626.000000   \n",
       "mean     2014.0      31.221209       3.030698      33.553965       5.060255   \n",
       "std         0.0      11.088344       0.999530      21.017288       2.886457   \n",
       "min      2014.0      11.000000       2.000000       0.000000       0.000000   \n",
       "25%      2014.0      23.000000       2.000000      16.000000       2.000000   \n",
       "50%      2014.0      31.000000       4.000000      32.000000       4.000000   \n",
       "75%      2014.0      41.000000       4.000000      49.000000       8.000000   \n",
       "max      2014.0      53.000000       4.000000     120.000000       9.000000   \n",
       "\n",
       "               V4011          V0601         V06111        V061111  \\\n",
       "count  218693.000000  362626.000000  311760.000000  141669.000000   \n",
       "mean        0.950062       1.309013       1.908834       2.931982   \n",
       "std         2.148074       0.722868       0.995837       0.362505   \n",
       "min         0.000000       1.000000       1.000000       1.000000   \n",
       "25%              NaN       1.000000            NaN            NaN   \n",
       "50%              NaN       1.000000            NaN            NaN   \n",
       "75%              NaN       1.000000            NaN            NaN   \n",
       "max         7.000000       3.000000       3.000000       3.000000   \n",
       "\n",
       "              V06112          V9001          V9002          V9005  \\\n",
       "count  311760.000000  311760.000000  143201.000000  176609.000000   \n",
       "mean        1.427457       1.918662       3.957137       1.074073   \n",
       "std         0.819876       0.996688       0.289636       0.404124   \n",
       "min         1.000000       1.000000       2.000000       1.000000   \n",
       "25%              NaN            NaN            NaN            NaN   \n",
       "50%              NaN            NaN            NaN            NaN   \n",
       "75%              NaN            NaN            NaN            NaN   \n",
       "max         3.000000       3.000000       4.000000       9.000000   \n",
       "\n",
       "               V9892          V9122         V1252          V1101  \\\n",
       "count  190173.000000  311760.000000  3.864200e+04  161880.000000   \n",
       "mean       15.004428       3.752104  1.612236e+10       1.709402   \n",
       "std         4.447785       0.659045  1.259477e+11       0.956848   \n",
       "min         4.000000       2.000000  6.100000e+02       1.000000   \n",
       "25%              NaN            NaN           NaN            NaN   \n",
       "50%              NaN            NaN           NaN            NaN   \n",
       "75%              NaN            NaN           NaN            NaN   \n",
       "max        72.000000       4.000000  1.000000e+12       3.000000   \n",
       "\n",
       "               V4803         V4720  \n",
       "count  362626.000000  3.117600e+05  \n",
       "mean        7.723470  1.605402e+10  \n",
       "std         4.881604  1.256835e+11  \n",
       "min         1.000000  0.000000e+00  \n",
       "25%         3.000000           NaN  \n",
       "50%         8.000000           NaN  \n",
       "75%        12.000000           NaN  \n",
       "max        17.000000  1.000000e+12  "
      ]
     },
     "execution_count": 9,
     "metadata": {},
     "output_type": "execute_result"
    }
   ],
   "source": [
    "pnad2014.describe()"
   ]
  },
  {
   "cell_type": "markdown",
   "metadata": {},
   "source": [
    "_______________________________________________________________________________________________________________________\n",
    "\n",
    "## Tratamento de Dados\n",
    "\n",
    "Leitura desnecessaria para entedimento do projeto"
   ]
  },
  {
   "cell_type": "code",
   "execution_count": 10,
   "metadata": {
    "collapsed": false
   },
   "outputs": [],
   "source": [
    "n2001 = pnad2001.shape[0]\n",
    "n2014 = pnad2014.shape[0]"
   ]
  },
  {
   "cell_type": "code",
   "execution_count": 11,
   "metadata": {
    "collapsed": false
   },
   "outputs": [],
   "source": [
    "df001m = pd.DataFrame() #Idade\n",
    "\n",
    "df001m['idade']= pnad2001.v8005\n",
    "\n",
    "df001m.idade[(pnad2001.v8005>=0) & (pnad2001.v8005<15)] = 1\n",
    "df001m.idade[(pnad2001.v8005>=15) & (pnad2001.v8005<30)] = 2\n",
    "df001m.idade[(pnad2001.v8005>=30) & (pnad2001.v8005<45)] = 3\n",
    "df001m.idade[(pnad2001.v8005>=45) & (pnad2001.v8005<60)] = 4\n",
    "df001m.idade[(pnad2001.v8005>=60) & (pnad2001.v8005<70)] = 5\n",
    "df001m.idade[(pnad2001.v8005>=70) & (pnad2001.v8005<80)] = 6\n",
    "df001m.idade[(pnad2001.v8005>=80) & (pnad2001.v8005<90)] = 7\n",
    "df001m.idade[(pnad2001.v8005>=90) & (pnad2001.v8005<100)] = 8\n",
    "df001m.idade[(pnad2001.v8005>=100)] = 9\n",
    "\n",
    "df001m['idade'] = df001m['idade'].astype('category')\n",
    "df001m.idade.cat.categories = ('0 a 15', '15 a 30', '30 a 45', '45 a 60', '60 a 70', '70 a 80',  '80 a 90', '90 a 100', 'Mais que 100')"
   ]
  },
  {
   "cell_type": "code",
   "execution_count": 12,
   "metadata": {
    "collapsed": false
   },
   "outputs": [],
   "source": [
    "df001f = pd.DataFrame() #Idade\n",
    "\n",
    "df001f['idade']= pnad2001.v8005\n",
    "\n",
    "df001f.idade[(pnad2001.v8005>=0) & (pnad2001.v8005<15)] = 1\n",
    "df001f.idade[(pnad2001.v8005>=15) & (pnad2001.v8005<30)] = 2\n",
    "df001f.idade[(pnad2001.v8005>=30) & (pnad2001.v8005<45)] = 3\n",
    "df001f.idade[(pnad2001.v8005>=45) & (pnad2001.v8005<55)] = 4\n",
    "df001f.idade[(pnad2001.v8005>=55) & (pnad2001.v8005<65)] = 5\n",
    "df001f.idade[(pnad2001.v8005>=65) & (pnad2001.v8005<75)] = 6\n",
    "df001f.idade[(pnad2001.v8005>=75) & (pnad2001.v8005<85)] = 7\n",
    "df001f.idade[(pnad2001.v8005>=85) & (pnad2001.v8005<95)] = 8\n",
    "df001f.idade[(pnad2001.v8005>=95) & (pnad2001.v8005<105)] = 9\n",
    "df001f.idade[(pnad2001.v8005>=105)] = 10\n",
    "\n",
    "df001f['idade'] = df001f['idade'].astype('category')\n",
    "df001f.idade.cat.categories = ('0 a 15', '15 a 30', '30 a 45', '45 a 55', '55 a 65', '65 a 75', '75 a 85', '85 a 95', '95 a 105', 'Mais que 105')"
   ]
  },
  {
   "cell_type": "code",
   "execution_count": 13,
   "metadata": {
    "collapsed": false
   },
   "outputs": [],
   "source": [
    "df014m = pd.DataFrame() #Idade\n",
    "\n",
    "df014m['idade']= pnad2014.V8005\n",
    "\n",
    "df014m.idade[(pnad2014.V8005>=0) & (pnad2014.V8005<15)] = 1\n",
    "df014m.idade[(pnad2014.V8005>=15) & (pnad2014.V8005<30)] = 2\n",
    "df014m.idade[(pnad2014.V8005>=30) & (pnad2014.V8005<45)] = 3\n",
    "df014m.idade[(pnad2014.V8005>=45) & (pnad2014.V8005<60)] = 4\n",
    "df014m.idade[(pnad2014.V8005>=60) & (pnad2014.V8005<70)] = 5\n",
    "df014m.idade[(pnad2014.V8005>=70) & (pnad2014.V8005<80)] = 6\n",
    "df014m.idade[(pnad2014.V8005>=80) & (pnad2014.V8005<90)] = 7\n",
    "df014m.idade[(pnad2014.V8005>=90) & (pnad2014.V8005<100)] = 8\n",
    "df014m.idade[(pnad2014.V8005>=100)] = 9\n",
    "\n",
    "df014m['idade'] = df014m['idade'].astype('category')\n",
    "df014m.idade.cat.categories = ('0 a 15', '15 a 30', '30 a 45', '45 a 60', '60 a 70', '70 a 80',  '80 a 90', '90 a 100', 'Mais que 100')"
   ]
  },
  {
   "cell_type": "code",
   "execution_count": 14,
   "metadata": {
    "collapsed": false
   },
   "outputs": [],
   "source": [
    "df014f = pd.DataFrame() #Idade\n",
    "\n",
    "df014f['idade']= pnad2014.V8005\n",
    "\n",
    "df014f.idade[(pnad2014.V8005>=0) & (pnad2014.V8005<15)] = 1\n",
    "df014f.idade[(pnad2014.V8005>=15) & (pnad2014.V8005<30)] = 2\n",
    "df014f.idade[(pnad2014.V8005>=30) & (pnad2014.V8005<45)] = 3\n",
    "df014f.idade[(pnad2014.V8005>=45) & (pnad2014.V8005<55)] = 4\n",
    "df014f.idade[(pnad2014.V8005>=55) & (pnad2014.V8005<65)] = 5\n",
    "df014f.idade[(pnad2014.V8005>=65) & (pnad2014.V8005<75)] = 6\n",
    "df014f.idade[(pnad2014.V8005>=75) & (pnad2014.V8005<85)] = 7\n",
    "df014f.idade[(pnad2014.V8005>=85) & (pnad2014.V8005<95)] = 8\n",
    "df014f.idade[(pnad2014.V8005>=95) & (pnad2014.V8005<105)] = 9\n",
    "df014f.idade[(pnad2014.V8005>=105)] = 10\n",
    "\n",
    "df014f['idade'] = df014f['idade'].astype('category')\n",
    "df014f.idade.cat.categories = ('0 a 15', '15 a 30', '30 a 45', '45 a 55', '55 a 65', '65 a 75', '75 a 85', '85 a 95', '95 a 105', 'Mais que 105')"
   ]
  },
  {
   "cell_type": "code",
   "execution_count": 15,
   "metadata": {
    "collapsed": false
   },
   "outputs": [],
   "source": [
    "df114 = pd.DataFrame() #Região\n",
    "\n",
    "df114['Regiao']= pnad2014.UF\n",
    "\n",
    "df114.Regiao[(pnad2014.UF>=10) & (pnad2014.UF<20)]=1\n",
    "df114.Regiao[(pnad2014.UF>=20) & (pnad2014.UF<30)]=2\n",
    "df114.Regiao[(pnad2014.UF>=30) & (pnad2014.UF<40)]=3\n",
    "df114.Regiao[(pnad2014.UF>=40) & (pnad2014.UF<50)]=4\n",
    "df114.Regiao[(pnad2014.UF>=50) & (pnad2014.UF<60)]=5\n",
    "\n",
    "df114['Regiao'] = df114['Regiao'].astype('category')\n",
    "df114.Regiao.cat.categories = ('Norte', 'Nordeste', 'Sudeste', 'Sul', 'Centro_Oeste')"
   ]
  },
  {
   "cell_type": "code",
   "execution_count": 16,
   "metadata": {
    "collapsed": false
   },
   "outputs": [],
   "source": [
    "df101 = pd.DataFrame() #Região\n",
    "\n",
    "df101['Regiao']= pnad2001.uf\n",
    "\n",
    "df101.Regiao[(pnad2001.uf>=10) & (pnad2001.uf<20)]=1\n",
    "df101.Regiao[(pnad2001.uf>=20) & (pnad2001.uf<30)]=2\n",
    "df101.Regiao[(pnad2001.uf>=30) & (pnad2001.uf<40)]=3\n",
    "df101.Regiao[(pnad2001.uf>=40) & (pnad2001.uf<50)]=4\n",
    "df101.Regiao[(pnad2001.uf>=50) & (pnad2001.uf<60)]=5\n",
    "\n",
    "df101['Regiao'] = df101['Regiao'].astype('category')\n",
    "df101.Regiao.cat.categories = ('Norte', 'Nordeste', 'Sudeste', 'Sul', 'Centro_Oeste')"
   ]
  },
  {
   "cell_type": "code",
   "execution_count": 17,
   "metadata": {
    "collapsed": true
   },
   "outputs": [],
   "source": [
    "df2ap14 = pd.DataFrame() #Renda\n",
    "\n",
    "df2ap14['Renda']= pnad2014.V1252\n",
    "\n",
    "df2ap14.Renda[(pnad2014.V1252>=0) & (pnad2014.V1252<2000)] = 1\n",
    "df2ap14.Renda[(pnad2014.V1252>=2000) & (pnad2014.V1252<4000)] = 2\n",
    "df2ap14.Renda[(pnad2014.V1252>=4000) & (pnad2014.V1252<6000)] = 3\n",
    "df2ap14.Renda[(pnad2014.V1252>=6000) & (pnad2014.V1252<8000)] = 4\n",
    "df2ap14.Renda[(pnad2014.V1252>=8000) & (pnad2014.V1252<50000)] = 5\n",
    "df2ap14.Renda[(pnad2014.V1252>=50000)] = 6\n",
    "\n",
    "df2ap14['Renda'] = df2ap14['Renda'].astype('category')\n",
    "df2ap14.Renda.cat.categories = ('até 2000', '2000-4000', '4000-6000', '6000-8000', 'Mais que 8000', 'NA')\n"
   ]
  },
  {
   "cell_type": "code",
   "execution_count": 18,
   "metadata": {
    "collapsed": false
   },
   "outputs": [],
   "source": [
    "df2ap01 = pd.DataFrame() #Renda\n",
    "\n",
    "df2ap01['Renda']= pnad2001.v1252\n",
    "\n",
    "df2ap01.Renda[(pnad2001.v1252>=0) & (pnad2001.v1252<2000)] = 1\n",
    "df2ap01.Renda[(pnad2001.v1252>=2000) & (pnad2001.v1252<4000)] = 2\n",
    "df2ap01.Renda[(pnad2001.v1252>=4000) & (pnad2001.v1252<6000)] = 3\n",
    "df2ap01.Renda[(pnad2001.v1252>=6000) & (pnad2001.v1252<8000)] = 4\n",
    "df2ap01.Renda[(pnad2001.v1252>=8000) & (pnad2001.v1252<50000)] = 5\n",
    "df2ap01.Renda[(pnad2001.v1252>=50000)] = 6\n",
    "\n",
    "df2ap01['Renda'] = df2ap01['Renda'].astype('category')\n",
    "df2ap01.Renda.cat.categories = ('até 2000', '2000-4000', '4000-6000', '6000-8000', 'Mais que 8000', 'NA')"
   ]
  },
  {
   "cell_type": "code",
   "execution_count": 19,
   "metadata": {
    "collapsed": false
   },
   "outputs": [],
   "source": [
    "df2 = pd.DataFrame() #Renda\n",
    "\n",
    "df2['Renda']= pnad2014.V4720\n",
    "\n",
    "df2.Renda[(pnad2014.V4720>=0) & (pnad2014.V4720<2000)] = 1\n",
    "df2.Renda[(pnad2014.V4720>=2000) & (pnad2014.V4720<4000)] = 2\n",
    "df2.Renda[(pnad2014.V4720>=4000) & (pnad2014.V4720<6000)] = 3\n",
    "df2.Renda[(pnad2014.V4720>=6000) & (pnad2014.V4720<8000)] = 4\n",
    "df2.Renda[(pnad2014.V4720>=8000) & (pnad2014.V4720<50000)] = 5\n",
    "df2.Renda[(pnad2014.V4720>=50000)] = 6\n",
    "\n",
    "df2['Renda'] = df2['Renda'].astype('category')\n",
    "df2.Renda.cat.categories = ('até 2000', '2000-4000', '4000-6000', '6000-8000', 'Mais que 8000', 'NA')"
   ]
  },
  {
   "cell_type": "code",
   "execution_count": 20,
   "metadata": {
    "collapsed": false
   },
   "outputs": [],
   "source": [
    "df314 = pd.DataFrame() #Tempo de Estudo\n",
    "\n",
    "df314['Temest']= pnad2014.V4803\n",
    "\n",
    "df314.Temest[(pnad2014.V4803>=0) & (pnad2014.V4803<3)] = 1\n",
    "df314.Temest[(pnad2014.V4803>=3) & (pnad2014.V4803<7)] = 2\n",
    "df314.Temest[(pnad2014.V4803>=7) & (pnad2014.V4803<10)] = 3\n",
    "df314.Temest[(pnad2014.V4803>=10) & (pnad2014.V4803<14)] = 4\n",
    "df314.Temest[(pnad2014.V4803>=14)] = 5\n",
    "\n",
    "df314['Temest'] = df314['Temest'].astype('category')\n",
    "df314.Temest.cat.categories = ('0 a 2', '3 a 6', '7 a 9', '10 a 14', 'Mais que 14')"
   ]
  },
  {
   "cell_type": "code",
   "execution_count": 21,
   "metadata": {
    "collapsed": false
   },
   "outputs": [],
   "source": [
    "df301 = pd.DataFrame() #Tempo de Estudo\n",
    "\n",
    "df301['Temest']= pnad2001.v4703\n",
    "\n",
    "df301.Temest[(pnad2001.v4703>=0) & (pnad2001.v4703<3)] = 1\n",
    "df301.Temest[(pnad2001.v4703>=3) & (pnad2001.v4703<7)] = 2\n",
    "df301.Temest[(pnad2001.v4703>=7) & (pnad2001.v4703<10)] = 3\n",
    "df301.Temest[(pnad2001.v4703>=10) & (pnad2001.v4703<14)] = 4\n",
    "df301.Temest[(pnad2001.v4703>=14)] = 5\n",
    "df301.Temest[(pnad2001.v4703.isnull())] = 11\n",
    "\n",
    "df301['Temest'] = df301['Temest'].astype('category')\n",
    "df301.Temest.cat.categories = ('0 a 2', '3 a 6', '7 a 9', '10 a 14', 'Mais que 14', 'Nan')"
   ]
  },
  {
   "cell_type": "code",
   "execution_count": 22,
   "metadata": {
    "collapsed": false
   },
   "outputs": [],
   "source": [
    "df4 = pd.DataFrame() #Idade\n",
    "\n",
    "df4['initrab']= pnad2014.V9892\n",
    "\n",
    "df4.initrab[(pnad2014.V9892<10)] = 0\n",
    "df4.initrab[(pnad2014.V9892>=10) & (pnad2014.V9892<20)] = 1\n",
    "df4.initrab[(pnad2014.V9892>=20) & (pnad2014.V9892<30)] = 2\n",
    "df4.initrab[(pnad2014.V9892>=30) & (pnad2014.V9892<40)] = 3\n",
    "df4.initrab[(pnad2014.V9892>=40) & (pnad2014.V9892<50)] = 4\n",
    "df4.initrab[(pnad2014.V9892>=50) & (pnad2014.V9892<60)] = 5\n",
    "df4.initrab[(pnad2014.V9892>=60) & (pnad2014.V9892<70)] = 6\n",
    "df4.initrab[(pnad2014.V9892>=70) & (pnad2014.V9892<80)] = 7\n",
    "df4.initrab[(pnad2014.V9892>=80) & (pnad2014.V9892<90)] = 8\n",
    "df4.initrab[(pnad2014.V9892>=90) & (pnad2014.V9892<100)] = 9\n",
    "df4.initrab[(pnad2014.V9892>=100)] = 10\n",
    "df4.initrab[(pnad2014.V9892.isnull())] = 11\n",
    "\n",
    "df4['initrab'] = df4['initrab'].astype('category')\n",
    "df4.initrab.cat.categories = ('Infantil', '10 a 20', '20 a 30', '30 a 40', '40 a 50', '50 a 60', '60 a 70', '70 a 80',  'Nan')"
   ]
  },
  {
   "cell_type": "code",
   "execution_count": 23,
   "metadata": {
    "collapsed": false
   },
   "outputs": [],
   "source": [
    "pnad2014['UF'] = pnad2014['UF'].astype('category')\n",
    "pnad2014.UF.cat.categories = (\"Rondonia\", \"Acre\", \"Amazonas\", \"Roraima\", \"Pará\",\"Amapá\",\n",
    "                                \"Tocantins\", \"Maranhão\", \"Piauí\", \"Ceará\", \"Rio Grande do Norte\",\n",
    "                                \"Paraíba\", \"Pernambuco\", \"Alagoas\", \"Sergipe\", \"Bahia\", \"Minas Gerais\",\n",
    "                                \"Espírito Santo\", \"Rio de Janeiro\", \"São Paulo\", \"Paraná\", \"Santa Catarina\",\n",
    "                                \"Rio Grande do Sul\", \"Mato Grosso do Sul\", \"Mato Grosso\", \"Goiás\", \"Distrito Federal\")\n",
    "\n",
    "pnad2014['V0302'] = pnad2014['V0302'].astype('category')\n",
    "pnad2014.V0302.cat.categories = ('Masculino', 'Feminino')\n",
    "\n",
    "pnad2014['V0404'] = pnad2014['V0404'].astype('category')\n",
    "pnad2014.V0404.cat.categories = ('Indígena', 'Branca', 'Preta', 'Amarela', 'Parda', 'Sem Dec')\n",
    "\n",
    "pnad2014.V0601 = pnad2014.V0601.astype('category') \n",
    "pnad2014.V0601.cat.categories = ('Sim', 'Não')\n",
    "\n",
    "pnad2014.V06111 = pnad2014.V06111.astype('category') \n",
    "pnad2014.V06111.cat.categories = ('Sim', 'Não')\n",
    "\n",
    "pnad2014.V061111 = pnad2014.V061111.astype('category') \n",
    "pnad2014.V061111.cat.categories = ('Sim', 'Não')\n",
    "\n",
    "pnad2014.V06112 = pnad2014.V06112.astype('category') \n",
    "pnad2014.V06112.cat.categories = ('Sim', 'Não')\n",
    "\n",
    "pnad2014.V9122 = pnad2014.V9122.astype('category') \n",
    "pnad2014.V9122.cat.categories = ('Sim', 'Não')\n",
    "\n",
    "pnad2014.V9001 = pnad2014.V9001.astype('category') \n",
    "pnad2014.V9001.cat.categories = ('Sim', 'Não')\n",
    "\n",
    "pnad2014.V9002 = pnad2014.V9002.astype('category') \n",
    "pnad2014.V9002.cat.categories = ('Sim', 'Não')\n",
    "\n",
    "pnad2014.V9005 = pnad2014.V9005.astype('category') \n",
    "pnad2014.V9005.cat.categories = ('Um', 'Dois', 'Mais', 'Nan')"
   ]
  },
  {
   "cell_type": "code",
   "execution_count": 24,
   "metadata": {
    "collapsed": false
   },
   "outputs": [],
   "source": [
    "pnad2001['uf'] = pnad2001['uf'].astype('category')\n",
    "pnad2001.uf.cat.categories = (\"Rondonia\", \"Acre\", \"Amazonas\", \"Roraima\", \"Pará\",\"Amapá\",\n",
    "                                \"Tocantins\", \"Maranhão\", \"Piauí\", \"Ceará\", \"Rio Grande do Norte\",\n",
    "                                \"Paraíba\", \"Pernambuco\", \"Alagoas\", \"Sergipe\", \"Bahia\", \"Minas Gerais\",\n",
    "                                \"Espírito Santo\", \"Rio de Janeiro\", \"São Paulo\", \"Paraná\", \"Santa Catarina\",\n",
    "                                \"Rio Grande do Sul\", \"Mato Grosso do Sul\", \"Mato Grosso\", \"Goiás\", \"Distrito Federal\")\n",
    "\n",
    "pnad2001['v0302'] = pnad2001['v0302'].astype('category')\n",
    "pnad2001.v0302.cat.categories = ('Indeterminado', 'Masculino', 'Feminino')\n",
    "\n",
    "pnad2001['v0404'] = pnad2001['v0404'].astype('category')\n",
    "pnad2001.v0404.cat.categories = ('Indígena', 'Branca', 'Preta', 'Amarela', 'Parda', 'Sem Dec', 'Indeterminado')\n",
    "\n",
    "pnad2001.v0601 = pnad2001.v0601.astype('category') \n",
    "pnad2001.v0601.cat.categories = ('Ignorada', 'Sim', 'Não')\n",
    "\n",
    "pnad2001.v9122 = pnad2001.v9122.astype('category') \n",
    "pnad2001.v9122.cat.categories = ('Ignorado', 'Sim', 'Não')\n",
    "\n",
    "pnad2001.v9001 = pnad2001.v9001.astype('category') \n",
    "pnad2001.v9001.cat.categories = ('Ignorado', 'Sim', 'Não')\n",
    "\n",
    "pnad2001.v9002 = pnad2001.v9002.astype('category') \n",
    "pnad2001.v9002.cat.categories = ('Ignorado', 'Sim', 'Não')\n",
    "\n",
    "pnad2001.v9005 = pnad2001.v9005.astype('category') \n",
    "pnad2001.v9005.cat.categories = ('Um', 'Dois', 'Nan', 'Mais')"
   ]
  },
  {
   "cell_type": "markdown",
   "metadata": {},
   "source": [
    "______________________________________________________________________________________________________________________\n",
    "\n",
    "## Dicionario de Variaveis utilizadas"
   ]
  },
  {
   "cell_type": "markdown",
   "metadata": {},
   "source": [
    "Dicionarios com as Variaveis seus significados e os dados relacionados a elas para servir de registro e facilitar o acesso as informações"
   ]
  },
  {
   "cell_type": "raw",
   "metadata": {},
   "source": [
    "Pnad 2014\n",
    "\n",
    "V0101 - Ano de Ref\n",
    "\n",
    "UF - Região\n",
    "\n",
    "V0302 - Sexo\n",
    "        2\tMasculino\n",
    "        4\tFeminino\n",
    "\n",
    "V0404 - Raça\n",
    "        2\tBranca\n",
    "        4\tPreta\n",
    "        6\tAmarela\n",
    "        8\tParda\n",
    "        0\tIndígena\n",
    "        9\tSem declaração\n",
    "\n",
    "V8005 - idade\n",
    "\n",
    "V4011 - Estado Civil\n",
    "        1\tCasado(a)\n",
    "        3\tDesquitado(a) ou separado(a) judicialmente\n",
    "        5\tDivorciado(a)\n",
    "        7\tViúvo(a)\n",
    "        0\tSolteiro(a)\n",
    "            Não aplicável\n",
    "\n",
    "V0601 - Alfabetizado\n",
    "        2\tSim\n",
    "        4\tNão\n",
    "        Não aplicável\n",
    "\n",
    "V06111 - Usou a Net nos ultimos 3 meses\n",
    "        1\tSim\n",
    "        3\tNão\n",
    "        Não aplicável\n",
    "\n",
    "V061111 - Usou net nos ultimos 12 meses\n",
    "        1\tSim\n",
    "        3\tNão\n",
    "        Não aplicável\n",
    "\n",
    "V06112 - Tem cel\n",
    "        1\tSim\n",
    "        3\tNão\n",
    "        Não aplicável\n",
    "        \n",
    "V9001 e V9002 Tinha emprego na semana de referencia\n",
    "\n",
    "V9005 - Tem Emprego\n",
    "        1\tUm\n",
    "        3\tDois\n",
    "        5\tTrês ou mais\n",
    "        Não aplicável\n",
    "        \n",
    "V9122 - Era aposentado de instituto de previdência federal (INSS)\n",
    "        2\tSim\n",
    "        4\tNão\n",
    "        Não aplicável\n",
    "        \n",
    "V9892 - Idade q começou a trabalhar\n",
    "        04 a 30\tAnos\n",
    "        Não aplicável\n",
    "        \n",
    "V4803 - \"Anos de estudo (todas as pessoas)\"\n",
    "        Sem instrução e menos de 1 ano\n",
    "        1 ano\n",
    "        2 anos\n",
    "        3 anos\n",
    "        4 anos\n",
    "        5 anos\n",
    "        6 anos\n",
    "        7 anos\n",
    "        8 anos\n",
    "        9 anos\n",
    "        10 anos\n",
    "        11 anos\n",
    "        12 anos\n",
    "        13 anos\n",
    "        14 anos\n",
    "        15 anos ou mais\n",
    "        Não determinados \n",
    "        Não aplicável\n",
    "        \n",
    "V4720 - Rendimento mensal de todas as fontes\n",
    "        Valor\tR$\n",
    "        999 999 999 999\tSem declaração\n",
    "        Não aplicável"
   ]
  },
  {
   "cell_type": "raw",
   "metadata": {},
   "source": [
    "Pnad 2001\n",
    "\n",
    "V0101 - Ano de Ref\n",
    "\n",
    "UF - Região\n",
    "\n",
    "V0302 - Sexo\n",
    "        1\tMasculino\n",
    "        3\tFeminino\n",
    "        5\tNão sabe\n",
    "        9\tIgnorado\n",
    "            Não aplicável\n",
    "\n",
    "V0404 - Raça\n",
    "        2\tBranca\n",
    "        4\tPreta\n",
    "        6\tAmarela\n",
    "        8\tParda\n",
    "        0\tIndígena\n",
    "        9\tSem declaração\n",
    "\n",
    "\n",
    "V8005 - idade\n",
    "\n",
    "V0601 - Sabe ler e escrever\t\n",
    "        0\tParte ignorada\n",
    "        1\tSim\n",
    "        3\tNão\n",
    "        9\tIgnorado\n",
    "            Não aplicável\n",
    "\n",
    "V9005 - Tem Emprego\n",
    "        1\tUm\n",
    "        3\tDois\n",
    "        5\tTrês ou mais\n",
    "        Não aplicável\n",
    "        \n",
    "V9122 - Era aposentado de instituto de previdência federal (INSS)\n",
    "        2\tSim\n",
    "        4\tNão\n",
    "        9\tIgnorado\n",
    "        Não aplicável\n",
    "\n",
    "        \n",
    "V9892 - Idade q começou a trabalhar\n",
    "        99 - Ignorado\t\n",
    "        Não aplicável\t"
   ]
  },
  {
   "cell_type": "markdown",
   "metadata": {},
   "source": [
    "______________________________________________________________________________________________________________________\n",
    "\n",
    "## Informações gerais da populãção em 2014 e 2001"
   ]
  },
  {
   "cell_type": "markdown",
   "metadata": {},
   "source": [
    "Considerando que as esntrevistas de dois periodos diferentes com mais de uma decada entre eles foram selecionados, é importante ter um panorama da população geral em cada um deles, em especial, idade media e divisão de genero da população"
   ]
  },
  {
   "cell_type": "code",
   "execution_count": 25,
   "metadata": {
    "collapsed": false
   },
   "outputs": [
    {
     "data": {
      "image/png": "[encoded data removed]",
      "text/plain": [
       "<matplotlib.figure.Figure at 0x1be0441e4a8>"
      ]
     },
     "metadata": {},
     "output_type": "display_data"
    }
   ],
   "source": [
    "ut12014 = (pnad2014.V0302.value_counts()/n2014*100)\n",
    "plot = ut12014.plot(kind='pie',title='Frequências relativas por Sexo em 2014:',autopct='%.1f',figsize=(6, 6))"
   ]
  },
  {
   "cell_type": "code",
   "execution_count": 26,
   "metadata": {
    "collapsed": false
   },
   "outputs": [
    {
     "data": {
      "image/png": "[encoded data removed]",
      "text/plain": [
       "<matplotlib.figure.Figure at 0x1be0459f2e8>"
      ]
     },
     "metadata": {},
     "output_type": "display_data"
    }
   ],
   "source": [
    "ut12001 = (pnad2001.v0302.value_counts()/n2001*100)\n",
    "plot = ut12001.plot(kind='pie',title='Frequências relativas por Sexo em 2001:',autopct='%.1f',figsize=(6, 6))"
   ]
  },
  {
   "cell_type": "markdown",
   "metadata": {},
   "source": [
    "A partir da observação dos graficos é possivel observar que a divisão da população de genero da populaçõa se manteve bem proxima em ambos os periodos"
   ]
  },
  {
   "cell_type": "code",
   "execution_count": 27,
   "metadata": {
    "collapsed": false
   },
   "outputs": [
    {
     "data": {
      "image/png": "[encoded data removed]",
      "text/plain": [
       "<matplotlib.figure.Figure at 0x1be045ac9b0>"
      ]
     },
     "metadata": {},
     "output_type": "display_data"
    }
   ],
   "source": [
    "plot = pnad2014.V8005.plot.box(title='Boxplot da idade da população 2014', figsize=(6,6))"
   ]
  },
  {
   "cell_type": "code",
   "execution_count": 28,
   "metadata": {
    "collapsed": false
   },
   "outputs": [
    {
     "data": {
      "image/png": "[encoded data removed]",
      "text/plain": [
       "<matplotlib.figure.Figure at 0x1be0459f240>"
      ]
     },
     "metadata": {},
     "output_type": "display_data"
    }
   ],
   "source": [
    "NF = 15\n",
    "NF = round(NF,0)\n",
    "Min = pnad2014.V8005.min()\n",
    "Max = pnad2014.V8005.max()\n",
    "\n",
    "Step3 = (Max-Min)/NF\n",
    "\n",
    "faixa3 = np.arange(Min, Max, Step3)\n",
    "\n",
    "plot = pnad2014.V8005.plot.hist(bins=faixa3, title='Histograma da idade da população 2014', figsize=(6,6), normed = 1)"
   ]
  },
  {
   "cell_type": "code",
   "execution_count": 29,
   "metadata": {
    "collapsed": false
   },
   "outputs": [
    {
     "data": {
      "text/plain": [
       "(0, 120)"
      ]
     },
     "execution_count": 29,
     "metadata": {},
     "output_type": "execute_result"
    },
    {
     "data": {
      "image/png": "[encoded data removed]",
      "text/plain": [
       "<matplotlib.figure.Figure at 0x1be0442cf98>"
      ]
     },
     "metadata": {},
     "output_type": "display_data"
    }
   ],
   "source": [
    "plot = pnad2001.v8005.plot.box(title='Boxplot da idade da população 2014', figsize=(6,6))\n",
    "plot.set_ylim (0,120)"
   ]
  },
  {
   "cell_type": "code",
   "execution_count": 30,
   "metadata": {
    "collapsed": false
   },
   "outputs": [
    {
     "data": {
      "image/png": "[encoded data removed]",
      "text/plain": [
       "<matplotlib.figure.Figure at 0x1be502fc2e8>"
      ]
     },
     "metadata": {},
     "output_type": "display_data"
    }
   ],
   "source": [
    "NF = 15\n",
    "NF = round(NF,0)\n",
    "Min = pnad2001.v8005.min()\n",
    "Max = 120\n",
    "\n",
    "Step3 = (Max-Min)/NF\n",
    "\n",
    "faixa3 = np.arange(Min, Max, Step3)\n",
    "\n",
    "plot = pnad2001.v8005.plot.hist(bins=faixa3, title='Histograma da idade da população 2014', figsize=(6,6), normed = 1)"
   ]
  },
  {
   "cell_type": "markdown",
   "metadata": {},
   "source": [
    "Já em relação a idade geral da popualação é possivel observar pelo boxplot que os 25% superiores da ppulação passaram a atingir uma faixa mais proxima de 100 anos em 2014 em comparação aos 83 de 2001, ao mesmo tempo eh possivel observar que a media de idade da populaçõa passou de 23 para 33 anos, mostrando que houve um aumento na espectativa de vida geral ao mesmo tempo que a população de 2014 de forma geral possui uma idade mais avançada em relação a de 2001\n",
    "\n",
    "Ao observar os histogramas é possivel confirmar o que vemos no boxplot, a população passa a atingirr idades mais avançadas em maior quantidade ao mesmo tempo que o numero de adultos em relação ao de jovens aumenta."
   ]
  },
  {
   "cell_type": "markdown",
   "metadata": {},
   "source": [
    "___\n",
    "\n",
    "## Dados iniciais sobre idade dos aposentados"
   ]
  },
  {
   "cell_type": "markdown",
   "metadata": {},
   "source": [
    "# 2014"
   ]
  },
  {
   "cell_type": "markdown",
   "metadata": {},
   "source": [
    "Para inicar a pesquisa é iportante ter um panorama sobre a distribuição dos aposentados em relção a idade que atingem, para isso a idade foi dividida em faixas, que inclem a idade minima de aposentadoria para cada sexo (60 masculino, 55 feminino)"
   ]
  },
  {
   "cell_type": "code",
   "execution_count": 31,
   "metadata": {
    "collapsed": false
   },
   "outputs": [
    {
     "name": "stdout",
     "output_type": "stream",
     "text": [
      "Não    273118\n",
      "Sim     38642\n",
      "Name: V9122, dtype: int64\n"
     ]
    }
   ],
   "source": [
    "print(pnad2014.V9122.value_counts())\n",
    "Tapos14 = 38642"
   ]
  },
  {
   "cell_type": "code",
   "execution_count": 32,
   "metadata": {
    "collapsed": false
   },
   "outputs": [
    {
     "name": "stdout",
     "output_type": "stream",
     "text": [
      "Idade media dos aposentados em 2001 67.4 anos\n"
     ]
    }
   ],
   "source": [
    "AgeAvr = pnad2014.V8005[(pnad2014.V9122 == 'Sim')]\n",
    "AgeAvr = AgeAvr.mean()\n",
    "print('Idade media dos aposentados em 2001 {0} anos'.format(round(AgeAvr,1)))"
   ]
  },
  {
   "cell_type": "code",
   "execution_count": 33,
   "metadata": {
    "collapsed": false
   },
   "outputs": [
    {
     "name": "stdout",
     "output_type": "stream",
     "text": [
      "Idade da população de 2014 com número de aposentados (Masculino)\n"
     ]
    },
    {
     "data": {
      "text/html": [
       "<div>\n",
       "<table border=\"1\" class=\"dataframe\">\n",
       "  <thead>\n",
       "    <tr style=\"text-align: right;\">\n",
       "      <th>idade</th>\n",
       "      <th>0 a 15</th>\n",
       "      <th>15 a 30</th>\n",
       "      <th>30 a 45</th>\n",
       "      <th>45 a 60</th>\n",
       "      <th>60 a 70</th>\n",
       "      <th>70 a 80</th>\n",
       "      <th>80 a 90</th>\n",
       "      <th>90 a 100</th>\n",
       "      <th>Mais que 100</th>\n",
       "    </tr>\n",
       "    <tr>\n",
       "      <th>V9122</th>\n",
       "      <th></th>\n",
       "      <th></th>\n",
       "      <th></th>\n",
       "      <th></th>\n",
       "      <th></th>\n",
       "      <th></th>\n",
       "      <th></th>\n",
       "      <th></th>\n",
       "      <th></th>\n",
       "    </tr>\n",
       "  </thead>\n",
       "  <tbody>\n",
       "    <tr>\n",
       "      <th>Sim</th>\n",
       "      <td>7</td>\n",
       "      <td>81</td>\n",
       "      <td>396</td>\n",
       "      <td>3164</td>\n",
       "      <td>7565</td>\n",
       "      <td>5622</td>\n",
       "      <td>1869</td>\n",
       "      <td>292</td>\n",
       "      <td>18</td>\n",
       "    </tr>\n",
       "    <tr>\n",
       "      <th>Não</th>\n",
       "      <td>15032</td>\n",
       "      <td>44277</td>\n",
       "      <td>39050</td>\n",
       "      <td>26841</td>\n",
       "      <td>4725</td>\n",
       "      <td>711</td>\n",
       "      <td>202</td>\n",
       "      <td>25</td>\n",
       "      <td>3</td>\n",
       "    </tr>\n",
       "  </tbody>\n",
       "</table>\n",
       "</div>"
      ],
      "text/plain": [
       "idade  0 a 15  15 a 30  30 a 45  45 a 60  60 a 70  70 a 80  80 a 90  90 a 100  \\\n",
       "V9122                                                                           \n",
       "Sim         7       81      396     3164     7565     5622     1869       292   \n",
       "Não     15032    44277    39050    26841     4725      711      202        25   \n",
       "\n",
       "idade  Mais que 100  \n",
       "V9122                \n",
       "Sim              18  \n",
       "Não               3  "
      ]
     },
     "execution_count": 33,
     "metadata": {},
     "output_type": "execute_result"
    }
   ],
   "source": [
    "print(\"Idade da população de 2014 com número de aposentados (Masculino)\")\n",
    "Apidm14 = pd.crosstab(pnad2014.V9122[pnad2014.V0302 == 'Masculino'], df014m.idade)\n",
    "Apidm14"
   ]
  },
  {
   "cell_type": "code",
   "execution_count": 34,
   "metadata": {
    "collapsed": false
   },
   "outputs": [
    {
     "name": "stdout",
     "output_type": "stream",
     "text": [
      "Idade da população de 2014 com número de aposentados (Feminino)\n"
     ]
    },
    {
     "data": {
      "text/html": [
       "<div>\n",
       "<table border=\"1\" class=\"dataframe\">\n",
       "  <thead>\n",
       "    <tr style=\"text-align: right;\">\n",
       "      <th>idade</th>\n",
       "      <th>0 a 15</th>\n",
       "      <th>15 a 30</th>\n",
       "      <th>30 a 45</th>\n",
       "      <th>45 a 55</th>\n",
       "      <th>55 a 65</th>\n",
       "      <th>65 a 75</th>\n",
       "      <th>75 a 85</th>\n",
       "      <th>85 a 95</th>\n",
       "      <th>95 a 105</th>\n",
       "      <th>Mais que 105</th>\n",
       "    </tr>\n",
       "    <tr>\n",
       "      <th>V9122</th>\n",
       "      <th></th>\n",
       "      <th></th>\n",
       "      <th></th>\n",
       "      <th></th>\n",
       "      <th></th>\n",
       "      <th></th>\n",
       "      <th></th>\n",
       "      <th></th>\n",
       "      <th></th>\n",
       "      <th></th>\n",
       "    </tr>\n",
       "  </thead>\n",
       "  <tbody>\n",
       "    <tr>\n",
       "      <th>Sim</th>\n",
       "      <td>3</td>\n",
       "      <td>35</td>\n",
       "      <td>231</td>\n",
       "      <td>1251</td>\n",
       "      <td>6577</td>\n",
       "      <td>6799</td>\n",
       "      <td>3580</td>\n",
       "      <td>1051</td>\n",
       "      <td>93</td>\n",
       "      <td>8</td>\n",
       "    </tr>\n",
       "    <tr>\n",
       "      <th>Não</th>\n",
       "      <td>14126</td>\n",
       "      <td>44260</td>\n",
       "      <td>42683</td>\n",
       "      <td>22912</td>\n",
       "      <td>11604</td>\n",
       "      <td>4065</td>\n",
       "      <td>1917</td>\n",
       "      <td>619</td>\n",
       "      <td>64</td>\n",
       "      <td>2</td>\n",
       "    </tr>\n",
       "  </tbody>\n",
       "</table>\n",
       "</div>"
      ],
      "text/plain": [
       "idade  0 a 15  15 a 30  30 a 45  45 a 55  55 a 65  65 a 75  75 a 85  85 a 95  \\\n",
       "V9122                                                                          \n",
       "Sim         3       35      231     1251     6577     6799     3580     1051   \n",
       "Não     14126    44260    42683    22912    11604     4065     1917      619   \n",
       "\n",
       "idade  95 a 105  Mais que 105  \n",
       "V9122                          \n",
       "Sim          93             8  \n",
       "Não          64             2  "
      ]
     },
     "execution_count": 34,
     "metadata": {},
     "output_type": "execute_result"
    }
   ],
   "source": [
    "print(\"Idade da população de 2014 com número de aposentados (Feminino)\")\n",
    "Apidf14 = pd.crosstab(pnad2014.V9122[pnad2014.V0302 == 'Feminino'], df014f.idade)\n",
    "Apidf14"
   ]
  },
  {
   "cell_type": "code",
   "execution_count": 35,
   "metadata": {
    "collapsed": false
   },
   "outputs": [
    {
     "name": "stdout",
     "output_type": "stream",
     "text": [
      "Idade dos aposentados de 2014\n"
     ]
    },
    {
     "data": {
      "image/png": "[encoded data removed]",
      "text/plain": [
       "<matplotlib.figure.Figure at 0x1be4dd397f0>"
      ]
     },
     "metadata": {},
     "output_type": "display_data"
    }
   ],
   "source": [
    "print(\"Idade dos aposentados de 2014\")\n",
    "plt.plot((pnad2014.V8005[pnad2014.V9122=='Sim']).value_counts()/(Tapos14), 'o')\n",
    "plt.xlabel(\"Idade\")\n",
    "plt.ylabel(\"Frequencia relativa\")\n",
    "plt.show()"
   ]
  },
  {
   "cell_type": "code",
   "execution_count": 36,
   "metadata": {
    "collapsed": false
   },
   "outputs": [
    {
     "name": "stdout",
     "output_type": "stream",
     "text": [
      "Idade media dos aposentados em 2001 67.3 anos\n"
     ]
    }
   ],
   "source": [
    "AgeAvr = pnad2014.V8005[(pnad2014.V9122 == 'Sim') & (pnad2014.V0302 == 'Masculino')]\n",
    "AgeAvr = AgeAvr.mean()\n",
    "print('Idade media dos aposentados em 2001 {0} anos'.format(round(AgeAvr,1)))"
   ]
  },
  {
   "cell_type": "code",
   "execution_count": 37,
   "metadata": {
    "collapsed": false
   },
   "outputs": [
    {
     "name": "stdout",
     "output_type": "stream",
     "text": [
      "Idade media dos aposentados em 2001 67.5 anos\n"
     ]
    }
   ],
   "source": [
    "AgeAvr = pnad2014.V8005[(pnad2014.V9122 == 'Sim') & (pnad2014.V0302 == 'Feminino')]\n",
    "AgeAvr = AgeAvr.mean()\n",
    "print('Idade media dos aposentados em 2001 {0} anos'.format(round(AgeAvr,1)))"
   ]
  },
  {
   "cell_type": "markdown",
   "metadata": {},
   "source": [
    "A partir dos dados de 2014 é possivel concluir que ambos os grupos (masculino e feminino) se aproximam no comportamento da idade apesar da diferença na idade de aposentadoria, isso poderia ser explicado pela pequena diferença que existe na expectativa d vida dos dois generos.\n",
    "\n",
    "Em relação aos jovens \"aposentados\" é possivel se esperar que a aposentadoria seja por invaliedez"
   ]
  },
  {
   "cell_type": "markdown",
   "metadata": {},
   "source": [
    "# 2001"
   ]
  },
  {
   "cell_type": "markdown",
   "metadata": {},
   "source": [
    "Da mesma forma que para 2014 verificar o extrato de aposentados em relação a idade media é importante"
   ]
  },
  {
   "cell_type": "code",
   "execution_count": 38,
   "metadata": {
    "collapsed": false
   },
   "outputs": [
    {
     "name": "stdout",
     "output_type": "stream",
     "text": [
      "Idade media dos aposentados em 2001 64.8 anos\n"
     ]
    }
   ],
   "source": [
    "AgeAvr = pnad2001.v8005[(pnad2001.v9122 == 'Sim')]\n",
    "AgeAvr = AgeAvr.mean()\n",
    "print('Idade media dos aposentados em 2001 {0} anos'.format(round(AgeAvr,1)))"
   ]
  },
  {
   "cell_type": "code",
   "execution_count": 39,
   "metadata": {
    "collapsed": false
   },
   "outputs": [
    {
     "name": "stdout",
     "output_type": "stream",
     "text": [
      "Não         313246\n",
      "Sim          29975\n",
      "Ignorado         5\n",
      "Name: v9122, dtype: int64\n"
     ]
    }
   ],
   "source": [
    "print(pnad2001.v9122.value_counts())\n",
    "Tapos01 = 29975"
   ]
  },
  {
   "cell_type": "code",
   "execution_count": 40,
   "metadata": {
    "collapsed": false
   },
   "outputs": [
    {
     "name": "stdout",
     "output_type": "stream",
     "text": [
      "Idade da população de 2001 com número de aposentados (Masculino)\n"
     ]
    },
    {
     "data": {
      "text/html": [
       "<div>\n",
       "<table border=\"1\" class=\"dataframe\">\n",
       "  <thead>\n",
       "    <tr style=\"text-align: right;\">\n",
       "      <th>idade</th>\n",
       "      <th>0 a 15</th>\n",
       "      <th>15 a 30</th>\n",
       "      <th>30 a 45</th>\n",
       "      <th>45 a 60</th>\n",
       "      <th>60 a 70</th>\n",
       "      <th>70 a 80</th>\n",
       "      <th>80 a 90</th>\n",
       "      <th>90 a 100</th>\n",
       "      <th>Mais que 100</th>\n",
       "    </tr>\n",
       "    <tr>\n",
       "      <th>v9122</th>\n",
       "      <th></th>\n",
       "      <th></th>\n",
       "      <th></th>\n",
       "      <th></th>\n",
       "      <th></th>\n",
       "      <th></th>\n",
       "      <th></th>\n",
       "      <th></th>\n",
       "      <th></th>\n",
       "    </tr>\n",
       "  </thead>\n",
       "  <tbody>\n",
       "    <tr>\n",
       "      <th>Ignorado</th>\n",
       "      <td>1</td>\n",
       "      <td>0</td>\n",
       "      <td>1</td>\n",
       "      <td>0</td>\n",
       "      <td>0</td>\n",
       "      <td>1</td>\n",
       "      <td>0</td>\n",
       "      <td>0</td>\n",
       "      <td>0</td>\n",
       "    </tr>\n",
       "    <tr>\n",
       "      <th>Sim</th>\n",
       "      <td>43</td>\n",
       "      <td>204</td>\n",
       "      <td>690</td>\n",
       "      <td>4020</td>\n",
       "      <td>5563</td>\n",
       "      <td>4093</td>\n",
       "      <td>1284</td>\n",
       "      <td>154</td>\n",
       "      <td>3</td>\n",
       "    </tr>\n",
       "    <tr>\n",
       "      <th>Não</th>\n",
       "      <td>37275</td>\n",
       "      <td>52158</td>\n",
       "      <td>38314</td>\n",
       "      <td>19042</td>\n",
       "      <td>2810</td>\n",
       "      <td>276</td>\n",
       "      <td>47</td>\n",
       "      <td>12</td>\n",
       "      <td>15</td>\n",
       "    </tr>\n",
       "  </tbody>\n",
       "</table>\n",
       "</div>"
      ],
      "text/plain": [
       "idade     0 a 15  15 a 30  30 a 45  45 a 60  60 a 70  70 a 80  80 a 90  \\\n",
       "v9122                                                                    \n",
       "Ignorado       1        0        1        0        0        1        0   \n",
       "Sim           43      204      690     4020     5563     4093     1284   \n",
       "Não        37275    52158    38314    19042     2810      276       47   \n",
       "\n",
       "idade     90 a 100  Mais que 100  \n",
       "v9122                             \n",
       "Ignorado         0             0  \n",
       "Sim            154             3  \n",
       "Não             12            15  "
      ]
     },
     "execution_count": 40,
     "metadata": {},
     "output_type": "execute_result"
    }
   ],
   "source": [
    "print(\"Idade da população de 2001 com número de aposentados (Masculino)\")\n",
    "Apidm01 = pd.crosstab(pnad2001.v9122[pnad2001.v0302 == 'Masculino'], df001m.idade)\n",
    "Apidm01"
   ]
  },
  {
   "cell_type": "code",
   "execution_count": 41,
   "metadata": {
    "collapsed": false
   },
   "outputs": [
    {
     "name": "stdout",
     "output_type": "stream",
     "text": [
      "Idade da população de 2001 com número de aposentados (Feminino)\n"
     ]
    },
    {
     "data": {
      "text/html": [
       "<div>\n",
       "<table border=\"1\" class=\"dataframe\">\n",
       "  <thead>\n",
       "    <tr style=\"text-align: right;\">\n",
       "      <th>idade</th>\n",
       "      <th>0 a 15</th>\n",
       "      <th>15 a 30</th>\n",
       "      <th>30 a 45</th>\n",
       "      <th>45 a 55</th>\n",
       "      <th>55 a 65</th>\n",
       "      <th>65 a 75</th>\n",
       "      <th>75 a 85</th>\n",
       "      <th>85 a 95</th>\n",
       "      <th>95 a 105</th>\n",
       "      <th>Mais que 105</th>\n",
       "    </tr>\n",
       "    <tr>\n",
       "      <th>v9122</th>\n",
       "      <th></th>\n",
       "      <th></th>\n",
       "      <th></th>\n",
       "      <th></th>\n",
       "      <th></th>\n",
       "      <th></th>\n",
       "      <th></th>\n",
       "      <th></th>\n",
       "      <th></th>\n",
       "      <th></th>\n",
       "    </tr>\n",
       "  </thead>\n",
       "  <tbody>\n",
       "    <tr>\n",
       "      <th>Ignorado</th>\n",
       "      <td>0</td>\n",
       "      <td>0</td>\n",
       "      <td>1</td>\n",
       "      <td>0</td>\n",
       "      <td>0</td>\n",
       "      <td>0</td>\n",
       "      <td>0</td>\n",
       "      <td>0</td>\n",
       "      <td>0</td>\n",
       "      <td>0</td>\n",
       "    </tr>\n",
       "    <tr>\n",
       "      <th>Sim</th>\n",
       "      <td>32</td>\n",
       "      <td>115</td>\n",
       "      <td>377</td>\n",
       "      <td>1635</td>\n",
       "      <td>4195</td>\n",
       "      <td>4649</td>\n",
       "      <td>2237</td>\n",
       "      <td>611</td>\n",
       "      <td>67</td>\n",
       "      <td>3</td>\n",
       "    </tr>\n",
       "    <tr>\n",
       "      <th>Não</th>\n",
       "      <td>36606</td>\n",
       "      <td>54211</td>\n",
       "      <td>41856</td>\n",
       "      <td>17568</td>\n",
       "      <td>7941</td>\n",
       "      <td>3307</td>\n",
       "      <td>1366</td>\n",
       "      <td>395</td>\n",
       "      <td>26</td>\n",
       "      <td>21</td>\n",
       "    </tr>\n",
       "  </tbody>\n",
       "</table>\n",
       "</div>"
      ],
      "text/plain": [
       "idade     0 a 15  15 a 30  30 a 45  45 a 55  55 a 65  65 a 75  75 a 85  \\\n",
       "v9122                                                                    \n",
       "Ignorado       0        0        1        0        0        0        0   \n",
       "Sim           32      115      377     1635     4195     4649     2237   \n",
       "Não        36606    54211    41856    17568     7941     3307     1366   \n",
       "\n",
       "idade     85 a 95  95 a 105  Mais que 105  \n",
       "v9122                                      \n",
       "Ignorado        0         0             0  \n",
       "Sim           611        67             3  \n",
       "Não           395        26            21  "
      ]
     },
     "execution_count": 41,
     "metadata": {},
     "output_type": "execute_result"
    }
   ],
   "source": [
    "print(\"Idade da população de 2001 com número de aposentados (Feminino)\")\n",
    "Apidf01 = pd.crosstab(pnad2001.v9122[pnad2001.v0302 == 'Feminino'], df001f.idade)\n",
    "Apidf01"
   ]
  },
  {
   "cell_type": "code",
   "execution_count": 42,
   "metadata": {
    "collapsed": false
   },
   "outputs": [
    {
     "name": "stdout",
     "output_type": "stream",
     "text": [
      "Idade dos aposentados de 2001\n"
     ]
    },
    {
     "data": {
      "image/png": "[encoded data removed]",
      "text/plain": [
       "<matplotlib.figure.Figure at 0x1be4dd2f470>"
      ]
     },
     "metadata": {},
     "output_type": "display_data"
    }
   ],
   "source": [
    "print(\"Idade dos aposentados de 2001\")\n",
    "plt.plot((pnad2001.v8005[pnad2001.v9122=='Sim']).value_counts()/(Tapos01),'bo')\n",
    "plt.axis([0, 120, 0, 0.045])\n",
    "plt.xlabel(\"Idade\")\n",
    "plt.ylabel(\"Frequencia relativa\")\n",
    "plt.show()"
   ]
  },
  {
   "cell_type": "code",
   "execution_count": 43,
   "metadata": {
    "collapsed": false
   },
   "outputs": [
    {
     "name": "stdout",
     "output_type": "stream",
     "text": [
      "Idade media dos aposentados em 2001 64.1 anos\n"
     ]
    }
   ],
   "source": [
    "AgeAvr = pnad2001.v8005[(pnad2001.v9122 == 'Sim') & (pnad2001.v0302 == 'Masculino')]\n",
    "AgeAvr = AgeAvr.mean()\n",
    "print('Idade media dos aposentados em 2001 {0} anos'.format(round(AgeAvr,1)))"
   ]
  },
  {
   "cell_type": "code",
   "execution_count": 44,
   "metadata": {
    "collapsed": false
   },
   "outputs": [
    {
     "name": "stdout",
     "output_type": "stream",
     "text": [
      "Idade media dos aposentados em 2001 65.5 anos\n"
     ]
    }
   ],
   "source": [
    "AgeAvr = pnad2001.v8005[(pnad2001.v9122 == 'Sim') & (pnad2001.v0302 == 'Feminino')]\n",
    "AgeAvr = AgeAvr.mean()\n",
    "print('Idade media dos aposentados em 2001 {0} anos'.format(round(AgeAvr,1)))"
   ]
  },
  {
   "cell_type": "markdown",
   "metadata": {},
   "source": [
    "A partir dos dados de 2001 também é possivel concluir que ambos os grupos (masculino e feminino) se aproximam no comportamento da idade apesar da diferença na idade de aposentadoria, porém ambas as idades medias são inferiores às de 2014 o que corressponde a expectativa de vida menor descoberta anteriormente\n",
    "\n",
    "Em relação aos jovens \"aposentados\" é possivel se esperar que a aposentadoria seja por invaliedez"
   ]
  },
  {
   "cell_type": "markdown",
   "metadata": {},
   "source": [
    "___\n",
    "\n",
    "## Dados sobre localização dos aposentados brasileiros"
   ]
  },
  {
   "cell_type": "markdown",
   "metadata": {},
   "source": [
    "Assim como a idade é relevante para compreender o panorama dos aposentados brasileiros, a região também é um ponto importante "
   ]
  },
  {
   "cell_type": "code",
   "execution_count": 45,
   "metadata": {
    "collapsed": false
   },
   "outputs": [
    {
     "name": "stdout",
     "output_type": "stream",
     "text": [
      "362626\n",
      "Numero de pessoas por Região 2014\n"
     ]
    },
    {
     "data": {
      "text/plain": [
       "Sudeste         106535\n",
       "Nordeste        104760\n",
       "Norte            57868\n",
       "Sul              55606\n",
       "Centro_Oeste     37857\n",
       "Name: Regiao, dtype: int64"
      ]
     },
     "execution_count": 45,
     "metadata": {},
     "output_type": "execute_result"
    }
   ],
   "source": [
    "print(n2014)\n",
    "print('Numero de pessoas por Região 2014')\n",
    "df114.Regiao.value_counts()"
   ]
  },
  {
   "cell_type": "code",
   "execution_count": 46,
   "metadata": {
    "collapsed": false
   },
   "outputs": [
    {
     "name": "stdout",
     "output_type": "stream",
     "text": [
      "378843\n",
      "Numero de aposentados por Região 2001\n"
     ]
    },
    {
     "data": {
      "text/plain": [
       "Nordeste        116623\n",
       "Sudeste         115112\n",
       "Sul              58918\n",
       "Norte            47363\n",
       "Centro_Oeste     40827\n",
       "Name: Regiao, dtype: int64"
      ]
     },
     "execution_count": 46,
     "metadata": {},
     "output_type": "execute_result"
    }
   ],
   "source": [
    "print(n2001)\n",
    "print('Numero de aposentados por Região 2001')\n",
    "df101.Regiao.value_counts()"
   ]
  },
  {
   "cell_type": "code",
   "execution_count": 47,
   "metadata": {
    "collapsed": false
   },
   "outputs": [
    {
     "name": "stdout",
     "output_type": "stream",
     "text": [
      "Numero de aposentados por Região 2014\n"
     ]
    },
    {
     "data": {
      "text/html": [
       "<div>\n",
       "<table border=\"1\" class=\"dataframe\">\n",
       "  <thead>\n",
       "    <tr style=\"text-align: right;\">\n",
       "      <th>Regiao</th>\n",
       "      <th>Norte</th>\n",
       "      <th>Nordeste</th>\n",
       "      <th>Sudeste</th>\n",
       "      <th>Sul</th>\n",
       "      <th>Centro_Oeste</th>\n",
       "    </tr>\n",
       "    <tr>\n",
       "      <th>V9122</th>\n",
       "      <th></th>\n",
       "      <th></th>\n",
       "      <th></th>\n",
       "      <th></th>\n",
       "      <th></th>\n",
       "    </tr>\n",
       "  </thead>\n",
       "  <tbody>\n",
       "    <tr>\n",
       "      <th>Sim</th>\n",
       "      <td>3989</td>\n",
       "      <td>10918</td>\n",
       "      <td>12537</td>\n",
       "      <td>7941</td>\n",
       "      <td>3257</td>\n",
       "    </tr>\n",
       "    <tr>\n",
       "      <th>Não</th>\n",
       "      <td>43744</td>\n",
       "      <td>78637</td>\n",
       "      <td>80675</td>\n",
       "      <td>40859</td>\n",
       "      <td>29203</td>\n",
       "    </tr>\n",
       "  </tbody>\n",
       "</table>\n",
       "</div>"
      ],
      "text/plain": [
       "Regiao  Norte  Nordeste  Sudeste    Sul  Centro_Oeste\n",
       "V9122                                                \n",
       "Sim      3989     10918    12537   7941          3257\n",
       "Não     43744     78637    80675  40859         29203"
      ]
     },
     "execution_count": 47,
     "metadata": {},
     "output_type": "execute_result"
    }
   ],
   "source": [
    "ApReg14 = pd.crosstab(pnad2014.V9122, df114.Regiao)\n",
    "print('Numero de aposentados por Região 2014')\n",
    "ApReg14"
   ]
  },
  {
   "cell_type": "code",
   "execution_count": 48,
   "metadata": {
    "collapsed": false
   },
   "outputs": [
    {
     "name": "stdout",
     "output_type": "stream",
     "text": [
      "Numero de aposentados por Região 2014\n"
     ]
    },
    {
     "data": {
      "image/png": "[encoded data removed]",
      "text/plain": [
       "<matplotlib.figure.Figure at 0x1be4ddbc048>"
      ]
     },
     "metadata": {},
     "output_type": "display_data"
    }
   ],
   "source": [
    "print('Numero de aposentados por Região 2014')\n",
    "plot = ApReg14.plot(kind='pie',title='Aposentados em cada região 2014',autopct='%.1f',figsize=(18, 3.5), subplots=True)"
   ]
  },
  {
   "cell_type": "markdown",
   "metadata": {},
   "source": [
    "A partir dos daos é possivel observar qur os aposentados representam uma parte significante da população sendo cerca de 11% da população de cada região, com o Sul sendo a região com maior numero relativo de aposentados"
   ]
  },
  {
   "cell_type": "code",
   "execution_count": 49,
   "metadata": {
    "collapsed": false
   },
   "outputs": [
    {
     "name": "stdout",
     "output_type": "stream",
     "text": [
      "Numero de aposentados por Região 2001\n"
     ]
    },
    {
     "data": {
      "text/html": [
       "<div>\n",
       "<table border=\"1\" class=\"dataframe\">\n",
       "  <thead>\n",
       "    <tr style=\"text-align: right;\">\n",
       "      <th>Regiao</th>\n",
       "      <th>Norte</th>\n",
       "      <th>Nordeste</th>\n",
       "      <th>Sudeste</th>\n",
       "      <th>Sul</th>\n",
       "      <th>Centro_Oeste</th>\n",
       "    </tr>\n",
       "    <tr>\n",
       "      <th>v9122</th>\n",
       "      <th></th>\n",
       "      <th></th>\n",
       "      <th></th>\n",
       "      <th></th>\n",
       "      <th></th>\n",
       "    </tr>\n",
       "  </thead>\n",
       "  <tbody>\n",
       "    <tr>\n",
       "      <th>Ignorado</th>\n",
       "      <td>4</td>\n",
       "      <td>1</td>\n",
       "      <td>0</td>\n",
       "      <td>0</td>\n",
       "      <td>0</td>\n",
       "    </tr>\n",
       "    <tr>\n",
       "      <th>Sim</th>\n",
       "      <td>2282</td>\n",
       "      <td>9492</td>\n",
       "      <td>10141</td>\n",
       "      <td>5886</td>\n",
       "      <td>2174</td>\n",
       "    </tr>\n",
       "    <tr>\n",
       "      <th>Não</th>\n",
       "      <td>39742</td>\n",
       "      <td>95548</td>\n",
       "      <td>95243</td>\n",
       "      <td>48013</td>\n",
       "      <td>34700</td>\n",
       "    </tr>\n",
       "  </tbody>\n",
       "</table>\n",
       "</div>"
      ],
      "text/plain": [
       "Regiao    Norte  Nordeste  Sudeste    Sul  Centro_Oeste\n",
       "v9122                                                  \n",
       "Ignorado      4         1        0      0             0\n",
       "Sim        2282      9492    10141   5886          2174\n",
       "Não       39742     95548    95243  48013         34700"
      ]
     },
     "execution_count": 49,
     "metadata": {},
     "output_type": "execute_result"
    }
   ],
   "source": [
    "ApReg01 = pd.crosstab(pnad2001.v9122, df101.Regiao)\n",
    "print('Numero de aposentados por Região 2001')\n",
    "ApReg01"
   ]
  },
  {
   "cell_type": "code",
   "execution_count": 50,
   "metadata": {
    "collapsed": false
   },
   "outputs": [
    {
     "name": "stdout",
     "output_type": "stream",
     "text": [
      "Numero de aposentados por Região 2001\n"
     ]
    },
    {
     "data": {
      "image/png": "[encoded data removed]",
      "text/plain": [
       "<matplotlib.figure.Figure at 0x1be04304550>"
      ]
     },
     "metadata": {},
     "output_type": "display_data"
    }
   ],
   "source": [
    "plot = ApReg01.plot(kind='pie',title='Aposentados em cada região 2001',autopct='%.1f',figsize=(18, 3.5), subplots=True, colors = ('r','b','g'))\n",
    "print('Numero de aposentados por Região 2001')"
   ]
  },
  {
   "cell_type": "markdown",
   "metadata": {},
   "source": [
    "Em 2001 temos um grande contraste em relação a 2014, com uma queda relativa por região de quase 60% (de 11% aposentado parra 6%), além disso temos o Sul novamente como a regiao com mais aposentados relativamente"
   ]
  },
  {
   "cell_type": "markdown",
   "metadata": {},
   "source": [
    "___\n",
    "\n",
    "## Dados sobre a idade dos aposentados comparando os que se mantem economicamente ativos e os que não são"
   ]
  },
  {
   "cell_type": "markdown",
   "metadata": {},
   "source": [
    "A partir dos panoramas gerais da população é importante se aproximar do objetivo da pesquisa par isso a observação do comportamento dos aposentados que trabalham e que não trabalham em relação a idade que atingem para observar as razões entre cada grupo de idades"
   ]
  },
  {
   "cell_type": "code",
   "execution_count": 51,
   "metadata": {
    "collapsed": false
   },
   "outputs": [
    {
     "name": "stdout",
     "output_type": "stream",
     "text": [
      "Realção de aposentados, trabalho e idade em 2014\n"
     ]
    },
    {
     "data": {
      "text/html": [
       "<div>\n",
       "<table border=\"1\" class=\"dataframe\">\n",
       "  <thead>\n",
       "    <tr style=\"text-align: right;\">\n",
       "      <th>idade</th>\n",
       "      <th>0 a 15</th>\n",
       "      <th>15 a 30</th>\n",
       "      <th>30 a 45</th>\n",
       "      <th>45 a 60</th>\n",
       "      <th>60 a 70</th>\n",
       "      <th>70 a 80</th>\n",
       "      <th>80 a 90</th>\n",
       "      <th>90 a 100</th>\n",
       "      <th>Mais que 100</th>\n",
       "    </tr>\n",
       "    <tr>\n",
       "      <th>row_0</th>\n",
       "      <th></th>\n",
       "      <th></th>\n",
       "      <th></th>\n",
       "      <th></th>\n",
       "      <th></th>\n",
       "      <th></th>\n",
       "      <th></th>\n",
       "      <th></th>\n",
       "      <th></th>\n",
       "    </tr>\n",
       "  </thead>\n",
       "  <tbody>\n",
       "    <tr>\n",
       "      <th>Não</th>\n",
       "      <td>10</td>\n",
       "      <td>111</td>\n",
       "      <td>564</td>\n",
       "      <td>5846</td>\n",
       "      <td>12682</td>\n",
       "      <td>9577</td>\n",
       "      <td>3870</td>\n",
       "      <td>683</td>\n",
       "      <td>42</td>\n",
       "    </tr>\n",
       "    <tr>\n",
       "      <th>Sim</th>\n",
       "      <td>0</td>\n",
       "      <td>5</td>\n",
       "      <td>63</td>\n",
       "      <td>1090</td>\n",
       "      <td>2720</td>\n",
       "      <td>1180</td>\n",
       "      <td>188</td>\n",
       "      <td>10</td>\n",
       "      <td>1</td>\n",
       "    </tr>\n",
       "  </tbody>\n",
       "</table>\n",
       "</div>"
      ],
      "text/plain": [
       "idade  0 a 15  15 a 30  30 a 45  45 a 60  60 a 70  70 a 80  80 a 90  90 a 100  \\\n",
       "row_0                                                                           \n",
       "Não        10      111      564     5846    12682     9577     3870       683   \n",
       "Sim         0        5       63     1090     2720     1180      188        10   \n",
       "\n",
       "idade  Mais que 100  \n",
       "row_0                \n",
       "Não              42  \n",
       "Sim               1  "
      ]
     },
     "execution_count": 51,
     "metadata": {},
     "output_type": "execute_result"
    }
   ],
   "source": [
    "TrabSN14m = ((pnad2014.V9002=='Sim') | (pnad2014.V9001=='Sim')) & (pnad2014.V0302 == \"Masculino\")\n",
    "TrabSN14m = TrabSN14m.astype('category') \n",
    "TrabSN14m.cat.categories = ('Não', 'Sim')\n",
    "Trabapage14m =pd.crosstab(TrabSN14m[pnad2014.V9122=='Sim'], df014m.idade)\n",
    "print('Realção de aposentados, trabalho e idade em 2014')\n",
    "Trabapage14m"
   ]
  },
  {
   "cell_type": "code",
   "execution_count": 52,
   "metadata": {
    "collapsed": false
   },
   "outputs": [
    {
     "data": {
      "image/png": "[encoded data removed]",
      "text/plain": [
       "<matplotlib.figure.Figure at 0x1be503b0b38>"
      ]
     },
     "metadata": {},
     "output_type": "display_data"
    }
   ],
   "source": [
    "plot = Trabapage14m.plot(kind='bar',title='Realção de aposentados, trabalho e idade em 2014',figsize=(6, 6), stacked = True)\n",
    "plt.ylabel('Valor Absoluto')\n",
    "plt.xlabel('Trabalho')\n",
    "plt.show()"
   ]
  },
  {
   "cell_type": "code",
   "execution_count": 53,
   "metadata": {
    "collapsed": false
   },
   "outputs": [
    {
     "name": "stdout",
     "output_type": "stream",
     "text": [
      "Realção de aposentados, trabalho e idade em 2001\n"
     ]
    },
    {
     "data": {
      "text/html": [
       "<div>\n",
       "<table border=\"1\" class=\"dataframe\">\n",
       "  <thead>\n",
       "    <tr style=\"text-align: right;\">\n",
       "      <th>idade</th>\n",
       "      <th>0 a 15</th>\n",
       "      <th>15 a 30</th>\n",
       "      <th>30 a 45</th>\n",
       "      <th>45 a 60</th>\n",
       "      <th>60 a 70</th>\n",
       "      <th>70 a 80</th>\n",
       "      <th>80 a 90</th>\n",
       "      <th>90 a 100</th>\n",
       "      <th>Mais que 100</th>\n",
       "    </tr>\n",
       "    <tr>\n",
       "      <th>row_0</th>\n",
       "      <th></th>\n",
       "      <th></th>\n",
       "      <th></th>\n",
       "      <th></th>\n",
       "      <th></th>\n",
       "      <th></th>\n",
       "      <th></th>\n",
       "      <th></th>\n",
       "      <th></th>\n",
       "    </tr>\n",
       "  </thead>\n",
       "  <tbody>\n",
       "    <tr>\n",
       "      <th>Não</th>\n",
       "      <td>74</td>\n",
       "      <td>298</td>\n",
       "      <td>879</td>\n",
       "      <td>5822</td>\n",
       "      <td>8309</td>\n",
       "      <td>6506</td>\n",
       "      <td>2404</td>\n",
       "      <td>364</td>\n",
       "      <td>14</td>\n",
       "    </tr>\n",
       "    <tr>\n",
       "      <th>Sim</th>\n",
       "      <td>1</td>\n",
       "      <td>21</td>\n",
       "      <td>188</td>\n",
       "      <td>1633</td>\n",
       "      <td>2184</td>\n",
       "      <td>1107</td>\n",
       "      <td>166</td>\n",
       "      <td>5</td>\n",
       "      <td>0</td>\n",
       "    </tr>\n",
       "  </tbody>\n",
       "</table>\n",
       "</div>"
      ],
      "text/plain": [
       "idade  0 a 15  15 a 30  30 a 45  45 a 60  60 a 70  70 a 80  80 a 90  90 a 100  \\\n",
       "row_0                                                                           \n",
       "Não        74      298      879     5822     8309     6506     2404       364   \n",
       "Sim         1       21      188     1633     2184     1107      166         5   \n",
       "\n",
       "idade  Mais que 100  \n",
       "row_0                \n",
       "Não              14  \n",
       "Sim               0  "
      ]
     },
     "execution_count": 53,
     "metadata": {},
     "output_type": "execute_result"
    }
   ],
   "source": [
    "TrabSN01m = ((pnad2001.v9002=='Sim') | (pnad2001.v9001=='Sim')) & (pnad2001.v0302 == \"Masculino\")\n",
    "TrabSN01m = TrabSN01m.astype('category') \n",
    "TrabSN01m.cat.categories = ('Não', 'Sim')\n",
    "Trabapage01m = pd.crosstab(TrabSN01m[pnad2001.v9122=='Sim'], df001m.idade)\n",
    "print('Realção de aposentados, trabalho e idade em 2001')\n",
    "Trabapage01m"
   ]
  },
  {
   "cell_type": "code",
   "execution_count": 54,
   "metadata": {
    "collapsed": false
   },
   "outputs": [
    {
     "data": {
      "image/png": "[encoded data removed]",
      "text/plain": [
       "<matplotlib.figure.Figure at 0x1be04304c18>"
      ]
     },
     "metadata": {},
     "output_type": "display_data"
    }
   ],
   "source": [
    "plot = Trabapage01m.plot(kind='bar',title='Realção de aposentados, trabalho e idade em 2001',figsize=(6, 6), stacked = True)\n",
    "plt.ylabel('Valor Absoluto')\n",
    "plt.xlabel('Trabalho')\n",
    "plt.show()"
   ]
  },
  {
   "cell_type": "code",
   "execution_count": 55,
   "metadata": {
    "collapsed": false
   },
   "outputs": [
    {
     "name": "stdout",
     "output_type": "stream",
     "text": [
      "Realção de aposentadas, trabalho e idade em 2014\n"
     ]
    },
    {
     "data": {
      "text/html": [
       "<div>\n",
       "<table border=\"1\" class=\"dataframe\">\n",
       "  <thead>\n",
       "    <tr style=\"text-align: right;\">\n",
       "      <th>idade</th>\n",
       "      <th>0 a 15</th>\n",
       "      <th>15 a 30</th>\n",
       "      <th>30 a 45</th>\n",
       "      <th>45 a 55</th>\n",
       "      <th>55 a 65</th>\n",
       "      <th>65 a 75</th>\n",
       "      <th>75 a 85</th>\n",
       "      <th>85 a 95</th>\n",
       "      <th>95 a 105</th>\n",
       "      <th>Mais que 105</th>\n",
       "    </tr>\n",
       "    <tr>\n",
       "      <th>row_0</th>\n",
       "      <th></th>\n",
       "      <th></th>\n",
       "      <th></th>\n",
       "      <th></th>\n",
       "      <th></th>\n",
       "      <th></th>\n",
       "      <th></th>\n",
       "      <th></th>\n",
       "      <th></th>\n",
       "      <th></th>\n",
       "    </tr>\n",
       "  </thead>\n",
       "  <tbody>\n",
       "    <tr>\n",
       "      <th>Não</th>\n",
       "      <td>10</td>\n",
       "      <td>115</td>\n",
       "      <td>604</td>\n",
       "      <td>2245</td>\n",
       "      <td>10205</td>\n",
       "      <td>13357</td>\n",
       "      <td>6965</td>\n",
       "      <td>1847</td>\n",
       "      <td>172</td>\n",
       "      <td>10</td>\n",
       "    </tr>\n",
       "    <tr>\n",
       "      <th>Sim</th>\n",
       "      <td>0</td>\n",
       "      <td>1</td>\n",
       "      <td>23</td>\n",
       "      <td>392</td>\n",
       "      <td>1631</td>\n",
       "      <td>883</td>\n",
       "      <td>164</td>\n",
       "      <td>17</td>\n",
       "      <td>1</td>\n",
       "      <td>0</td>\n",
       "    </tr>\n",
       "  </tbody>\n",
       "</table>\n",
       "</div>"
      ],
      "text/plain": [
       "idade  0 a 15  15 a 30  30 a 45  45 a 55  55 a 65  65 a 75  75 a 85  85 a 95  \\\n",
       "row_0                                                                          \n",
       "Não        10      115      604     2245    10205    13357     6965     1847   \n",
       "Sim         0        1       23      392     1631      883      164       17   \n",
       "\n",
       "idade  95 a 105  Mais que 105  \n",
       "row_0                          \n",
       "Não         172            10  \n",
       "Sim           1             0  "
      ]
     },
     "execution_count": 55,
     "metadata": {},
     "output_type": "execute_result"
    }
   ],
   "source": [
    "TrabSN14f = ((pnad2014.V9002=='Sim') | (pnad2014.V9001=='Sim')) & (pnad2014.V0302 == \"Feminino\")\n",
    "TrabSN14f = TrabSN14f.astype('category') \n",
    "TrabSN14f.cat.categories = ('Não', 'Sim')\n",
    "Trabapage14f = pd.crosstab(TrabSN14f[pnad2014.V9122=='Sim'], df014f.idade)\n",
    "print('Realção de aposentadas, trabalho e idade em 2014')\n",
    "Trabapage14f"
   ]
  },
  {
   "cell_type": "code",
   "execution_count": 56,
   "metadata": {
    "collapsed": false
   },
   "outputs": [
    {
     "data": {
      "image/png": "[encoded data removed]",
      "text/plain": [
       "<matplotlib.figure.Figure at 0x1be502e4198>"
      ]
     },
     "metadata": {},
     "output_type": "display_data"
    }
   ],
   "source": [
    "plot = Trabapage14f.plot(kind='bar',title='Realção de aposentadas, trabalho e idade em 2014',figsize=(6, 6), stacked = True)\n",
    "plt.ylabel('Valor Absoluto')\n",
    "plt.xlabel('Trabalho')\n",
    "plt.show()"
   ]
  },
  {
   "cell_type": "code",
   "execution_count": 57,
   "metadata": {
    "collapsed": false
   },
   "outputs": [
    {
     "name": "stdout",
     "output_type": "stream",
     "text": [
      "Realção de aposentadas, trabalho e idade em 2001\n"
     ]
    },
    {
     "data": {
      "text/html": [
       "<div>\n",
       "<table border=\"1\" class=\"dataframe\">\n",
       "  <thead>\n",
       "    <tr style=\"text-align: right;\">\n",
       "      <th>idade</th>\n",
       "      <th>0 a 15</th>\n",
       "      <th>15 a 30</th>\n",
       "      <th>30 a 45</th>\n",
       "      <th>45 a 55</th>\n",
       "      <th>55 a 65</th>\n",
       "      <th>65 a 75</th>\n",
       "      <th>75 a 85</th>\n",
       "      <th>85 a 95</th>\n",
       "      <th>95 a 105</th>\n",
       "      <th>Mais que 105</th>\n",
       "    </tr>\n",
       "    <tr>\n",
       "      <th>row_0</th>\n",
       "      <th></th>\n",
       "      <th></th>\n",
       "      <th></th>\n",
       "      <th></th>\n",
       "      <th></th>\n",
       "      <th></th>\n",
       "      <th></th>\n",
       "      <th></th>\n",
       "      <th></th>\n",
       "      <th></th>\n",
       "    </tr>\n",
       "  </thead>\n",
       "  <tbody>\n",
       "    <tr>\n",
       "      <th>Não</th>\n",
       "      <td>75</td>\n",
       "      <td>318</td>\n",
       "      <td>982</td>\n",
       "      <td>3397</td>\n",
       "      <td>7473</td>\n",
       "      <td>9391</td>\n",
       "      <td>4617</td>\n",
       "      <td>1115</td>\n",
       "      <td>106</td>\n",
       "      <td>3</td>\n",
       "    </tr>\n",
       "    <tr>\n",
       "      <th>Sim</th>\n",
       "      <td>0</td>\n",
       "      <td>1</td>\n",
       "      <td>85</td>\n",
       "      <td>516</td>\n",
       "      <td>1137</td>\n",
       "      <td>632</td>\n",
       "      <td>114</td>\n",
       "      <td>11</td>\n",
       "      <td>1</td>\n",
       "      <td>1</td>\n",
       "    </tr>\n",
       "  </tbody>\n",
       "</table>\n",
       "</div>"
      ],
      "text/plain": [
       "idade  0 a 15  15 a 30  30 a 45  45 a 55  55 a 65  65 a 75  75 a 85  85 a 95  \\\n",
       "row_0                                                                          \n",
       "Não        75      318      982     3397     7473     9391     4617     1115   \n",
       "Sim         0        1       85      516     1137      632      114       11   \n",
       "\n",
       "idade  95 a 105  Mais que 105  \n",
       "row_0                          \n",
       "Não         106             3  \n",
       "Sim           1             1  "
      ]
     },
     "execution_count": 57,
     "metadata": {},
     "output_type": "execute_result"
    }
   ],
   "source": [
    "TrabSN01f = ((pnad2001.v9002=='Sim') | (pnad2001.v9001=='Sim')) & (pnad2001.v0302 == \"Feminino\")\n",
    "TrabSN01f = TrabSN01f.astype('category') \n",
    "TrabSN01f.cat.categories = ('Não', 'Sim')\n",
    "Trabapage01f = pd.crosstab(TrabSN01f[pnad2001.v9122=='Sim'], df001f.idade)\n",
    "print('Realção de aposentadas, trabalho e idade em 2001')\n",
    "Trabapage01f"
   ]
  },
  {
   "cell_type": "code",
   "execution_count": 58,
   "metadata": {
    "collapsed": false
   },
   "outputs": [
    {
     "data": {
      "image/png": "[encoded data removed]",
      "text/plain": [
       "<matplotlib.figure.Figure at 0x1be0449c6a0>"
      ]
     },
     "metadata": {},
     "output_type": "display_data"
    }
   ],
   "source": [
    "plot = Trabapage01f.plot(kind='bar',title='Realção de aposentadas, trabalho e idade em 2001',figsize=(6, 6), stacked = True)\n",
    "plt.ylabel('Valor Absoluto')\n",
    "plt.xlabel('Trabalho')\n",
    "plt.show()"
   ]
  },
  {
   "cell_type": "markdown",
   "metadata": {},
   "source": [
    "A partir dos dados colletados, não é possivel chegar a uma conclusão sobre o trabalho influenciar diretamente na espectativa de vida, em primeiro lugar porque de maneira geral a razõ entre uma faixa  e a faixa imediatamente seguinte a partir dos (60 ou 65) é cerca de 10% trabalhano ou não, indicando que mesmo que se exitisse uma relação entre se manter economicamente ativo ou não, ela não é muito representativa.\n",
    "\n",
    "Além disso é interessante observar que a expectativa de vida novamente apresenta um impacto relevnate, sendo q em 2014 o numero depessoas com mais de 100 anos é bastante superior ao numero de pessoas nessa faixa de idade em 2001"
   ]
  },
  {
   "cell_type": "markdown",
   "metadata": {},
   "source": [
    "Em seuida outra análise que poderia influenciar os resultados é a idade de inicio no trabalho para isso dividi entre a população geral e os aposentados a idade de inicio no trabalho.\n",
    "Infelizmente esses dados estão apenas disponiveis na Pnad de 2014 e portanto apenas essa base de dados foi utilizada nessa parte da pesquisa."
   ]
  },
  {
   "cell_type": "code",
   "execution_count": 59,
   "metadata": {
    "collapsed": false,
    "scrolled": true
   },
   "outputs": [
    {
     "name": "stdout",
     "output_type": "stream",
     "text": [
      "Tabela de idade por idade de inicio no trabalho\n"
     ]
    },
    {
     "data": {
      "text/html": [
       "<div>\n",
       "<table border=\"1\" class=\"dataframe\">\n",
       "  <thead>\n",
       "    <tr style=\"text-align: right;\">\n",
       "      <th>idade</th>\n",
       "      <th>0 a 15</th>\n",
       "      <th>15 a 30</th>\n",
       "      <th>30 a 45</th>\n",
       "      <th>45 a 60</th>\n",
       "      <th>60 a 70</th>\n",
       "      <th>70 a 80</th>\n",
       "      <th>80 a 90</th>\n",
       "      <th>90 a 100</th>\n",
       "      <th>Mais que 100</th>\n",
       "    </tr>\n",
       "    <tr>\n",
       "      <th>initrab</th>\n",
       "      <th></th>\n",
       "      <th></th>\n",
       "      <th></th>\n",
       "      <th></th>\n",
       "      <th></th>\n",
       "      <th></th>\n",
       "      <th></th>\n",
       "      <th></th>\n",
       "      <th></th>\n",
       "    </tr>\n",
       "  </thead>\n",
       "  <tbody>\n",
       "    <tr>\n",
       "      <th>Infantil</th>\n",
       "      <td>393</td>\n",
       "      <td>2119</td>\n",
       "      <td>5489</td>\n",
       "      <td>6893</td>\n",
       "      <td>2721</td>\n",
       "      <td>919</td>\n",
       "      <td>191</td>\n",
       "      <td>10</td>\n",
       "      <td>1</td>\n",
       "    </tr>\n",
       "    <tr>\n",
       "      <th>10 a 20</th>\n",
       "      <td>1376</td>\n",
       "      <td>48242</td>\n",
       "      <td>55370</td>\n",
       "      <td>36231</td>\n",
       "      <td>7732</td>\n",
       "      <td>1756</td>\n",
       "      <td>283</td>\n",
       "      <td>29</td>\n",
       "      <td>3</td>\n",
       "    </tr>\n",
       "    <tr>\n",
       "      <th>20 a 30</th>\n",
       "      <td>0</td>\n",
       "      <td>6377</td>\n",
       "      <td>7538</td>\n",
       "      <td>3894</td>\n",
       "      <td>915</td>\n",
       "      <td>149</td>\n",
       "      <td>21</td>\n",
       "      <td>1</td>\n",
       "      <td>0</td>\n",
       "    </tr>\n",
       "    <tr>\n",
       "      <th>30 a 40</th>\n",
       "      <td>0</td>\n",
       "      <td>0</td>\n",
       "      <td>659</td>\n",
       "      <td>396</td>\n",
       "      <td>104</td>\n",
       "      <td>20</td>\n",
       "      <td>0</td>\n",
       "      <td>0</td>\n",
       "      <td>0</td>\n",
       "    </tr>\n",
       "    <tr>\n",
       "      <th>40 a 50</th>\n",
       "      <td>0</td>\n",
       "      <td>0</td>\n",
       "      <td>40</td>\n",
       "      <td>184</td>\n",
       "      <td>32</td>\n",
       "      <td>12</td>\n",
       "      <td>1</td>\n",
       "      <td>0</td>\n",
       "      <td>0</td>\n",
       "    </tr>\n",
       "    <tr>\n",
       "      <th>50 a 60</th>\n",
       "      <td>0</td>\n",
       "      <td>0</td>\n",
       "      <td>0</td>\n",
       "      <td>43</td>\n",
       "      <td>17</td>\n",
       "      <td>1</td>\n",
       "      <td>0</td>\n",
       "      <td>0</td>\n",
       "      <td>0</td>\n",
       "    </tr>\n",
       "    <tr>\n",
       "      <th>60 a 70</th>\n",
       "      <td>0</td>\n",
       "      <td>0</td>\n",
       "      <td>0</td>\n",
       "      <td>0</td>\n",
       "      <td>9</td>\n",
       "      <td>1</td>\n",
       "      <td>0</td>\n",
       "      <td>0</td>\n",
       "      <td>0</td>\n",
       "    </tr>\n",
       "    <tr>\n",
       "      <th>70 a 80</th>\n",
       "      <td>0</td>\n",
       "      <td>0</td>\n",
       "      <td>0</td>\n",
       "      <td>0</td>\n",
       "      <td>0</td>\n",
       "      <td>1</td>\n",
       "      <td>0</td>\n",
       "      <td>0</td>\n",
       "      <td>0</td>\n",
       "    </tr>\n",
       "    <tr>\n",
       "      <th>Nan</th>\n",
       "      <td>78265</td>\n",
       "      <td>31915</td>\n",
       "      <td>13264</td>\n",
       "      <td>16354</td>\n",
       "      <td>15309</td>\n",
       "      <td>11421</td>\n",
       "      <td>4944</td>\n",
       "      <td>924</td>\n",
       "      <td>57</td>\n",
       "    </tr>\n",
       "  </tbody>\n",
       "</table>\n",
       "</div>"
      ],
      "text/plain": [
       "idade     0 a 15  15 a 30  30 a 45  45 a 60  60 a 70  70 a 80  80 a 90  \\\n",
       "initrab                                                                  \n",
       "Infantil     393     2119     5489     6893     2721      919      191   \n",
       "10 a 20     1376    48242    55370    36231     7732     1756      283   \n",
       "20 a 30        0     6377     7538     3894      915      149       21   \n",
       "30 a 40        0        0      659      396      104       20        0   \n",
       "40 a 50        0        0       40      184       32       12        1   \n",
       "50 a 60        0        0        0       43       17        1        0   \n",
       "60 a 70        0        0        0        0        9        1        0   \n",
       "70 a 80        0        0        0        0        0        1        0   \n",
       "Nan        78265    31915    13264    16354    15309    11421     4944   \n",
       "\n",
       "idade     90 a 100  Mais que 100  \n",
       "initrab                           \n",
       "Infantil        10             1  \n",
       "10 a 20         29             3  \n",
       "20 a 30          1             0  \n",
       "30 a 40          0             0  \n",
       "40 a 50          0             0  \n",
       "50 a 60          0             0  \n",
       "60 a 70          0             0  \n",
       "70 a 80          0             0  \n",
       "Nan            924            57  "
      ]
     },
     "execution_count": 59,
     "metadata": {},
     "output_type": "execute_result"
    }
   ],
   "source": [
    "print(\"Tabela de idade por idade de inicio no trabalho\")\n",
    "pd.crosstab(df4.initrab, df014m.idade)"
   ]
  },
  {
   "cell_type": "code",
   "execution_count": 60,
   "metadata": {
    "collapsed": false
   },
   "outputs": [
    {
     "name": "stdout",
     "output_type": "stream",
     "text": [
      "Grafico geral de Inicio de trabalho por idade\n"
     ]
    },
    {
     "data": {
      "image/png": "[encoded data removed]",
      "text/plain": [
       "<matplotlib.figure.Figure at 0x1be045c2c88>"
      ]
     },
     "metadata": {},
     "output_type": "display_data"
    }
   ],
   "source": [
    "print('Grafico geral de Inicio de trabalho por idade')\n",
    "plt.plot(pnad2014.V9892[pnad2014.V9122==\"Não\"], pnad2014.V8005[pnad2014.V9122==\"Não\"], 'bo')\n",
    "plt.xlabel(\"Idade de inicio no trabalho\")\n",
    "plt.ylabel(\"Idade da pessoa\")\n",
    "plt.show()"
   ]
  },
  {
   "cell_type": "code",
   "execution_count": 61,
   "metadata": {
    "collapsed": false
   },
   "outputs": [
    {
     "name": "stdout",
     "output_type": "stream",
     "text": [
      "Tabela de idade por idade de inicio no trabalho de aposentados\n"
     ]
    },
    {
     "data": {
      "text/html": [
       "<div>\n",
       "<table border=\"1\" class=\"dataframe\">\n",
       "  <thead>\n",
       "    <tr style=\"text-align: right;\">\n",
       "      <th>idade</th>\n",
       "      <th>0 a 15</th>\n",
       "      <th>15 a 30</th>\n",
       "      <th>30 a 45</th>\n",
       "      <th>45 a 60</th>\n",
       "      <th>60 a 70</th>\n",
       "      <th>70 a 80</th>\n",
       "      <th>80 a 90</th>\n",
       "      <th>90 a 100</th>\n",
       "      <th>Mais que 100</th>\n",
       "    </tr>\n",
       "    <tr>\n",
       "      <th>initrab</th>\n",
       "      <th></th>\n",
       "      <th></th>\n",
       "      <th></th>\n",
       "      <th></th>\n",
       "      <th></th>\n",
       "      <th></th>\n",
       "      <th></th>\n",
       "      <th></th>\n",
       "      <th></th>\n",
       "    </tr>\n",
       "  </thead>\n",
       "  <tbody>\n",
       "    <tr>\n",
       "      <th>Infantil</th>\n",
       "      <td>0</td>\n",
       "      <td>4</td>\n",
       "      <td>24</td>\n",
       "      <td>534</td>\n",
       "      <td>1547</td>\n",
       "      <td>781</td>\n",
       "      <td>167</td>\n",
       "      <td>7</td>\n",
       "      <td>1</td>\n",
       "    </tr>\n",
       "    <tr>\n",
       "      <th>10 a 20</th>\n",
       "      <td>0</td>\n",
       "      <td>6</td>\n",
       "      <td>81</td>\n",
       "      <td>2107</td>\n",
       "      <td>3499</td>\n",
       "      <td>1396</td>\n",
       "      <td>233</td>\n",
       "      <td>25</td>\n",
       "      <td>1</td>\n",
       "    </tr>\n",
       "    <tr>\n",
       "      <th>20 a 30</th>\n",
       "      <td>0</td>\n",
       "      <td>3</td>\n",
       "      <td>5</td>\n",
       "      <td>155</td>\n",
       "      <td>373</td>\n",
       "      <td>118</td>\n",
       "      <td>16</td>\n",
       "      <td>0</td>\n",
       "      <td>0</td>\n",
       "    </tr>\n",
       "    <tr>\n",
       "      <th>30 a 40</th>\n",
       "      <td>0</td>\n",
       "      <td>0</td>\n",
       "      <td>2</td>\n",
       "      <td>5</td>\n",
       "      <td>32</td>\n",
       "      <td>13</td>\n",
       "      <td>0</td>\n",
       "      <td>0</td>\n",
       "      <td>0</td>\n",
       "    </tr>\n",
       "    <tr>\n",
       "      <th>40 a 50</th>\n",
       "      <td>0</td>\n",
       "      <td>0</td>\n",
       "      <td>0</td>\n",
       "      <td>0</td>\n",
       "      <td>12</td>\n",
       "      <td>9</td>\n",
       "      <td>0</td>\n",
       "      <td>0</td>\n",
       "      <td>0</td>\n",
       "    </tr>\n",
       "    <tr>\n",
       "      <th>50 a 60</th>\n",
       "      <td>0</td>\n",
       "      <td>0</td>\n",
       "      <td>0</td>\n",
       "      <td>1</td>\n",
       "      <td>1</td>\n",
       "      <td>0</td>\n",
       "      <td>0</td>\n",
       "      <td>0</td>\n",
       "      <td>0</td>\n",
       "    </tr>\n",
       "    <tr>\n",
       "      <th>60 a 70</th>\n",
       "      <td>0</td>\n",
       "      <td>0</td>\n",
       "      <td>0</td>\n",
       "      <td>0</td>\n",
       "      <td>3</td>\n",
       "      <td>0</td>\n",
       "      <td>0</td>\n",
       "      <td>0</td>\n",
       "      <td>0</td>\n",
       "    </tr>\n",
       "    <tr>\n",
       "      <th>70 a 80</th>\n",
       "      <td>0</td>\n",
       "      <td>0</td>\n",
       "      <td>0</td>\n",
       "      <td>0</td>\n",
       "      <td>0</td>\n",
       "      <td>0</td>\n",
       "      <td>0</td>\n",
       "      <td>0</td>\n",
       "      <td>0</td>\n",
       "    </tr>\n",
       "    <tr>\n",
       "      <th>Nan</th>\n",
       "      <td>10</td>\n",
       "      <td>103</td>\n",
       "      <td>515</td>\n",
       "      <td>4134</td>\n",
       "      <td>9935</td>\n",
       "      <td>8440</td>\n",
       "      <td>3642</td>\n",
       "      <td>661</td>\n",
       "      <td>41</td>\n",
       "    </tr>\n",
       "  </tbody>\n",
       "</table>\n",
       "</div>"
      ],
      "text/plain": [
       "idade     0 a 15  15 a 30  30 a 45  45 a 60  60 a 70  70 a 80  80 a 90  \\\n",
       "initrab                                                                  \n",
       "Infantil       0        4       24      534     1547      781      167   \n",
       "10 a 20        0        6       81     2107     3499     1396      233   \n",
       "20 a 30        0        3        5      155      373      118       16   \n",
       "30 a 40        0        0        2        5       32       13        0   \n",
       "40 a 50        0        0        0        0       12        9        0   \n",
       "50 a 60        0        0        0        1        1        0        0   \n",
       "60 a 70        0        0        0        0        3        0        0   \n",
       "70 a 80        0        0        0        0        0        0        0   \n",
       "Nan           10      103      515     4134     9935     8440     3642   \n",
       "\n",
       "idade     90 a 100  Mais que 100  \n",
       "initrab                           \n",
       "Infantil         7             1  \n",
       "10 a 20         25             1  \n",
       "20 a 30          0             0  \n",
       "30 a 40          0             0  \n",
       "40 a 50          0             0  \n",
       "50 a 60          0             0  \n",
       "60 a 70          0             0  \n",
       "70 a 80          0             0  \n",
       "Nan            661            41  "
      ]
     },
     "execution_count": 61,
     "metadata": {},
     "output_type": "execute_result"
    }
   ],
   "source": [
    "print(\"Tabela de idade por idade de inicio no trabalho de aposentados\")\n",
    "pd.crosstab(df4.initrab[pnad2014.V9122==\"Sim\"], df014m.idade)"
   ]
  },
  {
   "cell_type": "code",
   "execution_count": 62,
   "metadata": {
    "collapsed": false
   },
   "outputs": [
    {
     "name": "stdout",
     "output_type": "stream",
     "text": [
      "Grafico dos aposentados de Inicio de trabalho por idade\n"
     ]
    },
    {
     "data": {
      "image/png": "[encoded data removed]",
      "text/plain": [
       "<matplotlib.figure.Figure at 0x1be0449c0f0>"
      ]
     },
     "metadata": {},
     "output_type": "display_data"
    }
   ],
   "source": [
    "print('Grafico dos aposentados de Inicio de trabalho por idade')\n",
    "plt.plot(pnad2014.V9892[pnad2014.V9122 == \"Sim\"], pnad2014.V8005[pnad2014.V9122 == \"Sim\"], 'bo')\n",
    "plt.xlabel(\"Idade de inicio no trabalho\")\n",
    "plt.ylabel(\"Idade da pessoa\")\n",
    "plt.show()"
   ]
  },
  {
   "cell_type": "markdown",
   "metadata": {},
   "source": [
    "A partir dos graficos podemos perceber que a maioria dos aposentados começou a trabalhar desde jovem (antes de concluir faculdade e ensino medio) \n",
    "Vale destacar que a época em que a maioria dos aposentados começou a trabalhar foi durane a ditadura militar, fator que pode ter sido decisivo considerando a inflação da época e os agressivos projetos de crescimento do país que envolvem maior numero de trabalhadores.\n",
    "\n",
    "Já em compararção a popualção como um todo percebemos que os aposentados percebemos que uma parte maior da população tende a começar a trabalhar mais tarde que a maioria dos aposetados, fator chave para explicar a idade de aposentadoria media do Brazilero ser cerca de 60 anos, considerando o tempo minimo de 35 anos para se aposentar, que dificilmente é atingido antes dos 60 considerando a inserção no mercado mais tarde"
   ]
  },
  {
   "cell_type": "markdown",
   "metadata": {},
   "source": [
    "___\n",
    "\n",
    "## Dados sobre a idade dos aposentados comparando o uso de novas tecnologias \n",
    "### (Apenas 2014)"
   ]
  },
  {
   "cell_type": "markdown",
   "metadata": {},
   "source": [
    "Outro fator que poderia influenciar na espectativa de vida é o uso de tecnologias, uma vez que mantem a pessoa ativa (necessidade de aprender novas habilidades tend a melhorar a saude mental da pessoa) e de acordo com os dados da pesuisa alvo seria fator decisivo nos dados análisados"
   ]
  },
  {
   "cell_type": "code",
   "execution_count": 63,
   "metadata": {
    "collapsed": false
   },
   "outputs": [
    {
     "name": "stdout",
     "output_type": "stream",
     "text": [
      "Aposentados que utilizaram internet nos ultimos 3 meses\n"
     ]
    },
    {
     "data": {
      "text/html": [
       "<div>\n",
       "<table border=\"1\" class=\"dataframe\">\n",
       "  <thead>\n",
       "    <tr style=\"text-align: right;\">\n",
       "      <th>idade</th>\n",
       "      <th>0 a 15</th>\n",
       "      <th>15 a 30</th>\n",
       "      <th>30 a 45</th>\n",
       "      <th>45 a 60</th>\n",
       "      <th>60 a 70</th>\n",
       "      <th>70 a 80</th>\n",
       "      <th>80 a 90</th>\n",
       "      <th>90 a 100</th>\n",
       "      <th>Mais que 100</th>\n",
       "    </tr>\n",
       "    <tr>\n",
       "      <th>V06111</th>\n",
       "      <th></th>\n",
       "      <th></th>\n",
       "      <th></th>\n",
       "      <th></th>\n",
       "      <th></th>\n",
       "      <th></th>\n",
       "      <th></th>\n",
       "      <th></th>\n",
       "      <th></th>\n",
       "    </tr>\n",
       "  </thead>\n",
       "  <tbody>\n",
       "    <tr>\n",
       "      <th>Sim</th>\n",
       "      <td>37</td>\n",
       "      <td>133</td>\n",
       "      <td>488</td>\n",
       "      <td>3447</td>\n",
       "      <td>4761</td>\n",
       "      <td>3482</td>\n",
       "      <td>1167</td>\n",
       "      <td>147</td>\n",
       "      <td>7</td>\n",
       "    </tr>\n",
       "    <tr>\n",
       "      <th>Não</th>\n",
       "      <td>26</td>\n",
       "      <td>131</td>\n",
       "      <td>413</td>\n",
       "      <td>2772</td>\n",
       "      <td>4059</td>\n",
       "      <td>2916</td>\n",
       "      <td>979</td>\n",
       "      <td>148</td>\n",
       "      <td>5</td>\n",
       "    </tr>\n",
       "  </tbody>\n",
       "</table>\n",
       "</div>"
      ],
      "text/plain": [
       "idade   0 a 15  15 a 30  30 a 45  45 a 60  60 a 70  70 a 80  80 a 90  \\\n",
       "V06111                                                                 \n",
       "Sim         37      133      488     3447     4761     3482     1167   \n",
       "Não         26      131      413     2772     4059     2916      979   \n",
       "\n",
       "idade   90 a 100  Mais que 100  \n",
       "V06111                          \n",
       "Sim          147             7  \n",
       "Não          148             5  "
      ]
     },
     "execution_count": 63,
     "metadata": {},
     "output_type": "execute_result"
    }
   ],
   "source": [
    "print('Aposentados que utilizaram internet nos ultimos 3 meses')\n",
    "TempData = pd.crosstab(pnad2014.V06111[pnad2001.v9122=='Sim'], df001m.idade)\n",
    "TempData"
   ]
  },
  {
   "cell_type": "code",
   "execution_count": 64,
   "metadata": {
    "collapsed": false
   },
   "outputs": [
    {
     "data": {
      "text/plain": [
       "<matplotlib.axes._subplots.AxesSubplot at 0x1be04474630>"
      ]
     },
     "execution_count": 64,
     "metadata": {},
     "output_type": "execute_result"
    },
    {
     "data": {
      "image/png": "[encoded data removed]",
      "text/plain": [
       "<matplotlib.figure.Figure at 0x1be50368400>"
      ]
     },
     "metadata": {},
     "output_type": "display_data"
    }
   ],
   "source": [
    "TempData.plot(kind = 'bar')"
   ]
  },
  {
   "cell_type": "code",
   "execution_count": 65,
   "metadata": {
    "collapsed": false
   },
   "outputs": [
    {
     "name": "stdout",
     "output_type": "stream",
     "text": [
      "Aposentados que utilizaram internet nos ultimos 12 meses\n"
     ]
    },
    {
     "data": {
      "text/html": [
       "<div>\n",
       "<table border=\"1\" class=\"dataframe\">\n",
       "  <thead>\n",
       "    <tr style=\"text-align: right;\">\n",
       "      <th>idade</th>\n",
       "      <th>0 a 15</th>\n",
       "      <th>15 a 30</th>\n",
       "      <th>30 a 45</th>\n",
       "      <th>45 a 60</th>\n",
       "      <th>60 a 70</th>\n",
       "      <th>70 a 80</th>\n",
       "      <th>80 a 90</th>\n",
       "      <th>90 a 100</th>\n",
       "      <th>Mais que 100</th>\n",
       "    </tr>\n",
       "    <tr>\n",
       "      <th>V061111</th>\n",
       "      <th></th>\n",
       "      <th></th>\n",
       "      <th></th>\n",
       "      <th></th>\n",
       "      <th></th>\n",
       "      <th></th>\n",
       "      <th></th>\n",
       "      <th></th>\n",
       "      <th></th>\n",
       "    </tr>\n",
       "  </thead>\n",
       "  <tbody>\n",
       "    <tr>\n",
       "      <th>Sim</th>\n",
       "      <td>0</td>\n",
       "      <td>8</td>\n",
       "      <td>20</td>\n",
       "      <td>92</td>\n",
       "      <td>149</td>\n",
       "      <td>95</td>\n",
       "      <td>27</td>\n",
       "      <td>2</td>\n",
       "      <td>0</td>\n",
       "    </tr>\n",
       "    <tr>\n",
       "      <th>Não</th>\n",
       "      <td>26</td>\n",
       "      <td>123</td>\n",
       "      <td>393</td>\n",
       "      <td>2680</td>\n",
       "      <td>3910</td>\n",
       "      <td>2821</td>\n",
       "      <td>952</td>\n",
       "      <td>146</td>\n",
       "      <td>5</td>\n",
       "    </tr>\n",
       "  </tbody>\n",
       "</table>\n",
       "</div>"
      ],
      "text/plain": [
       "idade    0 a 15  15 a 30  30 a 45  45 a 60  60 a 70  70 a 80  80 a 90  \\\n",
       "V061111                                                                 \n",
       "Sim           0        8       20       92      149       95       27   \n",
       "Não          26      123      393     2680     3910     2821      952   \n",
       "\n",
       "idade    90 a 100  Mais que 100  \n",
       "V061111                          \n",
       "Sim             2             0  \n",
       "Não           146             5  "
      ]
     },
     "execution_count": 65,
     "metadata": {},
     "output_type": "execute_result"
    }
   ],
   "source": [
    "print('Aposentados que utilizaram internet nos ultimos 12 meses')\n",
    "TempData = pd.crosstab(pnad2014.V061111[pnad2001.v9122=='Sim'], df001m.idade)\n",
    "TempData"
   ]
  },
  {
   "cell_type": "code",
   "execution_count": 66,
   "metadata": {
    "collapsed": false
   },
   "outputs": [
    {
     "data": {
      "text/plain": [
       "<matplotlib.axes._subplots.AxesSubplot at 0x1be0446d2b0>"
      ]
     },
     "execution_count": 66,
     "metadata": {},
     "output_type": "execute_result"
    },
    {
     "data": {
      "image/png": "[encoded data removed]",
      "text/plain": [
       "<matplotlib.figure.Figure at 0x1be4eb7ed30>"
      ]
     },
     "metadata": {},
     "output_type": "display_data"
    }
   ],
   "source": [
    "TempData.plot(kind = 'bar')"
   ]
  },
  {
   "cell_type": "code",
   "execution_count": 67,
   "metadata": {
    "collapsed": false
   },
   "outputs": [
    {
     "name": "stdout",
     "output_type": "stream",
     "text": [
      "Aposentados que possuem celular\n"
     ]
    },
    {
     "data": {
      "text/html": [
       "<div>\n",
       "<table border=\"1\" class=\"dataframe\">\n",
       "  <thead>\n",
       "    <tr style=\"text-align: right;\">\n",
       "      <th>idade</th>\n",
       "      <th>0 a 15</th>\n",
       "      <th>15 a 30</th>\n",
       "      <th>30 a 45</th>\n",
       "      <th>45 a 60</th>\n",
       "      <th>60 a 70</th>\n",
       "      <th>70 a 80</th>\n",
       "      <th>80 a 90</th>\n",
       "      <th>90 a 100</th>\n",
       "      <th>Mais que 100</th>\n",
       "    </tr>\n",
       "    <tr>\n",
       "      <th>V06112</th>\n",
       "      <th></th>\n",
       "      <th></th>\n",
       "      <th></th>\n",
       "      <th></th>\n",
       "      <th></th>\n",
       "      <th></th>\n",
       "      <th></th>\n",
       "      <th></th>\n",
       "      <th></th>\n",
       "    </tr>\n",
       "  </thead>\n",
       "  <tbody>\n",
       "    <tr>\n",
       "      <th>Sim</th>\n",
       "      <td>43</td>\n",
       "      <td>205</td>\n",
       "      <td>706</td>\n",
       "      <td>4953</td>\n",
       "      <td>6939</td>\n",
       "      <td>5066</td>\n",
       "      <td>1659</td>\n",
       "      <td>236</td>\n",
       "      <td>11</td>\n",
       "    </tr>\n",
       "    <tr>\n",
       "      <th>Não</th>\n",
       "      <td>20</td>\n",
       "      <td>59</td>\n",
       "      <td>195</td>\n",
       "      <td>1266</td>\n",
       "      <td>1881</td>\n",
       "      <td>1332</td>\n",
       "      <td>487</td>\n",
       "      <td>59</td>\n",
       "      <td>1</td>\n",
       "    </tr>\n",
       "  </tbody>\n",
       "</table>\n",
       "</div>"
      ],
      "text/plain": [
       "idade   0 a 15  15 a 30  30 a 45  45 a 60  60 a 70  70 a 80  80 a 90  \\\n",
       "V06112                                                                 \n",
       "Sim         43      205      706     4953     6939     5066     1659   \n",
       "Não         20       59      195     1266     1881     1332      487   \n",
       "\n",
       "idade   90 a 100  Mais que 100  \n",
       "V06112                          \n",
       "Sim          236            11  \n",
       "Não           59             1  "
      ]
     },
     "execution_count": 67,
     "metadata": {},
     "output_type": "execute_result"
    }
   ],
   "source": [
    "print('Aposentados que possuem celular')\n",
    "TempData = pd.crosstab(pnad2014.V06112[pnad2001.v9122=='Sim'], df001m.idade)\n",
    "TempData"
   ]
  },
  {
   "cell_type": "code",
   "execution_count": 68,
   "metadata": {
    "collapsed": false
   },
   "outputs": [
    {
     "data": {
      "text/plain": [
       "<matplotlib.axes._subplots.AxesSubplot at 0x1be4ec5a518>"
      ]
     },
     "execution_count": 68,
     "metadata": {},
     "output_type": "execute_result"
    },
    {
     "data": {
      "image/png": "[encoded data removed]",
      "text/plain": [
       "<matplotlib.figure.Figure at 0x1be503b0630>"
      ]
     },
     "metadata": {},
     "output_type": "display_data"
    }
   ],
   "source": [
    "TempData.plot(kind = 'bar')"
   ]
  },
  {
   "cell_type": "markdown",
   "metadata": {},
   "source": [
    "Em relção aos dados acima é interessante concluir que de maneira geral a população de aposentados é ativa em relação ao uso de eletronicos sendo que cerca de 60% utilizou a internet nos ultimos 3 meses, e 80% possui celulares\n",
    "\n",
    "Também em relação a tecnologias é interessante destacar que uma parcela muito pequena do extrato não utilizou internet nos ultimos 3 meses e utilizu nos ultimos 12 o que mostra que quem utiliza a internet de maneira geral tende a utiliza-la com frequencia.\n",
    "\n",
    "Además do ponto de vista da espectativa de vida a incerção tecnologica parece ter um efeto positivo grantindo que as razões entre as faixas fiquem um pouco mais aparente, porém ainda muito discreta, do ponto de vista de uso da internetnão existe nenhum efeito aparente, porém com o uso de celulares é possivel perceber que o numero de aposenados que não utiliza dispositivos do tipo possuem uma razão entre faixas menor (cerca de 5%) que os que utilizam (cerca de 8-10%)"
   ]
  },
  {
   "cell_type": "markdown",
   "metadata": {},
   "source": [
    "___\n",
    "\n",
    "## Dados sobre a idade dos aposentados comparando educação"
   ]
  },
  {
   "cell_type": "markdown",
   "metadata": {},
   "source": [
    "Outra variavel que poderia influenciar a espectativa de vida é a educação do aposentado em relação a idade atingida, para isso abaixo, uma análise da relação entre tempo de estudo e idade"
   ]
  },
  {
   "cell_type": "code",
   "execution_count": 69,
   "metadata": {
    "collapsed": false
   },
   "outputs": [
    {
     "name": "stdout",
     "output_type": "stream",
     "text": [
      "Tempo de estudo dos aposentados\n"
     ]
    },
    {
     "data": {
      "text/html": [
       "<div>\n",
       "<table border=\"1\" class=\"dataframe\">\n",
       "  <thead>\n",
       "    <tr style=\"text-align: right;\">\n",
       "      <th>idade</th>\n",
       "      <th>0 a 15</th>\n",
       "      <th>15 a 30</th>\n",
       "      <th>30 a 45</th>\n",
       "      <th>45 a 60</th>\n",
       "      <th>60 a 70</th>\n",
       "      <th>70 a 80</th>\n",
       "      <th>80 a 90</th>\n",
       "      <th>90 a 100</th>\n",
       "      <th>Mais que 100</th>\n",
       "    </tr>\n",
       "    <tr>\n",
       "      <th>Temest</th>\n",
       "      <th></th>\n",
       "      <th></th>\n",
       "      <th></th>\n",
       "      <th></th>\n",
       "      <th></th>\n",
       "      <th></th>\n",
       "      <th></th>\n",
       "      <th></th>\n",
       "      <th></th>\n",
       "    </tr>\n",
       "  </thead>\n",
       "  <tbody>\n",
       "    <tr>\n",
       "      <th>0 a 2</th>\n",
       "      <td>5</td>\n",
       "      <td>39</td>\n",
       "      <td>107</td>\n",
       "      <td>963</td>\n",
       "      <td>4017</td>\n",
       "      <td>3905</td>\n",
       "      <td>1731</td>\n",
       "      <td>395</td>\n",
       "      <td>34</td>\n",
       "    </tr>\n",
       "    <tr>\n",
       "      <th>3 a 6</th>\n",
       "      <td>5</td>\n",
       "      <td>18</td>\n",
       "      <td>146</td>\n",
       "      <td>1906</td>\n",
       "      <td>5358</td>\n",
       "      <td>3909</td>\n",
       "      <td>1410</td>\n",
       "      <td>171</td>\n",
       "      <td>6</td>\n",
       "    </tr>\n",
       "    <tr>\n",
       "      <th>7 a 9</th>\n",
       "      <td>0</td>\n",
       "      <td>24</td>\n",
       "      <td>128</td>\n",
       "      <td>995</td>\n",
       "      <td>1732</td>\n",
       "      <td>1040</td>\n",
       "      <td>325</td>\n",
       "      <td>52</td>\n",
       "      <td>1</td>\n",
       "    </tr>\n",
       "    <tr>\n",
       "      <th>10 a 14</th>\n",
       "      <td>0</td>\n",
       "      <td>33</td>\n",
       "      <td>201</td>\n",
       "      <td>1676</td>\n",
       "      <td>2323</td>\n",
       "      <td>1045</td>\n",
       "      <td>346</td>\n",
       "      <td>49</td>\n",
       "      <td>1</td>\n",
       "    </tr>\n",
       "    <tr>\n",
       "      <th>Mais que 14</th>\n",
       "      <td>0</td>\n",
       "      <td>2</td>\n",
       "      <td>45</td>\n",
       "      <td>1396</td>\n",
       "      <td>1972</td>\n",
       "      <td>858</td>\n",
       "      <td>246</td>\n",
       "      <td>26</td>\n",
       "      <td>1</td>\n",
       "    </tr>\n",
       "  </tbody>\n",
       "</table>\n",
       "</div>"
      ],
      "text/plain": [
       "idade        0 a 15  15 a 30  30 a 45  45 a 60  60 a 70  70 a 80  80 a 90  \\\n",
       "Temest                                                                      \n",
       "0 a 2             5       39      107      963     4017     3905     1731   \n",
       "3 a 6             5       18      146     1906     5358     3909     1410   \n",
       "7 a 9             0       24      128      995     1732     1040      325   \n",
       "10 a 14           0       33      201     1676     2323     1045      346   \n",
       "Mais que 14       0        2       45     1396     1972      858      246   \n",
       "\n",
       "idade        90 a 100  Mais que 100  \n",
       "Temest                               \n",
       "0 a 2             395            34  \n",
       "3 a 6             171             6  \n",
       "7 a 9              52             1  \n",
       "10 a 14            49             1  \n",
       "Mais que 14        26             1  "
      ]
     },
     "execution_count": 69,
     "metadata": {},
     "output_type": "execute_result"
    }
   ],
   "source": [
    "print('Tempo de estudo dos aposentados')\n",
    "pd.crosstab(df314.Temest[pnad2014.V9122=='Sim'], df014m.idade)"
   ]
  },
  {
   "cell_type": "code",
   "execution_count": 70,
   "metadata": {
    "collapsed": false
   },
   "outputs": [
    {
     "name": "stdout",
     "output_type": "stream",
     "text": [
      "Tempo de estudo Geral\n"
     ]
    },
    {
     "data": {
      "text/html": [
       "<div>\n",
       "<table border=\"1\" class=\"dataframe\">\n",
       "  <thead>\n",
       "    <tr style=\"text-align: right;\">\n",
       "      <th>idade</th>\n",
       "      <th>0 a 15</th>\n",
       "      <th>15 a 30</th>\n",
       "      <th>30 a 45</th>\n",
       "      <th>45 a 60</th>\n",
       "      <th>60 a 70</th>\n",
       "      <th>70 a 80</th>\n",
       "      <th>80 a 90</th>\n",
       "      <th>90 a 100</th>\n",
       "      <th>Mais que 100</th>\n",
       "    </tr>\n",
       "    <tr>\n",
       "      <th>Temest</th>\n",
       "      <th></th>\n",
       "      <th></th>\n",
       "      <th></th>\n",
       "      <th></th>\n",
       "      <th></th>\n",
       "      <th></th>\n",
       "      <th></th>\n",
       "      <th></th>\n",
       "      <th></th>\n",
       "    </tr>\n",
       "  </thead>\n",
       "  <tbody>\n",
       "    <tr>\n",
       "      <th>0 a 2</th>\n",
       "      <td>48249</td>\n",
       "      <td>2159</td>\n",
       "      <td>5649</td>\n",
       "      <td>9007</td>\n",
       "      <td>6700</td>\n",
       "      <td>5251</td>\n",
       "      <td>2374</td>\n",
       "      <td>542</td>\n",
       "      <td>46</td>\n",
       "    </tr>\n",
       "    <tr>\n",
       "      <th>3 a 6</th>\n",
       "      <td>23994</td>\n",
       "      <td>7711</td>\n",
       "      <td>14511</td>\n",
       "      <td>16848</td>\n",
       "      <td>9524</td>\n",
       "      <td>5281</td>\n",
       "      <td>1896</td>\n",
       "      <td>251</td>\n",
       "      <td>9</td>\n",
       "    </tr>\n",
       "    <tr>\n",
       "      <th>7 a 9</th>\n",
       "      <td>7693</td>\n",
       "      <td>21032</td>\n",
       "      <td>14219</td>\n",
       "      <td>10999</td>\n",
       "      <td>3412</td>\n",
       "      <td>1444</td>\n",
       "      <td>457</td>\n",
       "      <td>78</td>\n",
       "      <td>3</td>\n",
       "    </tr>\n",
       "    <tr>\n",
       "      <th>10 a 14</th>\n",
       "      <td>90</td>\n",
       "      <td>46431</td>\n",
       "      <td>32422</td>\n",
       "      <td>17356</td>\n",
       "      <td>4264</td>\n",
       "      <td>1323</td>\n",
       "      <td>443</td>\n",
       "      <td>63</td>\n",
       "      <td>2</td>\n",
       "    </tr>\n",
       "    <tr>\n",
       "      <th>Mais que 14</th>\n",
       "      <td>8</td>\n",
       "      <td>11320</td>\n",
       "      <td>15559</td>\n",
       "      <td>9785</td>\n",
       "      <td>2939</td>\n",
       "      <td>981</td>\n",
       "      <td>270</td>\n",
       "      <td>30</td>\n",
       "      <td>1</td>\n",
       "    </tr>\n",
       "  </tbody>\n",
       "</table>\n",
       "</div>"
      ],
      "text/plain": [
       "idade        0 a 15  15 a 30  30 a 45  45 a 60  60 a 70  70 a 80  80 a 90  \\\n",
       "Temest                                                                      \n",
       "0 a 2         48249     2159     5649     9007     6700     5251     2374   \n",
       "3 a 6         23994     7711    14511    16848     9524     5281     1896   \n",
       "7 a 9          7693    21032    14219    10999     3412     1444      457   \n",
       "10 a 14          90    46431    32422    17356     4264     1323      443   \n",
       "Mais que 14       8    11320    15559     9785     2939      981      270   \n",
       "\n",
       "idade        90 a 100  Mais que 100  \n",
       "Temest                               \n",
       "0 a 2             542            46  \n",
       "3 a 6             251             9  \n",
       "7 a 9              78             3  \n",
       "10 a 14            63             2  \n",
       "Mais que 14        30             1  "
      ]
     },
     "execution_count": 70,
     "metadata": {},
     "output_type": "execute_result"
    }
   ],
   "source": [
    "print('Tempo de estudo Geral')\n",
    "pd.crosstab(df314.Temest, df014m.idade)"
   ]
  },
  {
   "cell_type": "code",
   "execution_count": 71,
   "metadata": {
    "collapsed": false
   },
   "outputs": [],
   "source": [
    "NF = 15\n",
    "Min = 0\n",
    "Max = 15\n",
    "\n",
    "Step4750 = (Max-Min)/NF\n",
    "\n",
    "\n",
    "faixa4750 = np.arange(Min, Max, Step4750)"
   ]
  },
  {
   "cell_type": "code",
   "execution_count": 72,
   "metadata": {
    "collapsed": false
   },
   "outputs": [
    {
     "data": {
      "image/png": "[encoded data removed]",
      "text/plain": [
       "<matplotlib.figure.Figure at 0x1be4eba5c50>"
      ]
     },
     "metadata": {},
     "output_type": "display_data"
    }
   ],
   "source": [
    "plot = (pnad2014.V4803[pnad2014.V9122=='Sim']).plot.hist(bins=faixa4750, title='Histograma de tempo de estudo dos aposentados', figsize=(6,6), normed = 1)\n"
   ]
  },
  {
   "cell_type": "code",
   "execution_count": 73,
   "metadata": {
    "collapsed": false
   },
   "outputs": [
    {
     "data": {
      "image/png": "[encoded data removed]",
      "text/plain": [
       "<matplotlib.figure.Figure at 0x1be042d23c8>"
      ]
     },
     "metadata": {},
     "output_type": "display_data"
    }
   ],
   "source": [
    "plot = (pnad2014.V4803).plot.hist(bins=faixa4750, title='Histograma de tempo de estudo Geral', figsize=(6,6), normed = 1)"
   ]
  },
  {
   "cell_type": "markdown",
   "metadata": {},
   "source": [
    "Diferente do esperado aposentados com mentos tempo de estudo parecem ter maiores epectativas de vida, todavia ao análisar o grafico da população geral é possivel observar que os vaores encontrados por idade são um reflexo do geral da população, sendo que as pessoas com menos tempo de estudo são a grande maioria da população, indicando novamente que se existe uma realação entre educação e espectativa de vida ela é muito discreta."
   ]
  },
  {
   "cell_type": "code",
   "execution_count": 74,
   "metadata": {
    "collapsed": false
   },
   "outputs": [
    {
     "name": "stdout",
     "output_type": "stream",
     "text": [
      "Tempo de estudo de todos em relação a idade\n"
     ]
    },
    {
     "data": {
      "text/html": [
       "<div>\n",
       "<table border=\"1\" class=\"dataframe\">\n",
       "  <thead>\n",
       "    <tr style=\"text-align: right;\">\n",
       "      <th>idade</th>\n",
       "      <th>0 a 15</th>\n",
       "      <th>15 a 30</th>\n",
       "      <th>30 a 45</th>\n",
       "      <th>45 a 60</th>\n",
       "      <th>60 a 70</th>\n",
       "      <th>70 a 80</th>\n",
       "      <th>80 a 90</th>\n",
       "      <th>90 a 100</th>\n",
       "      <th>Mais que 100</th>\n",
       "    </tr>\n",
       "    <tr>\n",
       "      <th>Temest</th>\n",
       "      <th></th>\n",
       "      <th></th>\n",
       "      <th></th>\n",
       "      <th></th>\n",
       "      <th></th>\n",
       "      <th></th>\n",
       "      <th></th>\n",
       "      <th></th>\n",
       "      <th></th>\n",
       "    </tr>\n",
       "  </thead>\n",
       "  <tbody>\n",
       "    <tr>\n",
       "      <th>0 a 2</th>\n",
       "      <td>59</td>\n",
       "      <td>174</td>\n",
       "      <td>283</td>\n",
       "      <td>1348</td>\n",
       "      <td>3977</td>\n",
       "      <td>3760</td>\n",
       "      <td>1523</td>\n",
       "      <td>258</td>\n",
       "      <td>10</td>\n",
       "    </tr>\n",
       "    <tr>\n",
       "      <th>3 a 6</th>\n",
       "      <td>12</td>\n",
       "      <td>82</td>\n",
       "      <td>352</td>\n",
       "      <td>2512</td>\n",
       "      <td>3989</td>\n",
       "      <td>2679</td>\n",
       "      <td>753</td>\n",
       "      <td>83</td>\n",
       "      <td>3</td>\n",
       "    </tr>\n",
       "    <tr>\n",
       "      <th>7 a 9</th>\n",
       "      <td>3</td>\n",
       "      <td>31</td>\n",
       "      <td>193</td>\n",
       "      <td>847</td>\n",
       "      <td>759</td>\n",
       "      <td>415</td>\n",
       "      <td>90</td>\n",
       "      <td>5</td>\n",
       "      <td>0</td>\n",
       "    </tr>\n",
       "    <tr>\n",
       "      <th>10 a 14</th>\n",
       "      <td>0</td>\n",
       "      <td>24</td>\n",
       "      <td>178</td>\n",
       "      <td>1479</td>\n",
       "      <td>1028</td>\n",
       "      <td>447</td>\n",
       "      <td>139</td>\n",
       "      <td>22</td>\n",
       "      <td>1</td>\n",
       "    </tr>\n",
       "    <tr>\n",
       "      <th>Mais que 14</th>\n",
       "      <td>0</td>\n",
       "      <td>8</td>\n",
       "      <td>61</td>\n",
       "      <td>1269</td>\n",
       "      <td>739</td>\n",
       "      <td>312</td>\n",
       "      <td>65</td>\n",
       "      <td>1</td>\n",
       "      <td>0</td>\n",
       "    </tr>\n",
       "    <tr>\n",
       "      <th>Nan</th>\n",
       "      <td>1</td>\n",
       "      <td>0</td>\n",
       "      <td>0</td>\n",
       "      <td>0</td>\n",
       "      <td>1</td>\n",
       "      <td>0</td>\n",
       "      <td>0</td>\n",
       "      <td>0</td>\n",
       "      <td>0</td>\n",
       "    </tr>\n",
       "  </tbody>\n",
       "</table>\n",
       "</div>"
      ],
      "text/plain": [
       "idade        0 a 15  15 a 30  30 a 45  45 a 60  60 a 70  70 a 80  80 a 90  \\\n",
       "Temest                                                                      \n",
       "0 a 2            59      174      283     1348     3977     3760     1523   \n",
       "3 a 6            12       82      352     2512     3989     2679      753   \n",
       "7 a 9             3       31      193      847      759      415       90   \n",
       "10 a 14           0       24      178     1479     1028      447      139   \n",
       "Mais que 14       0        8       61     1269      739      312       65   \n",
       "Nan               1        0        0        0        1        0        0   \n",
       "\n",
       "idade        90 a 100  Mais que 100  \n",
       "Temest                               \n",
       "0 a 2             258            10  \n",
       "3 a 6              83             3  \n",
       "7 a 9               5             0  \n",
       "10 a 14            22             1  \n",
       "Mais que 14         1             0  \n",
       "Nan                 0             0  "
      ]
     },
     "execution_count": 74,
     "metadata": {},
     "output_type": "execute_result"
    }
   ],
   "source": [
    "print('Tempo de estudo de todos em relação a idade')\n",
    "Temestap = pd.crosstab(df301.Temest[pnad2001.v9122=='Sim'], df001m.idade)\n",
    "Temestap"
   ]
  },
  {
   "cell_type": "code",
   "execution_count": 75,
   "metadata": {
    "collapsed": false
   },
   "outputs": [
    {
     "name": "stdout",
     "output_type": "stream",
     "text": [
      "Tempo de estudo de todos em relação a idade\n"
     ]
    },
    {
     "data": {
      "text/html": [
       "<div>\n",
       "<table border=\"1\" class=\"dataframe\">\n",
       "  <thead>\n",
       "    <tr style=\"text-align: right;\">\n",
       "      <th>idade</th>\n",
       "      <th>0 a 15</th>\n",
       "      <th>15 a 30</th>\n",
       "      <th>30 a 45</th>\n",
       "      <th>45 a 60</th>\n",
       "      <th>60 a 70</th>\n",
       "      <th>70 a 80</th>\n",
       "      <th>80 a 90</th>\n",
       "      <th>90 a 100</th>\n",
       "      <th>Mais que 100</th>\n",
       "    </tr>\n",
       "    <tr>\n",
       "      <th>Temest</th>\n",
       "      <th></th>\n",
       "      <th></th>\n",
       "      <th></th>\n",
       "      <th></th>\n",
       "      <th></th>\n",
       "      <th></th>\n",
       "      <th></th>\n",
       "      <th></th>\n",
       "      <th></th>\n",
       "    </tr>\n",
       "  </thead>\n",
       "  <tbody>\n",
       "    <tr>\n",
       "      <th>0 a 2</th>\n",
       "      <td>70556</td>\n",
       "      <td>7257</td>\n",
       "      <td>10305</td>\n",
       "      <td>11411</td>\n",
       "      <td>7087</td>\n",
       "      <td>4811</td>\n",
       "      <td>1935</td>\n",
       "      <td>309</td>\n",
       "      <td>26</td>\n",
       "    </tr>\n",
       "    <tr>\n",
       "      <th>3 a 6</th>\n",
       "      <td>31411</td>\n",
       "      <td>25562</td>\n",
       "      <td>25131</td>\n",
       "      <td>18624</td>\n",
       "      <td>7329</td>\n",
       "      <td>3719</td>\n",
       "      <td>1090</td>\n",
       "      <td>123</td>\n",
       "      <td>10</td>\n",
       "    </tr>\n",
       "    <tr>\n",
       "      <th>7 a 9</th>\n",
       "      <td>7452</td>\n",
       "      <td>30098</td>\n",
       "      <td>16200</td>\n",
       "      <td>6256</td>\n",
       "      <td>1393</td>\n",
       "      <td>587</td>\n",
       "      <td>144</td>\n",
       "      <td>12</td>\n",
       "      <td>3</td>\n",
       "    </tr>\n",
       "    <tr>\n",
       "      <th>10 a 14</th>\n",
       "      <td>29</td>\n",
       "      <td>37050</td>\n",
       "      <td>20592</td>\n",
       "      <td>7647</td>\n",
       "      <td>1573</td>\n",
       "      <td>579</td>\n",
       "      <td>195</td>\n",
       "      <td>36</td>\n",
       "      <td>10</td>\n",
       "    </tr>\n",
       "    <tr>\n",
       "      <th>Mais que 14</th>\n",
       "      <td>85</td>\n",
       "      <td>6733</td>\n",
       "      <td>9014</td>\n",
       "      <td>4989</td>\n",
       "      <td>996</td>\n",
       "      <td>359</td>\n",
       "      <td>81</td>\n",
       "      <td>3</td>\n",
       "      <td>4</td>\n",
       "    </tr>\n",
       "    <tr>\n",
       "      <th>Nan</th>\n",
       "      <td>13</td>\n",
       "      <td>2</td>\n",
       "      <td>6</td>\n",
       "      <td>2</td>\n",
       "      <td>1</td>\n",
       "      <td>1</td>\n",
       "      <td>0</td>\n",
       "      <td>0</td>\n",
       "      <td>0</td>\n",
       "    </tr>\n",
       "  </tbody>\n",
       "</table>\n",
       "</div>"
      ],
      "text/plain": [
       "idade        0 a 15  15 a 30  30 a 45  45 a 60  60 a 70  70 a 80  80 a 90  \\\n",
       "Temest                                                                      \n",
       "0 a 2         70556     7257    10305    11411     7087     4811     1935   \n",
       "3 a 6         31411    25562    25131    18624     7329     3719     1090   \n",
       "7 a 9          7452    30098    16200     6256     1393      587      144   \n",
       "10 a 14          29    37050    20592     7647     1573      579      195   \n",
       "Mais que 14      85     6733     9014     4989      996      359       81   \n",
       "Nan              13        2        6        2        1        1        0   \n",
       "\n",
       "idade        90 a 100  Mais que 100  \n",
       "Temest                               \n",
       "0 a 2             309            26  \n",
       "3 a 6             123            10  \n",
       "7 a 9              12             3  \n",
       "10 a 14            36            10  \n",
       "Mais que 14         3             4  \n",
       "Nan                 0             0  "
      ]
     },
     "execution_count": 75,
     "metadata": {},
     "output_type": "execute_result"
    }
   ],
   "source": [
    "print('Tempo de estudo de todos em relação a idade')\n",
    "pd.crosstab(df301.Temest, df001m.idade)"
   ]
  },
  {
   "cell_type": "code",
   "execution_count": 76,
   "metadata": {
    "collapsed": false
   },
   "outputs": [
    {
     "data": {
      "image/png": "[encoded data removed]",
      "text/plain": [
       "<matplotlib.figure.Figure at 0x1be4dff8390>"
      ]
     },
     "metadata": {},
     "output_type": "display_data"
    }
   ],
   "source": [
    "plot = (pnad2001.v4703[pnad2001.v9122=='Sim']).plot.hist(bins=faixa4750, title='Histograma de tempo de estudo dos aposentados', figsize=(6,6), normed = 1)"
   ]
  },
  {
   "cell_type": "code",
   "execution_count": 77,
   "metadata": {
    "collapsed": false
   },
   "outputs": [
    {
     "data": {
      "image/png": "[encoded data removed]",
      "text/plain": [
       "<matplotlib.figure.Figure at 0x1be4dfe23c8>"
      ]
     },
     "metadata": {},
     "output_type": "display_data"
    }
   ],
   "source": [
    "plot = (pnad2001.v4703).plot.hist(bins=faixa4750, title='Histograma de tempo de estudo geral', figsize=(6,6), normed = 1)"
   ]
  },
  {
   "cell_type": "markdown",
   "metadata": {},
   "source": [
    "Em Relação a 2001 é possivel observar que o mesmo fenomeno se repete com a maioria da população sendo pouco educada e esse fato refletindo a razão de faixas de idade."
   ]
  },
  {
   "cell_type": "markdown",
   "metadata": {},
   "source": [
    "___\n",
    "\n",
    "## Dados sobre a idade dos aposentados comparando renda\n",
    "### (Apenas 2014)"
   ]
  },
  {
   "cell_type": "markdown",
   "metadata": {},
   "source": [
    "Por fim a análise de renda poderia refletir alguma diferença na especativa de vida, portanto comparando a renda com a idade da população geral e dos aposentados poderia mostrar alguns dados relevantes"
   ]
  },
  {
   "cell_type": "code",
   "execution_count": 78,
   "metadata": {
    "collapsed": true
   },
   "outputs": [],
   "source": [
    "NF = 60\n",
    "Min = 0\n",
    "Max = 16000\n",
    "\n",
    "Step4750 = (Max-Min)/NF\n",
    "faixa4750 = np.arange(Min, Max, Step4750)"
   ]
  },
  {
   "cell_type": "code",
   "execution_count": 79,
   "metadata": {
    "collapsed": false
   },
   "outputs": [
    {
     "data": {
      "image/png": "[encoded data removed]",
      "text/plain": [
       "<matplotlib.figure.Figure at 0x1be4dd353c8>"
      ]
     },
     "metadata": {},
     "output_type": "display_data"
    }
   ],
   "source": [
    "plot = (pnad2014.V4720[(pnad2014.V9122=='Sim') & (pnad2014.V8005>=10)]).plot.hist(bins=faixa4750, title='Histograma de renda dos aposentados', figsize=(6,6), normed = 1)"
   ]
  },
  {
   "cell_type": "code",
   "execution_count": 80,
   "metadata": {
    "collapsed": false
   },
   "outputs": [
    {
     "data": {
      "image/png": "[encoded data removed]",
      "text/plain": [
       "<matplotlib.figure.Figure at 0x1be043f6080>"
      ]
     },
     "metadata": {},
     "output_type": "display_data"
    }
   ],
   "source": [
    "plot = (pnad2014.V4720[pnad2014.V8005>=10]).plot.hist(bins=faixa4750, title='Histograma de renda Geral', figsize=(6,6), normed = 1)\n"
   ]
  },
  {
   "cell_type": "code",
   "execution_count": 81,
   "metadata": {
    "collapsed": false
   },
   "outputs": [
    {
     "data": {
      "text/plain": [
       "(0, 16000)"
      ]
     },
     "execution_count": 81,
     "metadata": {},
     "output_type": "execute_result"
    },
    {
     "data": {
      "image/png": "[encoded data removed]",
      "text/plain": [
       "<matplotlib.figure.Figure at 0x1be525827f0>"
      ]
     },
     "metadata": {},
     "output_type": "display_data"
    }
   ],
   "source": [
    "plot = (pnad2014.V4720[(pnad2014.V9122=='Sim') & (pnad2014.V8005>=10)]).plot.box(title='Boxplot Renda dos aposentados', figsize=(6,6))\n",
    "plot.set_ylim (0,16000)"
   ]
  },
  {
   "cell_type": "code",
   "execution_count": 82,
   "metadata": {
    "collapsed": false
   },
   "outputs": [
    {
     "data": {
      "text/plain": [
       "(0, 16000)"
      ]
     },
     "execution_count": 82,
     "metadata": {},
     "output_type": "execute_result"
    },
    {
     "data": {
      "image/png": "[encoded data removed]",
      "text/plain": [
       "<matplotlib.figure.Figure at 0x1be525667f0>"
      ]
     },
     "metadata": {},
     "output_type": "display_data"
    }
   ],
   "source": [
    "plot = (pnad2014.V4720[pnad2014.V8005>=10]).plot.box(title='Boxplot Renda Geral', figsize=(6,6))\n",
    "plot.set_ylim (0,16000)"
   ]
  },
  {
   "cell_type": "code",
   "execution_count": 83,
   "metadata": {
    "collapsed": false
   },
   "outputs": [
    {
     "name": "stdout",
     "output_type": "stream",
     "text": [
      "Renda dos aposentados por idade\n"
     ]
    },
    {
     "data": {
      "text/html": [
       "<div>\n",
       "<table border=\"1\" class=\"dataframe\">\n",
       "  <thead>\n",
       "    <tr style=\"text-align: right;\">\n",
       "      <th>idade</th>\n",
       "      <th>0 a 15</th>\n",
       "      <th>15 a 30</th>\n",
       "      <th>30 a 45</th>\n",
       "      <th>45 a 60</th>\n",
       "      <th>60 a 70</th>\n",
       "      <th>70 a 80</th>\n",
       "      <th>80 a 90</th>\n",
       "      <th>90 a 100</th>\n",
       "      <th>Mais que 100</th>\n",
       "    </tr>\n",
       "    <tr>\n",
       "      <th>Renda</th>\n",
       "      <th></th>\n",
       "      <th></th>\n",
       "      <th></th>\n",
       "      <th></th>\n",
       "      <th></th>\n",
       "      <th></th>\n",
       "      <th></th>\n",
       "      <th></th>\n",
       "      <th></th>\n",
       "    </tr>\n",
       "  </thead>\n",
       "  <tbody>\n",
       "    <tr>\n",
       "      <th>até 2000</th>\n",
       "      <td>10</td>\n",
       "      <td>113</td>\n",
       "      <td>543</td>\n",
       "      <td>4303</td>\n",
       "      <td>11281</td>\n",
       "      <td>8582</td>\n",
       "      <td>3342</td>\n",
       "      <td>585</td>\n",
       "      <td>40</td>\n",
       "    </tr>\n",
       "    <tr>\n",
       "      <th>2000-4000</th>\n",
       "      <td>0</td>\n",
       "      <td>1</td>\n",
       "      <td>42</td>\n",
       "      <td>1390</td>\n",
       "      <td>2235</td>\n",
       "      <td>1151</td>\n",
       "      <td>375</td>\n",
       "      <td>52</td>\n",
       "      <td>1</td>\n",
       "    </tr>\n",
       "    <tr>\n",
       "      <th>4000-6000</th>\n",
       "      <td>0</td>\n",
       "      <td>0</td>\n",
       "      <td>13</td>\n",
       "      <td>497</td>\n",
       "      <td>643</td>\n",
       "      <td>312</td>\n",
       "      <td>107</td>\n",
       "      <td>16</td>\n",
       "      <td>0</td>\n",
       "    </tr>\n",
       "    <tr>\n",
       "      <th>6000-8000</th>\n",
       "      <td>0</td>\n",
       "      <td>0</td>\n",
       "      <td>4</td>\n",
       "      <td>265</td>\n",
       "      <td>294</td>\n",
       "      <td>163</td>\n",
       "      <td>40</td>\n",
       "      <td>10</td>\n",
       "      <td>0</td>\n",
       "    </tr>\n",
       "    <tr>\n",
       "      <th>Mais que 8000</th>\n",
       "      <td>0</td>\n",
       "      <td>0</td>\n",
       "      <td>3</td>\n",
       "      <td>309</td>\n",
       "      <td>551</td>\n",
       "      <td>294</td>\n",
       "      <td>117</td>\n",
       "      <td>18</td>\n",
       "      <td>1</td>\n",
       "    </tr>\n",
       "    <tr>\n",
       "      <th>NA</th>\n",
       "      <td>0</td>\n",
       "      <td>2</td>\n",
       "      <td>22</td>\n",
       "      <td>172</td>\n",
       "      <td>398</td>\n",
       "      <td>255</td>\n",
       "      <td>77</td>\n",
       "      <td>12</td>\n",
       "      <td>1</td>\n",
       "    </tr>\n",
       "  </tbody>\n",
       "</table>\n",
       "</div>"
      ],
      "text/plain": [
       "idade          0 a 15  15 a 30  30 a 45  45 a 60  60 a 70  70 a 80  80 a 90  \\\n",
       "Renda                                                                         \n",
       "até 2000           10      113      543     4303    11281     8582     3342   \n",
       "2000-4000           0        1       42     1390     2235     1151      375   \n",
       "4000-6000           0        0       13      497      643      312      107   \n",
       "6000-8000           0        0        4      265      294      163       40   \n",
       "Mais que 8000       0        0        3      309      551      294      117   \n",
       "NA                  0        2       22      172      398      255       77   \n",
       "\n",
       "idade          90 a 100  Mais que 100  \n",
       "Renda                                  \n",
       "até 2000            585            40  \n",
       "2000-4000            52             1  \n",
       "4000-6000            16             0  \n",
       "6000-8000            10             0  \n",
       "Mais que 8000        18             1  \n",
       "NA                   12             1  "
      ]
     },
     "execution_count": 83,
     "metadata": {},
     "output_type": "execute_result"
    }
   ],
   "source": [
    "rendapage = pd.crosstab(df2.Renda[(pnad2014.V8005>=10) & (pnad2014.V9122=='Sim')], df014m.idade)\n",
    "print('Renda dos aposentados por idade')\n",
    "rendapage"
   ]
  },
  {
   "cell_type": "code",
   "execution_count": 84,
   "metadata": {
    "collapsed": false
   },
   "outputs": [
    {
     "name": "stdout",
     "output_type": "stream",
     "text": [
      "Renda dos aposentados por idade\n"
     ]
    },
    {
     "data": {
      "image/png": "[encoded data removed]",
      "text/plain": [
       "<matplotlib.figure.Figure at 0x1be05ca2cf8>"
      ]
     },
     "metadata": {},
     "output_type": "display_data"
    }
   ],
   "source": [
    "print('Renda dos aposentados por idade')\n",
    "plt.plot(pnad2014.V8005[(pnad2014.V8005>=10) & (pnad2014.V9122=='Sim')], pnad2014.V4720[(pnad2014.V8005>=10) & (pnad2014.V9122=='Sim')], 'o')\n",
    "plt.axis([0, 120, 0, 50000])\n",
    "plt.show()"
   ]
  },
  {
   "cell_type": "code",
   "execution_count": 85,
   "metadata": {
    "collapsed": false
   },
   "outputs": [
    {
     "name": "stdout",
     "output_type": "stream",
     "text": [
      "Renda geral por idade\n"
     ]
    },
    {
     "data": {
      "text/html": [
       "<div>\n",
       "<table border=\"1\" class=\"dataframe\">\n",
       "  <thead>\n",
       "    <tr style=\"text-align: right;\">\n",
       "      <th>idade</th>\n",
       "      <th>0 a 15</th>\n",
       "      <th>15 a 30</th>\n",
       "      <th>30 a 45</th>\n",
       "      <th>45 a 60</th>\n",
       "      <th>60 a 70</th>\n",
       "      <th>70 a 80</th>\n",
       "      <th>80 a 90</th>\n",
       "      <th>90 a 100</th>\n",
       "      <th>Mais que 100</th>\n",
       "    </tr>\n",
       "    <tr>\n",
       "      <th>Renda</th>\n",
       "      <th></th>\n",
       "      <th></th>\n",
       "      <th></th>\n",
       "      <th></th>\n",
       "      <th></th>\n",
       "      <th></th>\n",
       "      <th></th>\n",
       "      <th></th>\n",
       "      <th></th>\n",
       "    </tr>\n",
       "  </thead>\n",
       "  <tbody>\n",
       "    <tr>\n",
       "      <th>até 2000</th>\n",
       "      <td>29097</td>\n",
       "      <td>81605</td>\n",
       "      <td>63058</td>\n",
       "      <td>47569</td>\n",
       "      <td>20559</td>\n",
       "      <td>11660</td>\n",
       "      <td>4536</td>\n",
       "      <td>816</td>\n",
       "      <td>56</td>\n",
       "    </tr>\n",
       "    <tr>\n",
       "      <th>2000-4000</th>\n",
       "      <td>17</td>\n",
       "      <td>4711</td>\n",
       "      <td>11712</td>\n",
       "      <td>9007</td>\n",
       "      <td>3379</td>\n",
       "      <td>1382</td>\n",
       "      <td>469</td>\n",
       "      <td>70</td>\n",
       "      <td>2</td>\n",
       "    </tr>\n",
       "    <tr>\n",
       "      <th>4000-6000</th>\n",
       "      <td>1</td>\n",
       "      <td>855</td>\n",
       "      <td>3148</td>\n",
       "      <td>2855</td>\n",
       "      <td>983</td>\n",
       "      <td>374</td>\n",
       "      <td>128</td>\n",
       "      <td>25</td>\n",
       "      <td>1</td>\n",
       "    </tr>\n",
       "    <tr>\n",
       "      <th>6000-8000</th>\n",
       "      <td>0</td>\n",
       "      <td>265</td>\n",
       "      <td>1154</td>\n",
       "      <td>1234</td>\n",
       "      <td>417</td>\n",
       "      <td>190</td>\n",
       "      <td>59</td>\n",
       "      <td>12</td>\n",
       "      <td>0</td>\n",
       "    </tr>\n",
       "    <tr>\n",
       "      <th>Mais que 8000</th>\n",
       "      <td>2</td>\n",
       "      <td>230</td>\n",
       "      <td>1738</td>\n",
       "      <td>1946</td>\n",
       "      <td>858</td>\n",
       "      <td>357</td>\n",
       "      <td>147</td>\n",
       "      <td>21</td>\n",
       "      <td>1</td>\n",
       "    </tr>\n",
       "    <tr>\n",
       "      <th>NA</th>\n",
       "      <td>51</td>\n",
       "      <td>987</td>\n",
       "      <td>1550</td>\n",
       "      <td>1384</td>\n",
       "      <td>643</td>\n",
       "      <td>317</td>\n",
       "      <td>101</td>\n",
       "      <td>20</td>\n",
       "      <td>1</td>\n",
       "    </tr>\n",
       "  </tbody>\n",
       "</table>\n",
       "</div>"
      ],
      "text/plain": [
       "idade          0 a 15  15 a 30  30 a 45  45 a 60  60 a 70  70 a 80  80 a 90  \\\n",
       "Renda                                                                         \n",
       "até 2000        29097    81605    63058    47569    20559    11660     4536   \n",
       "2000-4000          17     4711    11712     9007     3379     1382      469   \n",
       "4000-6000           1      855     3148     2855      983      374      128   \n",
       "6000-8000           0      265     1154     1234      417      190       59   \n",
       "Mais que 8000       2      230     1738     1946      858      357      147   \n",
       "NA                 51      987     1550     1384      643      317      101   \n",
       "\n",
       "idade          90 a 100  Mais que 100  \n",
       "Renda                                  \n",
       "até 2000            816            56  \n",
       "2000-4000            70             2  \n",
       "4000-6000            25             1  \n",
       "6000-8000            12             0  \n",
       "Mais que 8000        21             1  \n",
       "NA                   20             1  "
      ]
     },
     "execution_count": 85,
     "metadata": {},
     "output_type": "execute_result"
    }
   ],
   "source": [
    "rendage = pd.crosstab(df2.Renda[(pnad2014.V8005>=10)], df014m.idade)\n",
    "print('Renda geral por idade')\n",
    "rendage"
   ]
  },
  {
   "cell_type": "code",
   "execution_count": 86,
   "metadata": {
    "collapsed": false
   },
   "outputs": [
    {
     "name": "stdout",
     "output_type": "stream",
     "text": [
      "Renda geral por idade\n"
     ]
    },
    {
     "data": {
      "image/png": "[encoded data removed]",
      "text/plain": [
       "<matplotlib.figure.Figure at 0x1be05cc8080>"
      ]
     },
     "metadata": {},
     "output_type": "display_data"
    }
   ],
   "source": [
    "print('Renda geral por idade')\n",
    "plt.plot(pnad2014.V8005[(pnad2014.V8005>=10)], pnad2014.V4720[(pnad2014.V8005>=10)], 'o')\n",
    "plt.axis([0, 120, 0, 50000])\n",
    "plt.show()"
   ]
  },
  {
   "cell_type": "markdown",
   "metadata": {},
   "source": [
    "A partir dos dados coletados novamente temos uma surpresa verificando que pessoas com rendas menores tendem a sobreviver mais, porém novamente o mesmo efeito do tempo de educação se da aqui, uma vez que o numero de pessoas com renda baixa é muito maior que as pessoas de renda media e alta."
   ]
  },
  {
   "cell_type": "markdown",
   "metadata": {},
   "source": [
    "Em ultimo caso, o ultimo dado análisado foi a distribuição da renda dos apsoentados pelas Regiões Brasileiras para saber em que Região os aposentados possuem uma maior representação economica e custo para o estado."
   ]
  },
  {
   "cell_type": "code",
   "execution_count": 87,
   "metadata": {
    "collapsed": false
   },
   "outputs": [
    {
     "name": "stdout",
     "output_type": "stream",
     "text": [
      "Renda dos aposentados por Região\n"
     ]
    },
    {
     "data": {
      "text/html": [
       "<div>\n",
       "<table border=\"1\" class=\"dataframe\">\n",
       "  <thead>\n",
       "    <tr style=\"text-align: right;\">\n",
       "      <th>Regiao</th>\n",
       "      <th>Norte</th>\n",
       "      <th>Nordeste</th>\n",
       "      <th>Sudeste</th>\n",
       "      <th>Sul</th>\n",
       "      <th>Centro_Oeste</th>\n",
       "    </tr>\n",
       "    <tr>\n",
       "      <th>Renda</th>\n",
       "      <th></th>\n",
       "      <th></th>\n",
       "      <th></th>\n",
       "      <th></th>\n",
       "      <th></th>\n",
       "    </tr>\n",
       "  </thead>\n",
       "  <tbody>\n",
       "    <tr>\n",
       "      <th>até 2000</th>\n",
       "      <td>3340</td>\n",
       "      <td>9238</td>\n",
       "      <td>8425</td>\n",
       "      <td>5467</td>\n",
       "      <td>2329</td>\n",
       "    </tr>\n",
       "    <tr>\n",
       "      <th>2000-4000</th>\n",
       "      <td>327</td>\n",
       "      <td>856</td>\n",
       "      <td>2249</td>\n",
       "      <td>1388</td>\n",
       "      <td>427</td>\n",
       "    </tr>\n",
       "    <tr>\n",
       "      <th>4000-6000</th>\n",
       "      <td>109</td>\n",
       "      <td>274</td>\n",
       "      <td>654</td>\n",
       "      <td>402</td>\n",
       "      <td>149</td>\n",
       "    </tr>\n",
       "    <tr>\n",
       "      <th>6000-8000</th>\n",
       "      <td>52</td>\n",
       "      <td>140</td>\n",
       "      <td>307</td>\n",
       "      <td>196</td>\n",
       "      <td>81</td>\n",
       "    </tr>\n",
       "    <tr>\n",
       "      <th>Mais que 8000</th>\n",
       "      <td>72</td>\n",
       "      <td>200</td>\n",
       "      <td>484</td>\n",
       "      <td>328</td>\n",
       "      <td>209</td>\n",
       "    </tr>\n",
       "    <tr>\n",
       "      <th>NA</th>\n",
       "      <td>89</td>\n",
       "      <td>210</td>\n",
       "      <td>418</td>\n",
       "      <td>160</td>\n",
       "      <td>62</td>\n",
       "    </tr>\n",
       "  </tbody>\n",
       "</table>\n",
       "</div>"
      ],
      "text/plain": [
       "Regiao         Norte  Nordeste  Sudeste   Sul  Centro_Oeste\n",
       "Renda                                                      \n",
       "até 2000        3340      9238     8425  5467          2329\n",
       "2000-4000        327       856     2249  1388           427\n",
       "4000-6000        109       274      654   402           149\n",
       "6000-8000         52       140      307   196            81\n",
       "Mais que 8000     72       200      484   328           209\n",
       "NA                89       210      418   160            62"
      ]
     },
     "execution_count": 87,
     "metadata": {},
     "output_type": "execute_result"
    }
   ],
   "source": [
    "rendloc = pd.crosstab(df2.Renda[(pnad2014.V9122=='Sim')], df114.Regiao)\n",
    "print('Renda dos aposentados por Região')\n",
    "rendloc"
   ]
  },
  {
   "cell_type": "code",
   "execution_count": 88,
   "metadata": {
    "collapsed": false
   },
   "outputs": [
    {
     "data": {
      "image/png": "[encoded data removed]",
      "text/plain": [
       "<matplotlib.figure.Figure at 0x1be05cbb048>"
      ]
     },
     "metadata": {},
     "output_type": "display_data"
    },
    {
     "data": {
      "image/png": "[encoded data removed]",
      "text/plain": [
       "<matplotlib.figure.Figure at 0x1be50281c88>"
      ]
     },
     "metadata": {},
     "output_type": "display_data"
    },
    {
     "data": {
      "image/png": "[encoded data removed]",
      "text/plain": [
       "<matplotlib.figure.Figure at 0x1be05ca5358>"
      ]
     },
     "metadata": {},
     "output_type": "display_data"
    },
    {
     "data": {
      "image/png": "[encoded data removed]",
      "text/plain": [
       "<matplotlib.figure.Figure at 0x1be4f7bfc50>"
      ]
     },
     "metadata": {},
     "output_type": "display_data"
    },
    {
     "data": {
      "image/png": "[encoded data removed]",
      "text/plain": [
       "<matplotlib.figure.Figure at 0x1be0433d668>"
      ]
     },
     "metadata": {},
     "output_type": "display_data"
    }
   ],
   "source": [
    "rendloc.Centro_Oeste.plot(kind='pie', figsize=(4,4), subplots=True)\n",
    "plt.show()\n",
    "rendloc.Sul.plot(kind='pie', figsize=(4,4), subplots=True)\n",
    "plt.show()\n",
    "rendloc.Sudeste.plot(kind='pie', figsize=(4,4), subplots=True)\n",
    "plt.show()\n",
    "rendloc.Norte.plot(kind='pie', figsize=(4,4), subplots=True)\n",
    "plt.show()\n",
    "rendloc.Nordeste.plot(kind='pie', figsize=(4,4), subplots=True)\n",
    "plt.show()"
   ]
  },
  {
   "cell_type": "markdown",
   "metadata": {
    "collapsed": false
   },
   "source": [
    "___\n",
    "## Conclusão "
   ]
  },
  {
   "cell_type": "markdown",
   "metadata": {
    "collapsed": true
   },
   "source": [
    "Os dados da Pnad apesar de não serem perfeitos para esse tipo de pesquisa permitiram conclusões muito interessantes, de maneira geral, nenhum fator afeta nitidamente a espectativa de vida de maneira a se destacar, provando que pesquisas que falam de grandes relações entre a aposentadoria e a redução da espectativa de vida podem estar distorcidas ou inprecisa.\n",
    "\n",
    "No caso da pesquisa análisada \"Work Longer, Live_Healthier\" já apresenta algumas inseguranças sobre os dados que apresenta e mostra que as variações, apaesar de relevantes, não são tão drasticas, como algumas noticias fazem parecer.\n",
    "\n",
    "Ao mesmo tempo é importante destacar que a inserção tecnologica foi o fator que mais se destacou em relação a espectativa de vida, mostrando um aumento em cerca de 5% na razão entre as faixas de idade dos que estão inseridos tecnologicamente e os que não estão."
   ]
  }
 ],
 "metadata": {
  "anaconda-cloud": {},
  "kernelspec": {
   "display_name": "Python 3",
   "language": "python",
   "name": "python3"
  },
  "language_info": {
   "codemirror_mode": {
    "name": "ipython",
    "version": 3
   },
   "file_extension": ".py",
   "mimetype": "text/x-python",
   "name": "python",
   "nbconvert_exporter": "python",
   "pygments_lexer": "ipython3",
   "version": "3.5.2"
  }
 },
 "nbformat": 4,
 "nbformat_minor": 0
}
